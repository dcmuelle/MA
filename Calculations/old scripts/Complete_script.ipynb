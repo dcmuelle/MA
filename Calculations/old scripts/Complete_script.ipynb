{
 "cells": [
  {
   "cell_type": "code",
   "execution_count": 1275,
   "id": "offensive-polls",
   "metadata": {},
   "outputs": [],
   "source": [
    "import pandas as pd\n",
    "import numpy as np\n",
    "import matplotlib.pyplot as plt\n",
    "import os\n",
    "import matplotlib.dates as mdates"
   ]
  },
  {
   "cell_type": "code",
   "execution_count": 1276,
   "id": "metallic-technology",
   "metadata": {},
   "outputs": [],
   "source": [
    "from Battery_dispatch_function import BatteryDispatch"
   ]
  },
  {
   "cell_type": "code",
   "execution_count": 1277,
   "id": "occupational-disposition",
   "metadata": {},
   "outputs": [],
   "source": [
    "plt.rcParams[\"figure.figsize\"] = (15,8) #set size of plot\n",
    "plt.rcParams.update({'font.size': 22})"
   ]
  },
  {
   "cell_type": "code",
   "execution_count": 1278,
   "id": "rotary-street",
   "metadata": {},
   "outputs": [],
   "source": [
    "os.chdir('/home/MA')"
   ]
  },
  {
   "cell_type": "markdown",
   "id": "national-dynamics",
   "metadata": {},
   "source": [
    "## Define Parameter"
   ]
  },
  {
   "cell_type": "markdown",
   "id": "subsequent-driver",
   "metadata": {},
   "source": [
    "Emissions of grid mix at consumer level are taken from https://www.bafu.admin.ch/bafu/de/home/themen/klima/klimawandel--fragen-und-antworten.html#:~:text=Die%20Kennzahlen%20f%C3%BCr%20die%20verschiedenen,)%20(relevant%20f%C3%BCr%20volkswirtschaftliche%20Betrachtungen)"
   ]
  },
  {
   "cell_type": "code",
   "execution_count": 1279,
   "id": "burning-morris",
   "metadata": {},
   "outputs": [],
   "source": [
    "grid_emissions_CH= 181.5 # g CO2/kWh"
   ]
  },
  {
   "cell_type": "code",
   "execution_count": 1280,
   "id": "divine-checkout",
   "metadata": {},
   "outputs": [],
   "source": [
    "battery_sizes = [0, 6, 12, 18, 24, 30]"
   ]
  },
  {
   "cell_type": "code",
   "execution_count": 1281,
   "id": "foster-authorization",
   "metadata": {},
   "outputs": [],
   "source": [
    "conv_eff = 0.17 # 2020 slide 7 on https://www.ise.fraunhofer.de/content/dam/ise/de/documents/publications/studies/Photovoltaics-Report.pdf"
   ]
  },
  {
   "cell_type": "markdown",
   "id": "conscious-coach",
   "metadata": {},
   "source": [
    "Define PV sizing **HERE**"
   ]
  },
  {
   "cell_type": "code",
   "execution_count": 1282,
   "id": "severe-vanilla",
   "metadata": {},
   "outputs": [],
   "source": [
    "PV_size = 6 #kW_p"
   ]
  },
  {
   "cell_type": "markdown",
   "id": "identified-tonight",
   "metadata": {},
   "source": [
    "According to https://www.energieheld.de/solaranlage/photovoltaik and https://www.energieheld.ch/solaranlagen/photovoltaik#:~:text=Rechnen%20Sie%20im%20Durchschnitt%20etwa,dieser%20Gr%C3%B6sse%20installieren%20zu%20k%C3%B6nnen, 6 m2 are required per kW_p"
   ]
  },
  {
   "cell_type": "code",
   "execution_count": 1283,
   "id": "permanent-library",
   "metadata": {},
   "outputs": [],
   "source": [
    "size = 6*PV_size # m2 necessary for 6 kW_p"
   ]
  },
  {
   "cell_type": "code",
   "execution_count": 1284,
   "id": "varying-review",
   "metadata": {},
   "outputs": [],
   "source": [
    "HW_boiler_eff = 1\n",
    "HP_COP = 3.1\n",
    "AC_EER = 8.5"
   ]
  },
  {
   "cell_type": "code",
   "execution_count": 1286,
   "id": "accepting-cedar",
   "metadata": {},
   "outputs": [],
   "source": [
    "max_c_charge = 0.25\n",
    "max_c_discharge = 0.5"
   ]
  },
  {
   "cell_type": "markdown",
   "id": "endless-router",
   "metadata": {},
   "source": [
    "Roundtrip efficiency solar battery: 85% (check alternative sources) https://www.homerenergy.com/products/pro/docs/latest/battery_roundtrip_efficiency.html#:~:text=The%20battery%20round%2Dtrip%20efficiency,Typically%20it%20is%20about%2080%25.\n",
    "Assumption: Losses occur during discharging only (Charging efficiency is 99% https://www.powertechsystems.eu/home/tech-corner/lithium-ion-battery-advantages/)"
   ]
  },
  {
   "cell_type": "code",
   "execution_count": 1287,
   "id": "floral-nickel",
   "metadata": {},
   "outputs": [],
   "source": [
    "eta_discharge = 0.85"
   ]
  },
  {
   "cell_type": "code",
   "execution_count": 1288,
   "id": "accompanied-boulder",
   "metadata": {},
   "outputs": [],
   "source": [
    "PV_lifetime = 25 #years"
   ]
  },
  {
   "cell_type": "code",
   "execution_count": 1289,
   "id": "noble-transcription",
   "metadata": {},
   "outputs": [],
   "source": [
    "battery_lifetime = 15 # years"
   ]
  },
  {
   "cell_type": "markdown",
   "id": "identical-omaha",
   "metadata": {},
   "source": [
    "Battery production energy intensity from https://www.researchgate.net/publication/331837767_The_energetic_implications_of_introducing_lithium-ion_batteries_into_distributed_photovoltaic_systems"
   ]
  },
  {
   "cell_type": "code",
   "execution_count": 1290,
   "id": "dramatic-opening",
   "metadata": {},
   "outputs": [],
   "source": [
    "elec_battery_prod = 95.5 # kwh_el/kWh_n"
   ]
  },
  {
   "cell_type": "markdown",
   "id": "behavioral-bobby",
   "metadata": {},
   "source": [
    "Assumption: Battery production in China\n",
    "at 637 g CO2/kWh\n",
    "https://www.mdpi.com/1996-1073/14/4/961/pdf"
   ]
  },
  {
   "cell_type": "code",
   "execution_count": 1291,
   "id": "graphic-recovery",
   "metadata": {},
   "outputs": [],
   "source": [
    "CO2_intensity_China = 637"
   ]
  },
  {
   "cell_type": "code",
   "execution_count": 1292,
   "id": "universal-blast",
   "metadata": {},
   "outputs": [],
   "source": [
    "electricity_PV_production = 1597 # kWh_el kWp-1"
   ]
  },
  {
   "cell_type": "markdown",
   "id": "linear-wound",
   "metadata": {},
   "source": [
    "Methodology based on this paper: https://www.researchgate.net/publication/331837767_The_energetic_implications_of_introducing_lithium-ion_batteries_into_distributed_photovoltaic_systems"
   ]
  },
  {
   "cell_type": "markdown",
   "id": "cooked-tuner",
   "metadata": {},
   "source": [
    "Get local data from https://re.jrc.ec.europa.eu/pvg_tools/en/#HR\n",
    "for years 2010-2016 to average yearly variability\n",
    "Solar panels were assumed to be 46 inclined towards south to maximize yearly yield without the need for sophisticated mechanic installations."
   ]
  },
  {
   "cell_type": "markdown",
   "id": "complete-modern",
   "metadata": {},
   "source": [
    "Read data into dataframe"
   ]
  },
  {
   "cell_type": "code",
   "execution_count": 1293,
   "id": "military-holder",
   "metadata": {},
   "outputs": [],
   "source": [
    "meteo_data = pd.read_csv('Data/timeseries_ZRH.csv')"
   ]
  },
  {
   "cell_type": "code",
   "execution_count": 1294,
   "id": "laughing-programming",
   "metadata": {},
   "outputs": [],
   "source": [
    "load = pd.read_csv('Data/household_data_60min.csv')"
   ]
  },
  {
   "cell_type": "code",
   "execution_count": 1295,
   "id": "blind-steel",
   "metadata": {},
   "outputs": [],
   "source": [
    "load['Date/Time'] = pd.to_datetime(load['Date/Time'], format=' %m/%d  %H:%M:%S')"
   ]
  },
  {
   "cell_type": "code",
   "execution_count": 1296,
   "id": "welcome-plumbing",
   "metadata": {},
   "outputs": [],
   "source": [
    "load = load.set_index([load['Date/Time'].dt.month, load['Date/Time'].dt.day, load['Date/Time'].dt.hour])"
   ]
  },
  {
   "cell_type": "code",
   "execution_count": 1297,
   "id": "dominican-reducing",
   "metadata": {},
   "outputs": [],
   "source": [
    "load.index.names = [\"month\", \"day\", \"hour\"]"
   ]
  },
  {
   "cell_type": "code",
   "execution_count": 1298,
   "id": "proprietary-secondary",
   "metadata": {},
   "outputs": [],
   "source": [
    "load['Electricity demand [kWh](Hourly) '] = load['Electricity demand [J](Hourly) ']/3600000 "
   ]
  },
  {
   "cell_type": "code",
   "execution_count": 1299,
   "id": "downtown-dollar",
   "metadata": {},
   "outputs": [],
   "source": [
    "load['Electricity for Space Heating [kWh]'] = load['Space Heating demand [J](Hourly)']/HP_COP/3600000"
   ]
  },
  {
   "cell_type": "code",
   "execution_count": 1300,
   "id": "selected-deviation",
   "metadata": {},
   "outputs": [],
   "source": [
    "load['Electricity for Hot Water [kWh]'] = load['Hot water demand [J](Hourly)']/HW_boiler_eff/3600000"
   ]
  },
  {
   "cell_type": "code",
   "execution_count": 1301,
   "id": "adult-indiana",
   "metadata": {},
   "outputs": [],
   "source": [
    "load['Electricity for Space Cooling [kWh]'] = load['Space cooling demand [J](Hourly)']/AC_EER/3600000"
   ]
  },
  {
   "cell_type": "code",
   "execution_count": 1302,
   "id": "opposite-payday",
   "metadata": {},
   "outputs": [],
   "source": [
    "load['Total Electricity'] = load['Electricity demand [kWh](Hourly) '] + load['Electricity for Space Heating [kWh]'] + load['Electricity for Hot Water [kWh]'] + load['Electricity for Space Cooling [kWh]']"
   ]
  },
  {
   "cell_type": "markdown",
   "id": "focused-internet",
   "metadata": {},
   "source": [
    "Let's also compare loads where no AC is installed, which is the current state of most Swiss homes"
   ]
  },
  {
   "cell_type": "code",
   "execution_count": 1303,
   "id": "furnished-congress",
   "metadata": {},
   "outputs": [],
   "source": [
    "load['Total Electricity without AC'] = load['Electricity demand [kWh](Hourly) '] + load['Electricity for Space Heating [kWh]'] + load['Electricity for Hot Water [kWh]']"
   ]
  },
  {
   "cell_type": "markdown",
   "id": "musical-murder",
   "metadata": {},
   "source": [
    "**Filter here for building type!**"
   ]
  },
  {
   "cell_type": "code",
   "execution_count": 1304,
   "id": "silent-export",
   "metadata": {},
   "outputs": [],
   "source": [
    "load_SFH = load[load['Building_type']=='SFH']"
   ]
  },
  {
   "cell_type": "code",
   "execution_count": 1305,
   "id": "concrete-constraint",
   "metadata": {},
   "outputs": [],
   "source": [
    "load_SFH_modern = load_SFH.loc[load_SFH['Construction_period'] == '2011-2015']"
   ]
  },
  {
   "cell_type": "code",
   "execution_count": 1306,
   "id": "reverse-interference",
   "metadata": {},
   "outputs": [
    {
     "data": {
      "text/plain": [
       "17520"
      ]
     },
     "execution_count": 1306,
     "metadata": {},
     "output_type": "execute_result"
    }
   ],
   "source": [
    "len(load_SFH_modern)"
   ]
  },
  {
   "cell_type": "code",
   "execution_count": 1307,
   "id": "looking-manual",
   "metadata": {},
   "outputs": [],
   "source": [
    "load_SFH_modern_full_retrofit = load_SFH_modern.loc[load_SFH_modern['retrofit_scenario'] == 'Full retrofit']"
   ]
  },
  {
   "cell_type": "code",
   "execution_count": 1308,
   "id": "defensive-january",
   "metadata": {},
   "outputs": [],
   "source": [
    "load_SFH_modern_no_retrofit = load_SFH_modern.loc[load_SFH_modern['retrofit_scenario'] == 'No retrofit']"
   ]
  },
  {
   "cell_type": "code",
   "execution_count": 1309,
   "id": "rising-chrome",
   "metadata": {},
   "outputs": [],
   "source": [
    "total_elec_load = load_SFH_modern_full_retrofit['Total Electricity']"
   ]
  },
  {
   "cell_type": "markdown",
   "id": "sitting-wages",
   "metadata": {},
   "source": [
    "Convert time column to datetime format to facilitate data processing"
   ]
  },
  {
   "cell_type": "code",
   "execution_count": 1310,
   "id": "civil-seven",
   "metadata": {},
   "outputs": [],
   "source": [
    "meteo_data['time'] = pd.to_datetime(meteo_data['time'], format='%Y%m%d:%H%M')"
   ]
  },
  {
   "cell_type": "markdown",
   "id": "aging-bristol",
   "metadata": {},
   "source": [
    "Get rid of leap years"
   ]
  },
  {
   "cell_type": "code",
   "execution_count": 1311,
   "id": "eleven-fruit",
   "metadata": {},
   "outputs": [],
   "source": [
    "meteo_data = meteo_data[~((meteo_data.time.dt.month == 2) & (meteo_data.time.dt.day == 29))]"
   ]
  },
  {
   "cell_type": "markdown",
   "id": "limited-chaos",
   "metadata": {},
   "source": [
    "Check length of dataset to be 7 years x 365 days/year x 24 hours/day = 61320 days"
   ]
  },
  {
   "cell_type": "code",
   "execution_count": 1312,
   "id": "average-applicant",
   "metadata": {},
   "outputs": [
    {
     "data": {
      "text/plain": [
       "61320"
      ]
     },
     "execution_count": 1312,
     "metadata": {},
     "output_type": "execute_result"
    }
   ],
   "source": [
    "len(meteo_data)"
   ]
  },
  {
   "cell_type": "markdown",
   "id": "amino-cargo",
   "metadata": {},
   "source": [
    "Check date of maximum value"
   ]
  },
  {
   "cell_type": "code",
   "execution_count": 1313,
   "id": "shaped-indian",
   "metadata": {},
   "outputs": [
    {
     "data": {
      "text/html": [
       "<div>\n",
       "<style scoped>\n",
       "    .dataframe tbody tr th:only-of-type {\n",
       "        vertical-align: middle;\n",
       "    }\n",
       "\n",
       "    .dataframe tbody tr th {\n",
       "        vertical-align: top;\n",
       "    }\n",
       "\n",
       "    .dataframe thead th {\n",
       "        text-align: right;\n",
       "    }\n",
       "</style>\n",
       "<table border=\"1\" class=\"dataframe\">\n",
       "  <thead>\n",
       "    <tr style=\"text-align: right;\">\n",
       "      <th></th>\n",
       "      <th>time</th>\n",
       "      <th>G(i)</th>\n",
       "      <th>H_sun</th>\n",
       "      <th>T2m</th>\n",
       "      <th>WS10m</th>\n",
       "      <th>Int</th>\n",
       "    </tr>\n",
       "  </thead>\n",
       "  <tbody>\n",
       "    <tr>\n",
       "      <th>28236</th>\n",
       "      <td>2013-03-22 12:10:00</td>\n",
       "      <td>1110.61</td>\n",
       "      <td>42.48</td>\n",
       "      <td>11.17</td>\n",
       "      <td>3.6</td>\n",
       "      <td>0</td>\n",
       "    </tr>\n",
       "  </tbody>\n",
       "</table>\n",
       "</div>"
      ],
      "text/plain": [
       "                     time     G(i)  H_sun    T2m  WS10m  Int\n",
       "28236 2013-03-22 12:10:00  1110.61  42.48  11.17    3.6    0"
      ]
     },
     "execution_count": 1313,
     "metadata": {},
     "output_type": "execute_result"
    }
   ],
   "source": [
    "meteo_data[meteo_data['G(i)'] == meteo_data['G(i)'].max()]"
   ]
  },
  {
   "cell_type": "markdown",
   "id": "endless-stationery",
   "metadata": {},
   "source": [
    "This is the absolute amount of radiation incident on a solar cell in Zurich without accounting for the conversion efficiency. \n",
    "As expected, it occurs on the 22th of March, the date where the sun's angle is exactly perpendicular to the panel's orientation."
   ]
  },
  {
   "cell_type": "code",
   "execution_count": 1314,
   "id": "fantastic-agent",
   "metadata": {},
   "outputs": [
    {
     "data": {
      "text/plain": [
       "array([2010, 2011, 2012, 2013, 2014, 2015, 2016])"
      ]
     },
     "execution_count": 1314,
     "metadata": {},
     "output_type": "execute_result"
    }
   ],
   "source": [
    "meteo_data.time.dt.year.unique()"
   ]
  },
  {
   "cell_type": "code",
   "execution_count": 1315,
   "id": "automated-horse",
   "metadata": {},
   "outputs": [],
   "source": [
    "year = 2016"
   ]
  },
  {
   "cell_type": "code",
   "execution_count": 1316,
   "id": "thick-diameter",
   "metadata": {},
   "outputs": [],
   "source": [
    "meteo_data = meteo_data[meteo_data.time.dt.year == year]\n",
    "hourly_average=meteo_data.groupby([meteo_data[\"time\"].dt.month, meteo_data[\"time\"].dt.day, meteo_data[\"time\"].dt.hour]).mean()\n",
    "hourly_average.index.names = [\"month\", \"day\", \"hour\"]\n",
    "hourly_average['Prod/m2'] = hourly_average['G(i)']*0.17/1000\n",
    "hourly_average['Prod'] = hourly_average['Prod/m2']*size\n",
    "yearly_PV_prod = hourly_average['Prod'].sum()\n",
    "PV_production = hourly_average['Prod']\n",
    "power_balance = pd.DataFrame()\n",
    "power_balance['consumption'] = total_elec_load\n",
    "power_balance['from PV'] = PV_production\n",
    "power_balance['exchange grid'] = PV_production - total_elec_load\n",
    "power_balance['to Grid'] = (PV_production - total_elec_load).clip(lower=0)\n",
    "power_balance['from Grid'] = (total_elec_load - PV_production).clip(lower=0)\n",
    "power_balance = power_balance.fillna(0)"
   ]
  },
  {
   "cell_type": "markdown",
   "id": "surprising-prediction",
   "metadata": {},
   "source": [
    "## CO$_2$ calculations"
   ]
  },
  {
   "cell_type": "markdown",
   "id": "concrete-finnish",
   "metadata": {},
   "source": [
    "### CO2 savings of PV only"
   ]
  },
  {
   "cell_type": "markdown",
   "id": "adverse-architect",
   "metadata": {},
   "source": [
    "Yearly energy self consumed, therefore reduced consumption from grid"
   ]
  },
  {
   "cell_type": "code",
   "execution_count": 1317,
   "id": "prepared-darwin",
   "metadata": {},
   "outputs": [],
   "source": [
    "self_consumption_kWh = sum(power_balance['consumption'] - power_balance['from Grid'])"
   ]
  },
  {
   "cell_type": "code",
   "execution_count": 1318,
   "id": "careful-jacket",
   "metadata": {},
   "outputs": [],
   "source": [
    "total_CO2_PV_prod = electricity_PV_production * PV_size * CO2_intensity_China"
   ]
  },
  {
   "cell_type": "code",
   "execution_count": 1319,
   "id": "inside-hours",
   "metadata": {},
   "outputs": [],
   "source": [
    "reduced_CO2_PV_g = grid_emissions_CH * self_consumption_kWh * PV_lifetime - total_CO2_PV_prod"
   ]
  },
  {
   "cell_type": "code",
   "execution_count": 1320,
   "id": "complicated-hebrew",
   "metadata": {},
   "outputs": [],
   "source": [
    "reduced_CO2_PV_t = reduced_CO2_PV_g/1000000"
   ]
  },
  {
   "cell_type": "code",
   "execution_count": 1321,
   "id": "continuing-victorian",
   "metadata": {},
   "outputs": [
    {
     "data": {
      "text/plain": [
       "8.119010162371417"
      ]
     },
     "execution_count": 1321,
     "metadata": {},
     "output_type": "execute_result"
    }
   ],
   "source": [
    "reduced_CO2_PV_t"
   ]
  },
  {
   "cell_type": "markdown",
   "id": "complimentary-completion",
   "metadata": {},
   "source": [
    "### CO2 savings of added batteries"
   ]
  },
  {
   "cell_type": "code",
   "execution_count": 1322,
   "id": "partial-bahrain",
   "metadata": {},
   "outputs": [],
   "source": [
    "results = pd.DataFrame()\n",
    "results['battery_size'] = battery_sizes\n",
    "results['curtailment'] = ''\n",
    "results['yearly_savings_kWh'] = ''"
   ]
  },
  {
   "cell_type": "code",
   "execution_count": 1323,
   "id": "lyric-harassment",
   "metadata": {},
   "outputs": [],
   "source": [
    "for i in range(0, len(results['battery_size'])):\n",
    "    powerbalance = BatteryDispatch(power_balance, results['battery_size'].values[i], eta_discharge, max_c_charge, max_c_discharge)\n",
    "    results['yearly_savings_kWh'].values[i] = -sum(power_balance['Discharging'])\n",
    "    results['curtailment'].values[i] = sum(power_balance['to Grid New'])/sum(power_balance['from PV'])"
   ]
  },
  {
   "cell_type": "code",
   "execution_count": 1324,
   "id": "played-cleaner",
   "metadata": {},
   "outputs": [],
   "source": [
    "results['total_savings_kWh'] = results['yearly_savings_kWh'] * PV_lifetime"
   ]
  },
  {
   "cell_type": "markdown",
   "id": "unnecessary-curve",
   "metadata": {},
   "source": [
    "The yearly CO2 savings by grid consumption reduction in tons amount to:"
   ]
  },
  {
   "cell_type": "code",
   "execution_count": 1325,
   "id": "alpha-paraguay",
   "metadata": {},
   "outputs": [
    {
     "data": {
      "text/html": [
       "<div>\n",
       "<style scoped>\n",
       "    .dataframe tbody tr th:only-of-type {\n",
       "        vertical-align: middle;\n",
       "    }\n",
       "\n",
       "    .dataframe tbody tr th {\n",
       "        vertical-align: top;\n",
       "    }\n",
       "\n",
       "    .dataframe thead th {\n",
       "        text-align: right;\n",
       "    }\n",
       "</style>\n",
       "<table border=\"1\" class=\"dataframe\">\n",
       "  <thead>\n",
       "    <tr style=\"text-align: right;\">\n",
       "      <th></th>\n",
       "      <th>battery_size</th>\n",
       "      <th>curtailment</th>\n",
       "      <th>yearly_savings_kWh</th>\n",
       "      <th>total_savings_kWh</th>\n",
       "    </tr>\n",
       "  </thead>\n",
       "  <tbody>\n",
       "    <tr>\n",
       "      <th>0</th>\n",
       "      <td>0</td>\n",
       "      <td>0.624686</td>\n",
       "      <td>-0</td>\n",
       "      <td>-0</td>\n",
       "    </tr>\n",
       "    <tr>\n",
       "      <th>1</th>\n",
       "      <td>6</td>\n",
       "      <td>0.39518</td>\n",
       "      <td>1629.24</td>\n",
       "      <td>40731</td>\n",
       "    </tr>\n",
       "    <tr>\n",
       "      <th>2</th>\n",
       "      <td>12</td>\n",
       "      <td>0.248861</td>\n",
       "      <td>2667.94</td>\n",
       "      <td>66698.6</td>\n",
       "    </tr>\n",
       "    <tr>\n",
       "      <th>3</th>\n",
       "      <td>18</td>\n",
       "      <td>0.138536</td>\n",
       "      <td>3451.13</td>\n",
       "      <td>86278.3</td>\n",
       "    </tr>\n",
       "    <tr>\n",
       "      <th>4</th>\n",
       "      <td>24</td>\n",
       "      <td>0.0853204</td>\n",
       "      <td>3828.9</td>\n",
       "      <td>95722.6</td>\n",
       "    </tr>\n",
       "    <tr>\n",
       "      <th>5</th>\n",
       "      <td>30</td>\n",
       "      <td>0.0656984</td>\n",
       "      <td>3968.2</td>\n",
       "      <td>99205</td>\n",
       "    </tr>\n",
       "  </tbody>\n",
       "</table>\n",
       "</div>"
      ],
      "text/plain": [
       "   battery_size curtailment yearly_savings_kWh total_savings_kWh\n",
       "0             0    0.624686                 -0                -0\n",
       "1             6     0.39518            1629.24             40731\n",
       "2            12    0.248861            2667.94           66698.6\n",
       "3            18    0.138536            3451.13           86278.3\n",
       "4            24   0.0853204             3828.9           95722.6\n",
       "5            30   0.0656984             3968.2             99205"
      ]
     },
     "execution_count": 1325,
     "metadata": {},
     "output_type": "execute_result"
    }
   ],
   "source": [
    "results"
   ]
  },
  {
   "cell_type": "code",
   "execution_count": 1326,
   "id": "fatty-samoa",
   "metadata": {},
   "outputs": [],
   "source": [
    "results['yearly_savings_CO2'] = results['yearly_savings_kWh'] * grid_emissions_CH / 1000000"
   ]
  },
  {
   "cell_type": "markdown",
   "id": "portable-sewing",
   "metadata": {},
   "source": [
    "For a PV lifetime of 25 years, this corresponds to a gross saving of "
   ]
  },
  {
   "cell_type": "code",
   "execution_count": 1327,
   "id": "outstanding-insurance",
   "metadata": {},
   "outputs": [],
   "source": [
    "results['total_CO2_grid_reduced'] = results['yearly_savings_CO2'] * PV_lifetime"
   ]
  },
  {
   "cell_type": "markdown",
   "id": "regulation-escape",
   "metadata": {},
   "source": [
    "Caclculate total battery energy intensity by accounting for dead capacity (20%) which is not used when cycling to improve performance, and for a replacement after 15 years (battery lifetime)"
   ]
  },
  {
   "cell_type": "code",
   "execution_count": 1328,
   "id": "mature-stuart",
   "metadata": {},
   "outputs": [],
   "source": [
    "results['total_elec_battery_prod'] = 2 * (elec_battery_prod * results['battery_size']/0.8)"
   ]
  },
  {
   "cell_type": "markdown",
   "id": "unexpected-alignment",
   "metadata": {},
   "source": [
    "Net saving of battery deployment"
   ]
  },
  {
   "cell_type": "code",
   "execution_count": 1329,
   "id": "armed-workshop",
   "metadata": {},
   "outputs": [],
   "source": [
    "results['total_CO2_battery_prod'] = results['total_elec_battery_prod'] * CO2_intensity_China / 1000000"
   ]
  },
  {
   "cell_type": "code",
   "execution_count": 1330,
   "id": "union-leonard",
   "metadata": {},
   "outputs": [],
   "source": [
    "results['net_CO2_savings'] = results['total_CO2_grid_reduced'] - results['total_CO2_battery_prod'] "
   ]
  },
  {
   "cell_type": "code",
   "execution_count": 1331,
   "id": "interested-cable",
   "metadata": {},
   "outputs": [],
   "source": [
    "results['stored'] = results.iloc[0]['curtailment'] - results['curtailment']"
   ]
  },
  {
   "cell_type": "code",
   "execution_count": 1332,
   "id": "portable-sigma",
   "metadata": {},
   "outputs": [
    {
     "data": {
      "text/html": [
       "<div>\n",
       "<style scoped>\n",
       "    .dataframe tbody tr th:only-of-type {\n",
       "        vertical-align: middle;\n",
       "    }\n",
       "\n",
       "    .dataframe tbody tr th {\n",
       "        vertical-align: top;\n",
       "    }\n",
       "\n",
       "    .dataframe thead th {\n",
       "        text-align: right;\n",
       "    }\n",
       "</style>\n",
       "<table border=\"1\" class=\"dataframe\">\n",
       "  <thead>\n",
       "    <tr style=\"text-align: right;\">\n",
       "      <th></th>\n",
       "      <th>battery_size</th>\n",
       "      <th>curtailment</th>\n",
       "      <th>yearly_savings_kWh</th>\n",
       "      <th>total_savings_kWh</th>\n",
       "      <th>yearly_savings_CO2</th>\n",
       "      <th>total_CO2_grid_reduced</th>\n",
       "      <th>total_elec_battery_prod</th>\n",
       "      <th>total_CO2_battery_prod</th>\n",
       "      <th>net_CO2_savings</th>\n",
       "      <th>stored</th>\n",
       "    </tr>\n",
       "  </thead>\n",
       "  <tbody>\n",
       "    <tr>\n",
       "      <th>0</th>\n",
       "      <td>0</td>\n",
       "      <td>0.624686</td>\n",
       "      <td>-0</td>\n",
       "      <td>-0</td>\n",
       "      <td>-0</td>\n",
       "      <td>-0</td>\n",
       "      <td>0.0</td>\n",
       "      <td>0.000000</td>\n",
       "      <td>-0</td>\n",
       "      <td>0</td>\n",
       "    </tr>\n",
       "    <tr>\n",
       "      <th>1</th>\n",
       "      <td>6</td>\n",
       "      <td>0.39518</td>\n",
       "      <td>1629.24</td>\n",
       "      <td>40731</td>\n",
       "      <td>0.295707</td>\n",
       "      <td>7.39268</td>\n",
       "      <td>1432.5</td>\n",
       "      <td>0.912502</td>\n",
       "      <td>6.48018</td>\n",
       "      <td>0.229506</td>\n",
       "    </tr>\n",
       "    <tr>\n",
       "      <th>2</th>\n",
       "      <td>12</td>\n",
       "      <td>0.248861</td>\n",
       "      <td>2667.94</td>\n",
       "      <td>66698.6</td>\n",
       "      <td>0.484231</td>\n",
       "      <td>12.1058</td>\n",
       "      <td>2865.0</td>\n",
       "      <td>1.825005</td>\n",
       "      <td>10.2808</td>\n",
       "      <td>0.375825</td>\n",
       "    </tr>\n",
       "    <tr>\n",
       "      <th>3</th>\n",
       "      <td>18</td>\n",
       "      <td>0.138536</td>\n",
       "      <td>3451.13</td>\n",
       "      <td>86278.3</td>\n",
       "      <td>0.62638</td>\n",
       "      <td>15.6595</td>\n",
       "      <td>4297.5</td>\n",
       "      <td>2.737507</td>\n",
       "      <td>12.922</td>\n",
       "      <td>0.48615</td>\n",
       "    </tr>\n",
       "    <tr>\n",
       "      <th>4</th>\n",
       "      <td>24</td>\n",
       "      <td>0.0853204</td>\n",
       "      <td>3828.9</td>\n",
       "      <td>95722.6</td>\n",
       "      <td>0.694946</td>\n",
       "      <td>17.3737</td>\n",
       "      <td>5730.0</td>\n",
       "      <td>3.650010</td>\n",
       "      <td>13.7236</td>\n",
       "      <td>0.539366</td>\n",
       "    </tr>\n",
       "    <tr>\n",
       "      <th>5</th>\n",
       "      <td>30</td>\n",
       "      <td>0.0656984</td>\n",
       "      <td>3968.2</td>\n",
       "      <td>99205</td>\n",
       "      <td>0.720228</td>\n",
       "      <td>18.0057</td>\n",
       "      <td>7162.5</td>\n",
       "      <td>4.562513</td>\n",
       "      <td>13.4432</td>\n",
       "      <td>0.558988</td>\n",
       "    </tr>\n",
       "  </tbody>\n",
       "</table>\n",
       "</div>"
      ],
      "text/plain": [
       "   battery_size curtailment yearly_savings_kWh total_savings_kWh  \\\n",
       "0             0    0.624686                 -0                -0   \n",
       "1             6     0.39518            1629.24             40731   \n",
       "2            12    0.248861            2667.94           66698.6   \n",
       "3            18    0.138536            3451.13           86278.3   \n",
       "4            24   0.0853204             3828.9           95722.6   \n",
       "5            30   0.0656984             3968.2             99205   \n",
       "\n",
       "  yearly_savings_CO2 total_CO2_grid_reduced  total_elec_battery_prod  \\\n",
       "0                 -0                     -0                      0.0   \n",
       "1           0.295707                7.39268                   1432.5   \n",
       "2           0.484231                12.1058                   2865.0   \n",
       "3            0.62638                15.6595                   4297.5   \n",
       "4           0.694946                17.3737                   5730.0   \n",
       "5           0.720228                18.0057                   7162.5   \n",
       "\n",
       "   total_CO2_battery_prod net_CO2_savings    stored  \n",
       "0                0.000000              -0         0  \n",
       "1                0.912502         6.48018  0.229506  \n",
       "2                1.825005         10.2808  0.375825  \n",
       "3                2.737507          12.922   0.48615  \n",
       "4                3.650010         13.7236  0.539366  \n",
       "5                4.562513         13.4432  0.558988  "
      ]
     },
     "execution_count": 1332,
     "metadata": {},
     "output_type": "execute_result"
    }
   ],
   "source": [
    "results"
   ]
  },
  {
   "cell_type": "code",
   "execution_count": 1333,
   "id": "qualified-hammer",
   "metadata": {},
   "outputs": [],
   "source": [
    "results.set_index(\"battery_size\",drop=True,inplace=True)"
   ]
  },
  {
   "cell_type": "code",
   "execution_count": 1334,
   "id": "robust-telephone",
   "metadata": {},
   "outputs": [],
   "source": [
    "results['net_CO2_savings_with_PV'] = results['net_CO2_savings'] + reduced_CO2_PV_t"
   ]
  },
  {
   "cell_type": "markdown",
   "id": "central-translation",
   "metadata": {},
   "source": [
    "## EROI calculations"
   ]
  },
  {
   "cell_type": "markdown",
   "id": "challenging-exclusion",
   "metadata": {},
   "source": [
    "Electricity intensity used for PV production"
   ]
  },
  {
   "cell_type": "code",
   "execution_count": 1335,
   "id": "common-rouge",
   "metadata": {},
   "outputs": [],
   "source": [
    "PV_production_hourly = PV_production"
   ]
  },
  {
   "cell_type": "code",
   "execution_count": 1336,
   "id": "domestic-fleet",
   "metadata": {},
   "outputs": [],
   "source": [
    "yearly_PV_production = sum(PV_production_hourly) "
   ]
  },
  {
   "cell_type": "code",
   "execution_count": 1337,
   "id": "civilian-sullivan",
   "metadata": {},
   "outputs": [],
   "source": [
    "results['total_elec_PV_prod'] = electricity_PV_production * PV_size"
   ]
  },
  {
   "cell_type": "code",
   "execution_count": 1338,
   "id": "instructional-cholesterol",
   "metadata": {},
   "outputs": [],
   "source": [
    "results['ESOI'] = results['total_savings_kWh'].div(results['total_elec_battery_prod'].where(results['total_elec_battery_prod'] != 0, np.nan))"
   ]
  },
  {
   "cell_type": "code",
   "execution_count": 1339,
   "id": "revolutionary-logic",
   "metadata": {},
   "outputs": [],
   "source": [
    "results['EROI_gen'] = yearly_PV_production*PV_lifetime/results['total_elec_PV_prod']"
   ]
  },
  {
   "cell_type": "markdown",
   "id": "differential-claim",
   "metadata": {},
   "source": [
    "**Firstly, calculate the EROI for the case where electricity can be made usful through the distribution grid:**"
   ]
  },
  {
   "cell_type": "code",
   "execution_count": 1340,
   "id": "theoretical-seeker",
   "metadata": {},
   "outputs": [],
   "source": [
    "results['EROI_grid_useful'] = results['EROI_gen']"
   ]
  },
  {
   "cell_type": "markdown",
   "id": "primary-intention",
   "metadata": {},
   "source": [
    "**Now, let's consider the case where power is curtailed unless stored for later use**"
   ]
  },
  {
   "cell_type": "code",
   "execution_count": 1341,
   "id": "constant-intelligence",
   "metadata": {},
   "outputs": [],
   "source": [
    "results['EROI_grid_curtailed'] = (1 - results['stored'] + eta_discharge * results['stored'])/(1/results['EROI_gen']+results['stored']/results['ESOI'])*(1-results['curtailment'])"
   ]
  },
  {
   "cell_type": "code",
   "execution_count": 1342,
   "id": "sized-austria",
   "metadata": {},
   "outputs": [],
   "source": [
    "results['EROI_grid_curtailed'] = results['EROI_grid_curtailed'].fillna(results['EROI_gen']*(1-results['curtailment']))"
   ]
  },
  {
   "cell_type": "code",
   "execution_count": 1343,
   "id": "allied-reply",
   "metadata": {},
   "outputs": [],
   "source": [
    "results['ESOI'] = results['ESOI'].fillna(0)"
   ]
  },
  {
   "cell_type": "code",
   "execution_count": 1344,
   "id": "novel-polyester",
   "metadata": {},
   "outputs": [
    {
     "data": {
      "image/png": "[encoded data removed]",
      "text/plain": [
       "<Figure size 1080x576 with 1 Axes>"
      ]
     },
     "metadata": {
      "needs_background": "light"
     },
     "output_type": "display_data"
    }
   ],
   "source": [
    "results.ESOI[results['ESOI']!=0].plot.bar(xlabel = 'Battery Size', ylabel = 'ESOI', ylim = ([0, 50]));"
   ]
  },
  {
   "cell_type": "code",
   "execution_count": 1345,
   "id": "norwegian-uruguay",
   "metadata": {},
   "outputs": [],
   "source": [
    "results.to_pickle('Calculations/CH/results_2016.pkl')"
   ]
  },
  {
   "cell_type": "code",
   "execution_count": 1346,
   "id": "continuing-replacement",
   "metadata": {},
   "outputs": [
    {
     "data": {
      "image/png": "[encoded data removed]",
      "text/plain": [
       "<Figure size 1080x576 with 1 Axes>"
      ]
     },
     "metadata": {
      "needs_background": "light"
     },
     "output_type": "display_data"
    }
   ],
   "source": [
    "results['EROI_grid_curtailed'].plot.bar(xlabel = 'Battery Size', ylabel = 'EROI_grid');"
   ]
  },
  {
   "cell_type": "code",
   "execution_count": 1347,
   "id": "everyday-blast",
   "metadata": {},
   "outputs": [],
   "source": [
    "curtailment_thresholds = [0, 0.1, 0.2, 0.3, 0.4, 0.5, 0.6, 0.7, 0.8, 0.9]\n",
    "#curtailment_thresholds = [0.4, 0.5]\n",
    "battery_size = list(range(0, 25))"
   ]
  },
  {
   "cell_type": "code",
   "execution_count": 1348,
   "id": "consistent-hampton",
   "metadata": {},
   "outputs": [],
   "source": [
    "pd.options.mode.chained_assignment = None  # default='warn'\n",
    "\n",
    "results = pd.DataFrame()\n",
    "results['curtailment'] = curtailment_thresholds\n",
    "results['optimal_battery_size'] = ''    \n",
    "results['net_CO2_savings'] = ''\n",
    "    \n",
    "for curtailment in curtailment_thresholds:\n",
    "    \n",
    "    temp = 0\n",
    "    max_power_allowed = curtailment*PV_size\n",
    "    PV_production_used = PV_production.copy()\n",
    "    PV_production_used[PV_production_used > max_power_allowed] = max_power_allowed\n",
    "    PV_production_curtailed = PV_production - max_power_allowed\n",
    "    PV_production_curtailed[PV_production_curtailed < 0] = 0\n",
    "    power_balance = pd.DataFrame()\n",
    "    power_balance['consumption'] = total_elec_load\n",
    "    power_balance['from PV'] = PV_production_curtailed\n",
    "    power_balance['exchange grid'] = PV_production_curtailed - total_elec_load\n",
    "    power_balance['to Grid'] = (PV_production_curtailed - total_elec_load).clip(lower=0)\n",
    "    power_balance['from Grid'] = (total_elec_load - PV_production_curtailed).clip(lower=0)\n",
    "    power_balance = power_balance.fillna(0)\n",
    "    \n",
    "    temp = pd.DataFrame()\n",
    "    temp['battery_size'] = battery_size\n",
    "    temp['yearly_savings_kWh'] = ''\n",
    "    temp['yearly_savings_CO2'] = ''\n",
    "    temp['total_CO2_grid_reduced'] = ''\n",
    "    temp['total_CO2_battery_prod'] = ''\n",
    "    temp['net_CO2_savings'] = ''\n",
    "    for i in range(0, len(temp['battery_size'])):\n",
    "        powerbalance = BatteryDispatch(power_balance, temp['battery_size'].values[i], eta_discharge, max_c_charge, max_c_discharge)\n",
    "        temp['yearly_savings_kWh'].values[i] = -sum(power_balance['Discharging'])\n",
    "        temp['yearly_savings_CO2'].values[i] = temp['yearly_savings_kWh'].values[i] * grid_emissions_CH / 1000000\n",
    "        temp['total_CO2_grid_reduced'].values[i] = temp['yearly_savings_CO2'].values[i] * PV_lifetime\n",
    "        temp['total_elec_battery_prod'] = 2 * (elec_battery_prod * temp['battery_size']/0.8)\n",
    "        temp['total_CO2_battery_prod'].values[i] = temp['total_elec_battery_prod'].values[i] * CO2_intensity_China / 1000000\n",
    "        temp['net_CO2_savings'].values[i] =  temp['total_CO2_grid_reduced'].values[i] - temp['total_CO2_battery_prod'].values[i]\n",
    "    temp_max = temp[temp['net_CO2_savings']==temp['net_CO2_savings'].max()]\n",
    "    results.optimal_battery_size[results.curtailment == curtailment] = temp_max['battery_size'].values\n",
    "    results.net_CO2_savings[results.curtailment == curtailment] = temp_max['net_CO2_savings'].values\n"
   ]
  },
  {
   "cell_type": "code",
   "execution_count": 1349,
   "id": "talented-wrist",
   "metadata": {},
   "outputs": [],
   "source": [
    "results.set_index(\"curtailment\",drop=True,inplace=True)"
   ]
  },
  {
   "cell_type": "code",
   "execution_count": 1350,
   "id": "breathing-expense",
   "metadata": {},
   "outputs": [
    {
     "data": {
      "image/png": "[encoded data removed]",
      "text/plain": [
       "<Figure size 1080x576 with 1 Axes>"
      ]
     },
     "metadata": {
      "needs_background": "light"
     },
     "output_type": "display_data"
    }
   ],
   "source": [
    "results.rename(columns={\"optimal_battery_size\": \"Optimal Battery Size (in kWh)\", \"net_CO2_savings\": \"Net CO2 savings (in tons)\"}).plot.bar(xlabel = 'Curtailment threshold', ylabel = 'Values');"
   ]
  },
  {
   "cell_type": "code",
   "execution_count": 1351,
   "id": "synthetic-buddy",
   "metadata": {},
   "outputs": [
    {
     "data": {
      "text/html": [
       "<div>\n",
       "<style scoped>\n",
       "    .dataframe tbody tr th:only-of-type {\n",
       "        vertical-align: middle;\n",
       "    }\n",
       "\n",
       "    .dataframe tbody tr th {\n",
       "        vertical-align: top;\n",
       "    }\n",
       "\n",
       "    .dataframe thead th {\n",
       "        text-align: right;\n",
       "    }\n",
       "</style>\n",
       "<table border=\"1\" class=\"dataframe\">\n",
       "  <thead>\n",
       "    <tr style=\"text-align: right;\">\n",
       "      <th></th>\n",
       "      <th>optimal_battery_size</th>\n",
       "      <th>net_CO2_savings</th>\n",
       "    </tr>\n",
       "    <tr>\n",
       "      <th>curtailment</th>\n",
       "      <th></th>\n",
       "      <th></th>\n",
       "    </tr>\n",
       "  </thead>\n",
       "  <tbody>\n",
       "    <tr>\n",
       "      <th>0.0</th>\n",
       "      <td>23</td>\n",
       "      <td>13.7258</td>\n",
       "    </tr>\n",
       "    <tr>\n",
       "      <th>0.1</th>\n",
       "      <td>22</td>\n",
       "      <td>10.5681</td>\n",
       "    </tr>\n",
       "    <tr>\n",
       "      <th>0.2</th>\n",
       "      <td>19</td>\n",
       "      <td>7.77895</td>\n",
       "    </tr>\n",
       "    <tr>\n",
       "      <th>0.3</th>\n",
       "      <td>15</td>\n",
       "      <td>5.56283</td>\n",
       "    </tr>\n",
       "    <tr>\n",
       "      <th>0.4</th>\n",
       "      <td>12</td>\n",
       "      <td>3.83903</td>\n",
       "    </tr>\n",
       "    <tr>\n",
       "      <th>0.5</th>\n",
       "      <td>10</td>\n",
       "      <td>2.5229</td>\n",
       "    </tr>\n",
       "    <tr>\n",
       "      <th>0.6</th>\n",
       "      <td>7</td>\n",
       "      <td>1.51835</td>\n",
       "    </tr>\n",
       "    <tr>\n",
       "      <th>0.7</th>\n",
       "      <td>5</td>\n",
       "      <td>0.724579</td>\n",
       "    </tr>\n",
       "    <tr>\n",
       "      <th>0.8</th>\n",
       "      <td>2</td>\n",
       "      <td>0.185855</td>\n",
       "    </tr>\n",
       "    <tr>\n",
       "      <th>0.9</th>\n",
       "      <td>0</td>\n",
       "      <td>-0</td>\n",
       "    </tr>\n",
       "  </tbody>\n",
       "</table>\n",
       "</div>"
      ],
      "text/plain": [
       "            optimal_battery_size net_CO2_savings\n",
       "curtailment                                     \n",
       "0.0                           23         13.7258\n",
       "0.1                           22         10.5681\n",
       "0.2                           19         7.77895\n",
       "0.3                           15         5.56283\n",
       "0.4                           12         3.83903\n",
       "0.5                           10          2.5229\n",
       "0.6                            7         1.51835\n",
       "0.7                            5        0.724579\n",
       "0.8                            2        0.185855\n",
       "0.9                            0              -0"
      ]
     },
     "execution_count": 1351,
     "metadata": {},
     "output_type": "execute_result"
    }
   ],
   "source": [
    "results"
   ]
  },
  {
   "cell_type": "code",
   "execution_count": 1352,
   "id": "prepared-turkey",
   "metadata": {},
   "outputs": [],
   "source": [
    "results.to_pickle('Calculations/CH/results_optimization_2016.pkl')"
   ]
  }
 ],
 "metadata": {
  "kernelspec": {
   "display_name": "Python 3",
   "language": "python",
   "name": "python3"
  },
  "language_info": {
   "codemirror_mode": {
    "name": "ipython",
    "version": 3
   },
   "file_extension": ".py",
   "mimetype": "text/x-python",
   "name": "python",
   "nbconvert_exporter": "python",
   "pygments_lexer": "ipython3",
   "version": "3.6.9"
  }
 },
 "nbformat": 4,
 "nbformat_minor": 5
}
