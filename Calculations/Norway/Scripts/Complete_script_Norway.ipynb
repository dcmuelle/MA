{
 "cells": [
  {
   "cell_type": "code",
   "execution_count": 114,
   "id": "heated-revelation",
   "metadata": {},
   "outputs": [],
   "source": [
    "import pandas as pd\n",
    "import numpy as np\n",
    "import matplotlib.pyplot as plt\n",
    "import os\n",
    "import matplotlib.dates as mdates"
   ]
  },
  {
   "cell_type": "code",
   "execution_count": 115,
   "id": "ongoing-viking",
   "metadata": {},
   "outputs": [],
   "source": [
    "plt.rcParams[\"figure.figsize\"] = (15,8) #set size of plot\n",
    "plt.rcParams.update({'font.size': 22})"
   ]
  },
  {
   "cell_type": "code",
   "execution_count": 116,
   "id": "composed-worst",
   "metadata": {},
   "outputs": [],
   "source": [
    "os.chdir('/home/MA')"
   ]
  },
  {
   "cell_type": "code",
   "execution_count": 117,
   "id": "about-necessity",
   "metadata": {},
   "outputs": [],
   "source": [
    "from Battery_dispatch_function import BatteryDispatch"
   ]
  },
  {
   "cell_type": "markdown",
   "id": "modular-appeal",
   "metadata": {},
   "source": [
    "## Define Parameter"
   ]
  },
  {
   "cell_type": "markdown",
   "id": "activated-weekend",
   "metadata": {},
   "source": [
    "Electricity mix carbon intensity for Norway\n",
    "\n",
    "electricitymap.org estimation"
   ]
  },
  {
   "cell_type": "code",
   "execution_count": 118,
   "id": "destroyed-mississippi",
   "metadata": {},
   "outputs": [],
   "source": [
    "grid_emissions_Norway= 31 # g CO2/kWh"
   ]
  },
  {
   "cell_type": "code",
   "execution_count": 119,
   "id": "frequent-fisher",
   "metadata": {},
   "outputs": [],
   "source": [
    "battery_sizes = [0, 6, 12, 18, 24, 30]"
   ]
  },
  {
   "cell_type": "code",
   "execution_count": 120,
   "id": "handed-atlas",
   "metadata": {},
   "outputs": [],
   "source": [
    "conv_eff = 0.20 # 2020 slide 7 on https://www.ise.fraunhofer.de/content/dam/ise/de/documents/publications/studies/Photovoltaics-Report.pdf"
   ]
  },
  {
   "cell_type": "markdown",
   "id": "collect-crack",
   "metadata": {},
   "source": [
    "Define PV sizing **HERE**"
   ]
  },
  {
   "cell_type": "code",
   "execution_count": 121,
   "id": "ordered-requirement",
   "metadata": {},
   "outputs": [],
   "source": [
    "PV_size = 6 #kW_p"
   ]
  },
  {
   "cell_type": "markdown",
   "id": "protecting-enterprise",
   "metadata": {},
   "source": [
    "According to https://www.energieheld.de/solaranlage/photovoltaik and https://www.energieheld.ch/solaranlagen/photovoltaik#:~:text=Rechnen%20Sie%20im%20Durchschnitt%20etwa,dieser%20Gr%C3%B6sse%20installieren%20zu%20k%C3%B6nnen, 6 m2 are required per kW_p"
   ]
  },
  {
   "cell_type": "code",
   "execution_count": 122,
   "id": "composite-soundtrack",
   "metadata": {},
   "outputs": [],
   "source": [
    "size = 6*PV_size # m2 necessary for 6 kW_p"
   ]
  },
  {
   "cell_type": "code",
   "execution_count": 123,
   "id": "dominant-university",
   "metadata": {},
   "outputs": [],
   "source": [
    "HW_boiler_eff = 1\n",
    "HP_COP = 3.1\n",
    "AC_EER = 8.5"
   ]
  },
  {
   "cell_type": "code",
   "execution_count": 124,
   "id": "brave-ranch",
   "metadata": {},
   "outputs": [],
   "source": [
    "max_c_charge = 0.25\n",
    "max_c_discharge = 0.5"
   ]
  },
  {
   "cell_type": "markdown",
   "id": "constant-annotation",
   "metadata": {},
   "source": [
    "Roundtrip efficiency solar battery: 85% (check alternative sources) https://www.homerenergy.com/products/pro/docs/latest/battery_roundtrip_efficiency.html#:~:text=The%20battery%20round%2Dtrip%20efficiency,Typically%20it%20is%20about%2080%25.\n",
    "Assumption: Losses occur during discharging only (Charging efficiency is 99% https://www.powertechsystems.eu/home/tech-corner/lithium-ion-battery-advantages/)"
   ]
  },
  {
   "cell_type": "code",
   "execution_count": 125,
   "id": "secret-class",
   "metadata": {},
   "outputs": [],
   "source": [
    "eta_discharge = 0.85"
   ]
  },
  {
   "cell_type": "code",
   "execution_count": 126,
   "id": "informational-firmware",
   "metadata": {},
   "outputs": [],
   "source": [
    "PV_lifetime = 25 #years"
   ]
  },
  {
   "cell_type": "code",
   "execution_count": 127,
   "id": "spanish-ownership",
   "metadata": {},
   "outputs": [],
   "source": [
    "battery_lifetime = 15 # years"
   ]
  },
  {
   "cell_type": "markdown",
   "id": "cultural-details",
   "metadata": {},
   "source": [
    "Battery production energy intensity from https://www.researchgate.net/publication/331837767_The_energetic_implications_of_introducing_lithium-ion_batteries_into_distributed_photovoltaic_systems"
   ]
  },
  {
   "cell_type": "code",
   "execution_count": 128,
   "id": "fundamental-equilibrium",
   "metadata": {},
   "outputs": [],
   "source": [
    "elec_battery_prod = 95.5 # kwh_el/kWh_n"
   ]
  },
  {
   "cell_type": "markdown",
   "id": "relative-digest",
   "metadata": {},
   "source": [
    "Assumption: Battery production in China\n",
    "at 637 g CO2/kWh\n",
    "https://www.mdpi.com/1996-1073/14/4/961/pdf"
   ]
  },
  {
   "cell_type": "code",
   "execution_count": 129,
   "id": "outstanding-torture",
   "metadata": {},
   "outputs": [],
   "source": [
    "CO2_intensity_China = 637"
   ]
  },
  {
   "cell_type": "code",
   "execution_count": 130,
   "id": "dominican-infrared",
   "metadata": {},
   "outputs": [],
   "source": [
    "electricity_PV_production = 1597 # kWh_el kWp-1"
   ]
  },
  {
   "cell_type": "markdown",
   "id": "greater-tyler",
   "metadata": {},
   "source": [
    "## Start calculations"
   ]
  },
  {
   "cell_type": "markdown",
   "id": "improved-ideal",
   "metadata": {},
   "source": [
    "Methodology based on this paper: https://www.researchgate.net/publication/331837767_The_energetic_implications_of_introducing_lithium-ion_batteries_into_distributed_photovoltaic_systems"
   ]
  },
  {
   "cell_type": "markdown",
   "id": "environmental-approval",
   "metadata": {},
   "source": [
    "Get local data from https://re.jrc.ec.europa.eu/pvg_tools/en/#HR\n",
    "for years 2010-2016 to average yearly variability\n",
    "Solar panels were assumed to be 46 inclined towards south to maximize yearly yield without the need for sophisticated mechanic installations."
   ]
  },
  {
   "cell_type": "markdown",
   "id": "discrete-compound",
   "metadata": {},
   "source": [
    "Read data into dataframe"
   ]
  },
  {
   "cell_type": "code",
   "execution_count": 131,
   "id": "hollow-share",
   "metadata": {},
   "outputs": [],
   "source": [
    "HDD_CH = pd.read_csv('Data/LSZH_HDD_12C.csv')"
   ]
  },
  {
   "cell_type": "markdown",
   "id": "intermediate-diana",
   "metadata": {},
   "source": [
    "For Norway, ENTO station south of Oslo was chosen"
   ]
  },
  {
   "cell_type": "code",
   "execution_count": 132,
   "id": "protective-retailer",
   "metadata": {},
   "outputs": [],
   "source": [
    "HDD_Norway = pd.read_csv('Data/ENTO_HDD_12C.csv')"
   ]
  },
  {
   "cell_type": "code",
   "execution_count": 133,
   "id": "pregnant-immigration",
   "metadata": {},
   "outputs": [],
   "source": [
    "load_CH = pd.read_pickle('Calculations/CH/load_CH_separated.pkl')"
   ]
  },
  {
   "cell_type": "markdown",
   "id": "ordinary-moisture",
   "metadata": {},
   "source": [
    "Goal: to recreate a heating demand profile for Norway based on the one provided for Switzerland.\n",
    "Approach: Divide all heating energy by total of heating degree days for Switzerland, then multiply Norway's heating degree days\n",
    "\n",
    "Calculations were carried out with base temperature of 12° Celsius which is a valid assumption based on https://www.sciencedirect.com/science/article/pii/S2352710218301086#:~:text=The%20air%20temperature%20is%20defined,the%20basis%20for%20climate%20classification.\n",
    "Source for heating days : https://www.degreedays.net/#"
   ]
  },
  {
   "cell_type": "code",
   "execution_count": 134,
   "id": "absolute-programmer",
   "metadata": {},
   "outputs": [],
   "source": [
    "Total_elec_heating_CH = sum(load_CH['Electricity for Space Heating [kWh]'])"
   ]
  },
  {
   "cell_type": "code",
   "execution_count": 135,
   "id": "adequate-parks",
   "metadata": {},
   "outputs": [
    {
     "data": {
      "text/plain": [
       "1034.6743396814395"
      ]
     },
     "execution_count": 135,
     "metadata": {},
     "output_type": "execute_result"
    }
   ],
   "source": [
    "Total_elec_heating_CH"
   ]
  },
  {
   "cell_type": "code",
   "execution_count": 136,
   "id": "standard-monitoring",
   "metadata": {},
   "outputs": [],
   "source": [
    "HDD_Norway['Date'] = pd.to_datetime(HDD_Norway['Date'], format='%d-%m-%y')"
   ]
  },
  {
   "cell_type": "code",
   "execution_count": 137,
   "id": "helpful-technology",
   "metadata": {},
   "outputs": [],
   "source": [
    "HDD_Norway = HDD_Norway[~((HDD_Norway.Date.dt.month == 2) & (HDD_Norway.Date.dt.day == 29))]"
   ]
  },
  {
   "cell_type": "code",
   "execution_count": 138,
   "id": "touched-summer",
   "metadata": {},
   "outputs": [],
   "source": [
    "HDD_Norway_averaged = HDD_Norway.groupby([HDD_Norway[\"Date\"].dt.month, HDD_Norway[\"Date\"].dt.day, HDD_Norway[\"Date\"].dt.hour]).mean()"
   ]
  },
  {
   "cell_type": "code",
   "execution_count": 139,
   "id": "presidential-impression",
   "metadata": {},
   "outputs": [],
   "source": [
    "HDD_Norway_averaged.index.names = [\"month\", \"day\", \"hour\"]"
   ]
  },
  {
   "cell_type": "code",
   "execution_count": 140,
   "id": "artificial-memphis",
   "metadata": {},
   "outputs": [],
   "source": [
    "HDD_CH['Date'] = pd.to_datetime(HDD_CH['Date'], format='%d-%m-%y')"
   ]
  },
  {
   "cell_type": "code",
   "execution_count": 141,
   "id": "adequate-joyce",
   "metadata": {},
   "outputs": [],
   "source": [
    "HDD_CH = HDD_CH[~((HDD_CH.Date.dt.month == 2) & (HDD_CH.Date.dt.day == 29))]"
   ]
  },
  {
   "cell_type": "code",
   "execution_count": 142,
   "id": "manufactured-douglas",
   "metadata": {},
   "outputs": [],
   "source": [
    "HDD_CH_averaged = HDD_CH.groupby([HDD_CH[\"Date\"].dt.month, HDD_CH[\"Date\"].dt.day, HDD_CH[\"Date\"].dt.hour]).mean()"
   ]
  },
  {
   "cell_type": "code",
   "execution_count": 143,
   "id": "verbal-quilt",
   "metadata": {},
   "outputs": [],
   "source": [
    "HDD_CH_averaged.index.names = [\"month\", \"day\", \"hour\"]"
   ]
  },
  {
   "cell_type": "code",
   "execution_count": 144,
   "id": "funny-wilderness",
   "metadata": {},
   "outputs": [
    {
     "data": {
      "text/plain": [
       "1523.0083333333332"
      ]
     },
     "execution_count": 144,
     "metadata": {},
     "output_type": "execute_result"
    }
   ],
   "source": [
    "Total_HDD_CH = sum(HDD_CH_averaged['HDD 12'])\n",
    "Total_HDD_CH"
   ]
  },
  {
   "cell_type": "code",
   "execution_count": 145,
   "id": "lucky-crossing",
   "metadata": {},
   "outputs": [
    {
     "data": {
      "text/plain": [
       "2039.9166666666645"
      ]
     },
     "execution_count": 145,
     "metadata": {},
     "output_type": "execute_result"
    }
   ],
   "source": [
    "Total_HDD_Norway = sum(HDD_Norway_averaged['HDD 12'])\n",
    "Total_HDD_Norway"
   ]
  },
  {
   "cell_type": "code",
   "execution_count": 146,
   "id": "hindu-puppy",
   "metadata": {},
   "outputs": [],
   "source": [
    "ratio = Total_HDD_Norway/Total_HDD_CH"
   ]
  },
  {
   "cell_type": "code",
   "execution_count": 147,
   "id": "normal-range",
   "metadata": {},
   "outputs": [],
   "source": [
    "load_Norway = load_CH.copy()"
   ]
  },
  {
   "cell_type": "code",
   "execution_count": 148,
   "id": "another-playback",
   "metadata": {},
   "outputs": [],
   "source": [
    "load_Norway['Electricity for Space Heating [kWh]'] = ratio * load_Norway['Electricity for Space Heating [kWh]']"
   ]
  },
  {
   "cell_type": "markdown",
   "id": "innocent-probe",
   "metadata": {},
   "source": [
    "Alternative method: Reproduce a hourly profile for new locations based on climate pattern averaging Switzerland's daily profile"
   ]
  },
  {
   "cell_type": "code",
   "execution_count": 149,
   "id": "every-bacteria",
   "metadata": {},
   "outputs": [
    {
     "data": {
      "text/plain": [
       "Int64Index([ 1,  2,  3,  4,  5,  6,  7,  8,  9, 10,\n",
       "            ...\n",
       "            15, 16, 17, 18, 19, 20, 21, 22, 23,  0],\n",
       "           dtype='int64', name='hour', length=8760)"
      ]
     },
     "execution_count": 149,
     "metadata": {},
     "output_type": "execute_result"
    }
   ],
   "source": [
    "load_CH.index.get_level_values('hour')"
   ]
  },
  {
   "cell_type": "code",
   "execution_count": 150,
   "id": "attempted-state",
   "metadata": {},
   "outputs": [],
   "source": [
    "heating_hourly_averaged_CH = load_CH['Electricity for Space Heating [kWh]'].groupby(load_CH.index.get_level_values('hour')).mean()"
   ]
  },
  {
   "cell_type": "code",
   "execution_count": 151,
   "id": "grand-navigation",
   "metadata": {},
   "outputs": [],
   "source": [
    "heating_hourly_normalized_CH = heating_hourly_averaged_CH/sum(heating_hourly_averaged_CH)"
   ]
  },
  {
   "cell_type": "code",
   "execution_count": 152,
   "id": "academic-console",
   "metadata": {},
   "outputs": [],
   "source": [
    "load_Norway = load_CH.copy()"
   ]
  },
  {
   "cell_type": "code",
   "execution_count": 153,
   "id": "purple-upper",
   "metadata": {},
   "outputs": [
    {
     "data": {
      "text/plain": [
       "0.679362231339141"
      ]
     },
     "execution_count": 153,
     "metadata": {},
     "output_type": "execute_result"
    }
   ],
   "source": [
    "ratio_CH = Total_elec_heating_CH/Total_HDD_CH\n",
    "ratio_CH # kWh/HDD"
   ]
  },
  {
   "cell_type": "code",
   "execution_count": 154,
   "id": "retired-ballet",
   "metadata": {},
   "outputs": [
    {
     "data": {
      "text/plain": [
       "month  day  hour\n",
       "1      1    0       8.600000\n",
       "            0       8.600000\n",
       "            0       8.600000\n",
       "            0       8.600000\n",
       "            0       8.600000\n",
       "                      ...   \n",
       "12     31   0       9.533333\n",
       "            0       9.533333\n",
       "            0       9.533333\n",
       "            0       9.533333\n",
       "            0       9.533333\n",
       "Name: HDD 12, Length: 8760, dtype: float64"
      ]
     },
     "execution_count": 154,
     "metadata": {},
     "output_type": "execute_result"
    }
   ],
   "source": [
    "HDD_Norway_averaged['HDD 12'].repeat(24)"
   ]
  },
  {
   "cell_type": "code",
   "execution_count": 155,
   "id": "traditional-bangladesh",
   "metadata": {},
   "outputs": [
    {
     "data": {
      "text/plain": [
       "8760"
      ]
     },
     "execution_count": 155,
     "metadata": {},
     "output_type": "execute_result"
    }
   ],
   "source": [
    "heating_hourly_normalized_CH_df = np.tile(heating_hourly_normalized_CH, 365)\n",
    "len(heating_hourly_normalized_CH_df)"
   ]
  },
  {
   "cell_type": "code",
   "execution_count": 156,
   "id": "frozen-buyer",
   "metadata": {},
   "outputs": [],
   "source": [
    "load_Norway['Electricity for Space Heating [kWh]'] = HDD_Norway_averaged['HDD 12'].repeat(24).values * heating_hourly_normalized_CH_df * ratio_CH"
   ]
  },
  {
   "cell_type": "code",
   "execution_count": 157,
   "id": "different-context",
   "metadata": {},
   "outputs": [
    {
     "data": {
      "text/plain": [
       "1385.8423384125717"
      ]
     },
     "execution_count": 157,
     "metadata": {},
     "output_type": "execute_result"
    }
   ],
   "source": [
    "sum(load_Norway['Electricity for Space Heating [kWh]'])"
   ]
  },
  {
   "cell_type": "code",
   "execution_count": 158,
   "id": "breeding-intake",
   "metadata": {},
   "outputs": [
    {
     "data": {
      "text/plain": [
       "1385.8423384125679"
      ]
     },
     "execution_count": 158,
     "metadata": {},
     "output_type": "execute_result"
    }
   ],
   "source": [
    "crosscheck = Total_elec_heating_CH*Total_HDD_Norway/Total_HDD_CH\n",
    "crosscheck"
   ]
  },
  {
   "cell_type": "code",
   "execution_count": 159,
   "id": "offensive-stomach",
   "metadata": {},
   "outputs": [],
   "source": [
    "load_Norway['Total Electricity'] = load_Norway['Electricity demand [kWh](Hourly) '] + load_Norway['Electricity for Space Heating [kWh]'] + load_Norway['Electricity for Hot Water [kWh]'] + load_Norway['Electricity for Space Cooling [kWh]']"
   ]
  },
  {
   "cell_type": "code",
   "execution_count": 160,
   "id": "automotive-wyoming",
   "metadata": {},
   "outputs": [],
   "source": [
    "load_Norway['Total Electricity without AC'] = load_Norway['Electricity demand [kWh](Hourly) '] + load_Norway['Electricity for Space Heating [kWh]'] + load_Norway['Electricity for Hot Water [kWh]']"
   ]
  },
  {
   "cell_type": "code",
   "execution_count": 161,
   "id": "clear-capability",
   "metadata": {},
   "outputs": [],
   "source": [
    "total_elec_load = load_Norway['Total Electricity']"
   ]
  },
  {
   "cell_type": "markdown",
   "id": "canadian-medium",
   "metadata": {},
   "source": [
    "## Start processing of solar production data"
   ]
  },
  {
   "cell_type": "code",
   "execution_count": 162,
   "id": "composed-namibia",
   "metadata": {},
   "outputs": [],
   "source": [
    "meteo_data = pd.read_csv('Data/Timeseries_Oslo.csv')"
   ]
  },
  {
   "cell_type": "markdown",
   "id": "smoking-russian",
   "metadata": {},
   "source": [
    "Convert time column to datetime format to facilitate data processing"
   ]
  },
  {
   "cell_type": "code",
   "execution_count": 163,
   "id": "handmade-mouse",
   "metadata": {},
   "outputs": [],
   "source": [
    "meteo_data['time'] = pd.to_datetime(meteo_data['time'], format='%Y%m%d:%H%M')"
   ]
  },
  {
   "cell_type": "markdown",
   "id": "occupational-blade",
   "metadata": {},
   "source": [
    "Get rid of leap years"
   ]
  },
  {
   "cell_type": "code",
   "execution_count": 164,
   "id": "quick-restoration",
   "metadata": {},
   "outputs": [],
   "source": [
    "meteo_data = meteo_data[~((meteo_data.time.dt.month == 2) & (meteo_data.time.dt.day == 29))]"
   ]
  },
  {
   "cell_type": "markdown",
   "id": "answering-senegal",
   "metadata": {},
   "source": [
    "Check length of dataset to be 7 years x 365 days/year x 24 hours/day = 61320 days"
   ]
  },
  {
   "cell_type": "code",
   "execution_count": 165,
   "id": "standing-nigeria",
   "metadata": {},
   "outputs": [
    {
     "data": {
      "text/plain": [
       "61320"
      ]
     },
     "execution_count": 165,
     "metadata": {},
     "output_type": "execute_result"
    }
   ],
   "source": [
    "len(meteo_data)"
   ]
  },
  {
   "cell_type": "markdown",
   "id": "jewish-model",
   "metadata": {},
   "source": [
    "Check date of maximum value"
   ]
  },
  {
   "cell_type": "code",
   "execution_count": 166,
   "id": "involved-engagement",
   "metadata": {},
   "outputs": [
    {
     "data": {
      "text/html": [
       "<div>\n",
       "<style scoped>\n",
       "    .dataframe tbody tr th:only-of-type {\n",
       "        vertical-align: middle;\n",
       "    }\n",
       "\n",
       "    .dataframe tbody tr th {\n",
       "        vertical-align: top;\n",
       "    }\n",
       "\n",
       "    .dataframe thead th {\n",
       "        text-align: right;\n",
       "    }\n",
       "</style>\n",
       "<table border=\"1\" class=\"dataframe\">\n",
       "  <thead>\n",
       "    <tr style=\"text-align: right;\">\n",
       "      <th></th>\n",
       "      <th>time</th>\n",
       "      <th>G(i)</th>\n",
       "      <th>H_sun</th>\n",
       "      <th>T2m</th>\n",
       "      <th>WS10m</th>\n",
       "      <th>Int</th>\n",
       "    </tr>\n",
       "  </thead>\n",
       "  <tbody>\n",
       "    <tr>\n",
       "      <th>28451</th>\n",
       "      <td>2013-03-31 11:11:00</td>\n",
       "      <td>1125.18</td>\n",
       "      <td>34.22</td>\n",
       "      <td>2.78</td>\n",
       "      <td>1.8</td>\n",
       "      <td>0</td>\n",
       "    </tr>\n",
       "  </tbody>\n",
       "</table>\n",
       "</div>"
      ],
      "text/plain": [
       "                     time     G(i)  H_sun   T2m  WS10m  Int\n",
       "28451 2013-03-31 11:11:00  1125.18  34.22  2.78    1.8    0"
      ]
     },
     "execution_count": 166,
     "metadata": {},
     "output_type": "execute_result"
    }
   ],
   "source": [
    "meteo_data[meteo_data['G(i)'] == meteo_data['G(i)'].max()]"
   ]
  },
  {
   "cell_type": "markdown",
   "id": "italian-center",
   "metadata": {},
   "source": [
    "This is the absolute amount of radiation incident on a solar cell in Zurich without accounting for the conversion efficiency. \n",
    "As expected, it occurs on the 22th of March, the date where the sun's angle is exactly perpendicular to the panel's orientation."
   ]
  },
  {
   "cell_type": "code",
   "execution_count": 167,
   "id": "individual-founder",
   "metadata": {},
   "outputs": [],
   "source": [
    "years = meteo_data.time.dt.year.unique()"
   ]
  },
  {
   "cell_type": "code",
   "execution_count": 168,
   "id": "collectible-stand",
   "metadata": {},
   "outputs": [],
   "source": [
    "results_all = pd.DataFrame()\n",
    "results_optimization_all = pd.DataFrame()\n",
    "for year in years:\n",
    "    meteo_data_year = meteo_data[meteo_data.time.dt.year == year]\n",
    "    hourly_average=meteo_data_year.groupby([meteo_data_year[\"time\"].dt.month, meteo_data_year[\"time\"].dt.day, meteo_data_year[\"time\"].dt.hour]).mean()\n",
    "    hourly_average.index.names = [\"month\", \"day\", \"hour\"]\n",
    "    hourly_average['Prod/m2'] = hourly_average['G(i)']*0.17/1000\n",
    "    hourly_average['Prod'] = hourly_average['Prod/m2']*size\n",
    "    yearly_PV_prod = hourly_average['Prod'].sum()\n",
    "    PV_production = hourly_average['Prod']\n",
    "    power_balance = pd.DataFrame()\n",
    "    power_balance['consumption'] = total_elec_load\n",
    "    power_balance['from PV'] = PV_production\n",
    "    power_balance['exchange grid'] = PV_production - total_elec_load\n",
    "    power_balance['to Grid'] = (PV_production - total_elec_load).clip(lower=0)\n",
    "    power_balance['from Grid'] = (total_elec_load - PV_production).clip(lower=0)\n",
    "    power_balance = power_balance.fillna(0)\n",
    "    self_consumption_kWh = sum(power_balance['consumption'] - power_balance['from Grid'])\n",
    "    total_CO2_PV_prod = electricity_PV_production * PV_size * CO2_intensity_China\n",
    "    reduced_CO2_PV_g = grid_emissions_Norway * self_consumption_kWh * PV_lifetime - total_CO2_PV_prod\n",
    "    reduced_CO2_PV_t = reduced_CO2_PV_g/1000000\n",
    "    results = pd.DataFrame()\n",
    "    results['battery_size'] = battery_sizes\n",
    "    results['curtailment'] = ''\n",
    "    results['yearly_savings_kWh'] = ''\n",
    "    for i in range(0, len(results['battery_size'])):\n",
    "        powerbalance = BatteryDispatch(power_balance, results['battery_size'].values[i], eta_discharge, max_c_charge, max_c_discharge)\n",
    "        results['yearly_savings_kWh'].values[i] = -sum(power_balance['Discharging'])\n",
    "        results['curtailment'].values[i] = sum(power_balance['to Grid New'])/sum(power_balance['from PV'])\n",
    "    results['total_savings_kWh'] = results['yearly_savings_kWh'] * PV_lifetime\n",
    "    results['yearly_savings_CO2'] = results['yearly_savings_kWh'] * grid_emissions_Norway / 1000000\n",
    "    results['total_CO2_grid_reduced'] = results['yearly_savings_CO2'] * PV_lifetime\n",
    "    results['total_elec_battery_prod'] = 2 * (elec_battery_prod * results['battery_size']/0.8)\n",
    "    results['total_CO2_battery_prod'] = results['total_elec_battery_prod'] * CO2_intensity_China / 1000000\n",
    "    results['net_CO2_savings'] = results['total_CO2_grid_reduced'] - results['total_CO2_battery_prod'] \n",
    "    results['stored'] = results.iloc[0]['curtailment'] - results['curtailment']\n",
    "    results.set_index(\"battery_size\",drop=True,inplace=True)\n",
    "    results['net_CO2_savings_with_PV'] = results['net_CO2_savings'] + reduced_CO2_PV_t\n",
    "    PV_production_hourly = PV_production\n",
    "    yearly_PV_production = sum(PV_production_hourly) \n",
    "    results['total_elec_PV_prod'] = electricity_PV_production * PV_size\n",
    "    results['ESOI'] = results['total_savings_kWh'].div(results['total_elec_battery_prod'].where(results['total_elec_battery_prod'] != 0, np.nan))\n",
    "    results['EROI_gen'] = yearly_PV_production*PV_lifetime/results['total_elec_PV_prod']\n",
    "    results['EROI_grid_useful'] = results['EROI_gen']\n",
    "    results['EROI_grid_curtailed'] = (1 - results['stored'] + eta_discharge * results['stored'])/(1/results['EROI_gen']+results['stored']/results['ESOI'])*(1-results['curtailment'])\n",
    "    results['EROI_grid_curtailed'] = results['EROI_grid_curtailed'].fillna(results['EROI_gen']*(1-results['curtailment']))\n",
    "    results['ESOI'] = results['ESOI'].fillna(0)\n",
    "    curtailment_thresholds = [0, 0.1, 0.2, 0.3, 0.4, 0.5, 0.6, 0.7, 0.8, 0.9]\n",
    "    #curtailment_thresholds = [0.4, 0.5]\n",
    "    battery_size = list(range(0, 25))\n",
    "    pd.options.mode.chained_assignment = None  # default='warn'\n",
    "    \n",
    "    results_optimization = pd.DataFrame()\n",
    "    results_optimization['curtailment'] = curtailment_thresholds\n",
    "    results_optimization['optimal_battery_size'] = ''    \n",
    "    results_optimization['net_CO2_savings'] = ''\n",
    "        \n",
    "    for curtailment in curtailment_thresholds:   \n",
    "        \n",
    "        temp = 0\n",
    "        max_power_allowed = curtailment*PV_size\n",
    "        PV_production_used = PV_production.copy()\n",
    "        PV_production_used[PV_production_used > max_power_allowed] = max_power_allowed\n",
    "        PV_production_curtailed = PV_production - max_power_allowed\n",
    "        PV_production_curtailed[PV_production_curtailed < 0] = 0\n",
    "        power_balance = pd.DataFrame()\n",
    "        power_balance['consumption'] = total_elec_load\n",
    "        power_balance['from PV'] = PV_production_curtailed\n",
    "        power_balance['exchange grid'] = PV_production_curtailed - total_elec_load\n",
    "        power_balance['to Grid'] = (PV_production_curtailed - total_elec_load).clip(lower=0)\n",
    "        power_balance['from Grid'] = (total_elec_load - PV_production_curtailed).clip(lower=0)\n",
    "        power_balance = power_balance.fillna(0)\n",
    "        \n",
    "        temp = pd.DataFrame()\n",
    "        temp['battery_size'] = battery_size\n",
    "        temp['yearly_savings_kWh'] = ''\n",
    "        temp['yearly_savings_CO2'] = ''\n",
    "        temp['total_CO2_grid_reduced'] = ''\n",
    "        temp['total_CO2_battery_prod'] = ''\n",
    "        temp['net_CO2_savings'] = ''\n",
    "        for i in range(0, len(temp['battery_size'])):\n",
    "            powerbalance = BatteryDispatch(power_balance, temp['battery_size'].values[i], eta_discharge, max_c_charge, max_c_discharge)\n",
    "            temp['yearly_savings_kWh'].values[i] = -sum(power_balance['Discharging'])\n",
    "            temp['yearly_savings_CO2'].values[i] = temp['yearly_savings_kWh'].values[i] * grid_emissions_Norway / 1000000\n",
    "            temp['total_CO2_grid_reduced'].values[i] = temp['yearly_savings_CO2'].values[i] * PV_lifetime\n",
    "            temp['total_elec_battery_prod'] = 2 * (elec_battery_prod * temp['battery_size']/0.8)\n",
    "            temp['total_CO2_battery_prod'].values[i] = temp['total_elec_battery_prod'].values[i] * CO2_intensity_China / 1000000\n",
    "            temp['net_CO2_savings'].values[i] =  temp['total_CO2_grid_reduced'].values[i] - temp['total_CO2_battery_prod'].values[i]\n",
    "        temp_max = temp[temp['net_CO2_savings']==temp['net_CO2_savings'].max()]\n",
    "        results_optimization.optimal_battery_size[results_optimization.curtailment == curtailment] = temp_max['battery_size'].values\n",
    "        results_optimization.net_CO2_savings[results_optimization.curtailment == curtailment] = temp_max['net_CO2_savings'].values\n",
    "    results_optimization.set_index(\"curtailment\",drop=True,inplace=True)\n",
    "    results_all = results_all.append(results)\n",
    "    results_optimization_all = results_optimization_all.append(results_optimization)"
   ]
  },
  {
   "cell_type": "code",
   "execution_count": 173,
   "id": "varied-firewall",
   "metadata": {},
   "outputs": [
    {
     "data": {
      "image/png": "[encoded data removed]",
      "text/plain": [
       "<Figure size 1080x576 with 1 Axes>"
      ]
     },
     "metadata": {
      "needs_background": "light"
     },
     "output_type": "display_data"
    }
   ],
   "source": [
    "results_all.boxplot(by ='battery_size', column =['net_CO2_savings'], grid = False)\n",
    "plt.suptitle('');"
   ]
  },
  {
   "cell_type": "code",
   "execution_count": 174,
   "id": "sought-complaint",
   "metadata": {},
   "outputs": [
    {
     "data": {
      "image/png": "[encoded data removed]",
      "text/plain": [
       "<Figure size 1080x576 with 1 Axes>"
      ]
     },
     "metadata": {
      "needs_background": "light"
     },
     "output_type": "display_data"
    }
   ],
   "source": [
    "results_all.boxplot(by ='battery_size', column =['net_CO2_savings_with_PV'], grid = False)\n",
    "plt.suptitle('');"
   ]
  },
  {
   "cell_type": "code",
   "execution_count": 169,
   "id": "rural-mounting",
   "metadata": {},
   "outputs": [
    {
     "data": {
      "image/png": "[encoded data removed]",
      "text/plain": [
       "<Figure size 1080x576 with 1 Axes>"
      ]
     },
     "metadata": {
      "needs_background": "light"
     },
     "output_type": "display_data"
    }
   ],
   "source": [
    "results_all.boxplot(by ='battery_size', column =['ESOI'], grid = False)\n",
    "plt.suptitle('');"
   ]
  },
  {
   "cell_type": "code",
   "execution_count": 170,
   "id": "centered-mention",
   "metadata": {},
   "outputs": [
    {
     "data": {
      "image/png": "[encoded data removed]",
      "text/plain": [
       "<Figure size 1080x576 with 1 Axes>"
      ]
     },
     "metadata": {
      "needs_background": "light"
     },
     "output_type": "display_data"
    }
   ],
   "source": [
    "results_all.boxplot(by ='battery_size', column =['EROI_grid_curtailed'], grid = False)\n",
    "plt.suptitle('');"
   ]
  },
  {
   "cell_type": "code",
   "execution_count": 171,
   "id": "mineral-rogers",
   "metadata": {},
   "outputs": [
    {
     "data": {
      "image/png": "[encoded data removed]",
      "text/plain": [
       "<Figure size 1080x576 with 1 Axes>"
      ]
     },
     "metadata": {
      "needs_background": "light"
     },
     "output_type": "display_data"
    }
   ],
   "source": [
    "results_optimization_all.boxplot(by ='curtailment', column =['optimal_battery_size'], grid = False)\n",
    "plt.suptitle('');"
   ]
  },
  {
   "cell_type": "code",
   "execution_count": 172,
   "id": "editorial-population",
   "metadata": {},
   "outputs": [
    {
     "data": {
      "image/png": "[encoded data removed]",
      "text/plain": [
       "<Figure size 1080x576 with 1 Axes>"
      ]
     },
     "metadata": {
      "needs_background": "light"
     },
     "output_type": "display_data"
    }
   ],
   "source": [
    "results_optimization_all.boxplot(by ='curtailment', column =['net_CO2_savings'], grid = False)\n",
    "plt.suptitle('');"
   ]
  }
 ],
 "metadata": {
  "kernelspec": {
   "display_name": "Python 3",
   "language": "python",
   "name": "python3"
  },
  "language_info": {
   "codemirror_mode": {
    "name": "ipython",
    "version": 3
   },
   "file_extension": ".py",
   "mimetype": "text/x-python",
   "name": "python",
   "nbconvert_exporter": "python",
   "pygments_lexer": "ipython3",
   "version": "3.6.9"
  }
 },
 "nbformat": 4,
 "nbformat_minor": 5
}
