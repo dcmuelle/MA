{
 "cells": [
  {
   "cell_type": "code",
   "execution_count": null,
   "id": "relevant-sentence",
   "metadata": {},
   "outputs": [],
   "source": [
    "import pandas as pd\n",
    "import numpy as np\n",
    "import matplotlib.pyplot as plt\n",
    "import os"
   ]
  },
  {
   "cell_type": "code",
   "execution_count": null,
   "id": "inclusive-medicine",
   "metadata": {},
   "outputs": [],
   "source": [
    "plt.rcParams[\"figure.figsize\"] = (15,8) #set size of plot\n",
    "plt.rcParams.update({'font.size': 22})"
   ]
  },
  {
   "cell_type": "code",
   "execution_count": null,
   "id": "bigger-penny",
   "metadata": {},
   "outputs": [],
   "source": [
    "os.chdir('/home/MA')"
   ]
  },
  {
   "cell_type": "markdown",
   "id": "integral-objective",
   "metadata": {},
   "source": [
    "**PV production calculation**"
   ]
  },
  {
   "cell_type": "markdown",
   "id": "contemporary-breed",
   "metadata": {},
   "source": [
    "Methodology based on this paper: https://www.researchgate.net/publication/331837767_The_energetic_implications_of_introducing_lithium-ion_batteries_into_distributed_photovoltaic_systems"
   ]
  },
  {
   "cell_type": "markdown",
   "id": "helpful-colombia",
   "metadata": {},
   "source": [
    "Get local data from https://re.jrc.ec.europa.eu/pvg_tools/en/#HR\n",
    "for years 2010-2016 to average yearly variability\n",
    "Solar panels were assumed to be 46 inclined towards south to maximize yearly yield without the need for sophisticated mechanic installations."
   ]
  },
  {
   "cell_type": "markdown",
   "id": "sustainable-telephone",
   "metadata": {},
   "source": [
    "Read data into dataframe"
   ]
  },
  {
   "cell_type": "code",
   "execution_count": null,
   "id": "spoken-instrumentation",
   "metadata": {},
   "outputs": [],
   "source": [
    "meteo_data = pd.read_csv('Data/Timeseries_Oslo.csv')"
   ]
  },
  {
   "cell_type": "code",
   "execution_count": null,
   "id": "cognitive-immigration",
   "metadata": {},
   "outputs": [],
   "source": [
    "meteo_data.head()"
   ]
  },
  {
   "cell_type": "markdown",
   "id": "virgin-basement",
   "metadata": {},
   "source": [
    "Convert time column to datetime format to facilitate data processing"
   ]
  },
  {
   "cell_type": "code",
   "execution_count": null,
   "id": "random-vampire",
   "metadata": {},
   "outputs": [],
   "source": [
    "meteo_data['time'] = pd.to_datetime(meteo_data['time'], format='%Y%m%d:%H%M')"
   ]
  },
  {
   "cell_type": "markdown",
   "id": "viral-flash",
   "metadata": {},
   "source": [
    "Get rid of leap years"
   ]
  },
  {
   "cell_type": "code",
   "execution_count": null,
   "id": "caroline-burlington",
   "metadata": {},
   "outputs": [],
   "source": [
    "meteo_data = meteo_data[~((meteo_data.time.dt.month == 2) & (meteo_data.time.dt.day == 29))]"
   ]
  },
  {
   "cell_type": "markdown",
   "id": "unsigned-discovery",
   "metadata": {},
   "source": [
    "Check length of dataset to be 7 years x 365 days/year x 24 hours/day = 61320 days"
   ]
  },
  {
   "cell_type": "code",
   "execution_count": null,
   "id": "hindu-cabinet",
   "metadata": {},
   "outputs": [],
   "source": [
    "len(meteo_data)"
   ]
  },
  {
   "cell_type": "markdown",
   "id": "parliamentary-authentication",
   "metadata": {},
   "source": [
    "Check date of maximum value"
   ]
  },
  {
   "cell_type": "code",
   "execution_count": null,
   "id": "compact-protection",
   "metadata": {},
   "outputs": [],
   "source": [
    "meteo_data[meteo_data['G(i)'] == meteo_data['G(i)'].max()]"
   ]
  },
  {
   "cell_type": "markdown",
   "id": "alert-maker",
   "metadata": {},
   "source": [
    "This is the absolute amount of radiation incident on a solar cell in Oslo without accounting for the conversion efficiency. \n",
    "As expected, it occurs on the 22th of March, the date where the sun's angle is exactly perpendicular to the panel's orientation."
   ]
  },
  {
   "cell_type": "markdown",
   "id": "north-resolution",
   "metadata": {},
   "source": [
    "Calculate hourly averages over the defined period of years by grouping and taking the mean."
   ]
  },
  {
   "cell_type": "code",
   "execution_count": null,
   "id": "psychological-intensity",
   "metadata": {},
   "outputs": [],
   "source": [
    "hourly_average=meteo_data.groupby([meteo_data[\"time\"].dt.month, meteo_data[\"time\"].dt.day, meteo_data[\"time\"].dt.hour]).mean()"
   ]
  },
  {
   "cell_type": "code",
   "execution_count": null,
   "id": "composite-lender",
   "metadata": {},
   "outputs": [],
   "source": [
    "hourly_average.index.names = [\"month\", \"day\", \"hour\"]"
   ]
  },
  {
   "cell_type": "markdown",
   "id": "caroline-destiny",
   "metadata": {},
   "source": [
    "Define conversion efficiency"
   ]
  },
  {
   "cell_type": "code",
   "execution_count": null,
   "id": "brief-stanley",
   "metadata": {},
   "outputs": [],
   "source": [
    "conv_eff = 0.2 # 2020 slide 7 on https://www.ise.fraunhofer.de/content/dam/ise/de/documents/publications/studies/Photovoltaics-Report.pdf"
   ]
  },
  {
   "cell_type": "markdown",
   "id": "breeding-inside",
   "metadata": {},
   "source": [
    "Calculate power production"
   ]
  },
  {
   "cell_type": "code",
   "execution_count": null,
   "id": "charitable-circulation",
   "metadata": {},
   "outputs": [],
   "source": [
    "hourly_average['Prod/m2'] = hourly_average['G(i)']*conv_eff/1000\n",
    "hourly_average.head(24)"
   ]
  },
  {
   "cell_type": "code",
   "execution_count": null,
   "id": "valued-senegal",
   "metadata": {},
   "outputs": [],
   "source": [
    "PV_size = 6 #kW_p"
   ]
  },
  {
   "cell_type": "code",
   "execution_count": null,
   "id": "canadian-washington",
   "metadata": {},
   "outputs": [],
   "source": [
    "size = 6*PV_size # m2 necessary for 6 kW_p\n",
    "# https://www.energieheld.de/solaranlage/photovoltaik\n",
    "# https://www.energieheld.ch/solaranlagen/photovoltaik#:~:text=Rechnen%20Sie%20im%20Durchschnitt%20etwa,dieser%20Gr%C3%B6sse%20installieren%20zu%20k%C3%B6nnen."
   ]
  },
  {
   "cell_type": "code",
   "execution_count": null,
   "id": "controversial-world",
   "metadata": {},
   "outputs": [],
   "source": [
    "hourly_average['Prod'] = hourly_average['Prod/m2']*size"
   ]
  },
  {
   "cell_type": "markdown",
   "id": "activated-improvement",
   "metadata": {},
   "source": [
    "Calculate yearly production"
   ]
  },
  {
   "cell_type": "code",
   "execution_count": null,
   "id": "pressed-terminal",
   "metadata": {},
   "outputs": [],
   "source": [
    "months = ['Jan','Feb','Mar','Apr','May','Jun','Jul','Aug','Sep','Oct','Nov','Dec']"
   ]
  },
  {
   "cell_type": "code",
   "execution_count": null,
   "id": "abstract-validity",
   "metadata": {},
   "outputs": [],
   "source": [
    "ax = hourly_average['Prod'].plot(fontsize = 20, ylabel = 'Production in kW', xlabel ='');\n",
    "ax.set_xticks(np.arange(0, 8760, 730).tolist());\n",
    "ax.set_xticklabels(months, rotation=90);"
   ]
  },
  {
   "cell_type": "code",
   "execution_count": null,
   "id": "large-highlight",
   "metadata": {},
   "outputs": [],
   "source": [
    "fig = ax.get_figure()"
   ]
  },
  {
   "cell_type": "code",
   "execution_count": null,
   "id": "intense-melbourne",
   "metadata": {},
   "outputs": [],
   "source": [
    "fig.savefig('Plots/Solar_CH.jpg')"
   ]
  },
  {
   "cell_type": "code",
   "execution_count": null,
   "id": "allied-weekend",
   "metadata": {},
   "outputs": [],
   "source": [
    "yearly_PV_prod = hourly_average['Prod'].sum()"
   ]
  },
  {
   "cell_type": "code",
   "execution_count": null,
   "id": "official-maple",
   "metadata": {},
   "outputs": [],
   "source": [
    "yearly_PV_prod"
   ]
  },
  {
   "cell_type": "code",
   "execution_count": null,
   "id": "israeli-runner",
   "metadata": {},
   "outputs": [],
   "source": [
    "hourly_average['Prod'].to_pickle('Calculations/Norway/PV_production_Norway.pkl')"
   ]
  },
  {
   "cell_type": "code",
   "execution_count": null,
   "id": "plastic-austin",
   "metadata": {},
   "outputs": [],
   "source": []
  }
 ],
 "metadata": {
  "kernelspec": {
   "display_name": "Python 3",
   "language": "python",
   "name": "python3"
  },
  "language_info": {
   "codemirror_mode": {
    "name": "ipython",
    "version": 3
   },
   "file_extension": ".py",
   "mimetype": "text/x-python",
   "name": "python",
   "nbconvert_exporter": "python",
   "pygments_lexer": "ipython3",
   "version": "3.6.9"
  }
 },
 "nbformat": 4,
 "nbformat_minor": 5
}
