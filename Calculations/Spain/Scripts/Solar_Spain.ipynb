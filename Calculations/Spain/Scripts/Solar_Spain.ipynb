{
 "cells": [
  {
   "cell_type": "code",
   "execution_count": 19,
   "id": "republican-vertical",
   "metadata": {},
   "outputs": [],
   "source": [
    "import pandas as pd\n",
    "import numpy as np\n",
    "import matplotlib.pyplot as plt\n",
    "import os"
   ]
  },
  {
   "cell_type": "code",
   "execution_count": 20,
   "id": "freelance-shield",
   "metadata": {},
   "outputs": [],
   "source": [
    "plt.rcParams[\"figure.figsize\"] = (15,8) #set size of plot\n",
    "plt.rcParams.update({'font.size': 22})"
   ]
  },
  {
   "cell_type": "code",
   "execution_count": 21,
   "id": "synthetic-center",
   "metadata": {},
   "outputs": [],
   "source": [
    "os.chdir('/home/MA')"
   ]
  },
  {
   "cell_type": "markdown",
   "id": "extensive-actress",
   "metadata": {},
   "source": [
    "**PV production calculation**"
   ]
  },
  {
   "cell_type": "markdown",
   "id": "proper-sister",
   "metadata": {},
   "source": [
    "Methodology based on this paper: https://www.researchgate.net/publication/331837767_The_energetic_implications_of_introducing_lithium-ion_batteries_into_distributed_photovoltaic_systems"
   ]
  },
  {
   "cell_type": "markdown",
   "id": "israeli-evanescence",
   "metadata": {},
   "source": [
    "Get local data from https://re.jrc.ec.europa.eu/pvg_tools/en/#HR\n",
    "for years 2010-2016 to average yearly variability\n",
    "Solar panels were assumed to be 46 inclined towards south to maximize yearly yield without the need for sophisticated mechanic installations."
   ]
  },
  {
   "cell_type": "markdown",
   "id": "twenty-settle",
   "metadata": {},
   "source": [
    "Read data into dataframe"
   ]
  },
  {
   "cell_type": "code",
   "execution_count": 22,
   "id": "disabled-balance",
   "metadata": {},
   "outputs": [],
   "source": [
    "meteo_data = pd.read_csv('Data/PV_Sevilla.csv')"
   ]
  },
  {
   "cell_type": "code",
   "execution_count": 23,
   "id": "signed-input",
   "metadata": {},
   "outputs": [
    {
     "data": {
      "text/html": [
       "<div>\n",
       "<style scoped>\n",
       "    .dataframe tbody tr th:only-of-type {\n",
       "        vertical-align: middle;\n",
       "    }\n",
       "\n",
       "    .dataframe tbody tr th {\n",
       "        vertical-align: top;\n",
       "    }\n",
       "\n",
       "    .dataframe thead th {\n",
       "        text-align: right;\n",
       "    }\n",
       "</style>\n",
       "<table border=\"1\" class=\"dataframe\">\n",
       "  <thead>\n",
       "    <tr style=\"text-align: right;\">\n",
       "      <th></th>\n",
       "      <th>time</th>\n",
       "      <th>G(i)</th>\n",
       "      <th>H_sun</th>\n",
       "      <th>T2m</th>\n",
       "      <th>WS10m</th>\n",
       "      <th>Int</th>\n",
       "    </tr>\n",
       "  </thead>\n",
       "  <tbody>\n",
       "    <tr>\n",
       "      <th>0</th>\n",
       "      <td>20100101:0009</td>\n",
       "      <td>0.0</td>\n",
       "      <td>0.0</td>\n",
       "      <td>13.73</td>\n",
       "      <td>3.50</td>\n",
       "      <td>0</td>\n",
       "    </tr>\n",
       "    <tr>\n",
       "      <th>1</th>\n",
       "      <td>20100101:0109</td>\n",
       "      <td>0.0</td>\n",
       "      <td>0.0</td>\n",
       "      <td>13.47</td>\n",
       "      <td>3.22</td>\n",
       "      <td>0</td>\n",
       "    </tr>\n",
       "    <tr>\n",
       "      <th>2</th>\n",
       "      <td>20100101:0209</td>\n",
       "      <td>0.0</td>\n",
       "      <td>0.0</td>\n",
       "      <td>13.21</td>\n",
       "      <td>2.93</td>\n",
       "      <td>0</td>\n",
       "    </tr>\n",
       "    <tr>\n",
       "      <th>3</th>\n",
       "      <td>20100101:0309</td>\n",
       "      <td>0.0</td>\n",
       "      <td>0.0</td>\n",
       "      <td>12.95</td>\n",
       "      <td>2.65</td>\n",
       "      <td>0</td>\n",
       "    </tr>\n",
       "    <tr>\n",
       "      <th>4</th>\n",
       "      <td>20100101:0409</td>\n",
       "      <td>0.0</td>\n",
       "      <td>0.0</td>\n",
       "      <td>13.21</td>\n",
       "      <td>2.57</td>\n",
       "      <td>0</td>\n",
       "    </tr>\n",
       "  </tbody>\n",
       "</table>\n",
       "</div>"
      ],
      "text/plain": [
       "            time  G(i)  H_sun    T2m  WS10m  Int\n",
       "0  20100101:0009   0.0    0.0  13.73   3.50    0\n",
       "1  20100101:0109   0.0    0.0  13.47   3.22    0\n",
       "2  20100101:0209   0.0    0.0  13.21   2.93    0\n",
       "3  20100101:0309   0.0    0.0  12.95   2.65    0\n",
       "4  20100101:0409   0.0    0.0  13.21   2.57    0"
      ]
     },
     "execution_count": 23,
     "metadata": {},
     "output_type": "execute_result"
    }
   ],
   "source": [
    "meteo_data.head()"
   ]
  },
  {
   "cell_type": "markdown",
   "id": "micro-sympathy",
   "metadata": {},
   "source": [
    "Convert time column to datetime format to facilitate data processing"
   ]
  },
  {
   "cell_type": "code",
   "execution_count": 24,
   "id": "italic-brass",
   "metadata": {},
   "outputs": [],
   "source": [
    "meteo_data['time'] = pd.to_datetime(meteo_data['time'], format='%Y%m%d:%H%M')"
   ]
  },
  {
   "cell_type": "markdown",
   "id": "virgin-container",
   "metadata": {},
   "source": [
    "Get rid of leap years"
   ]
  },
  {
   "cell_type": "code",
   "execution_count": 25,
   "id": "registered-criterion",
   "metadata": {},
   "outputs": [],
   "source": [
    "meteo_data = meteo_data[~((meteo_data.time.dt.month == 2) & (meteo_data.time.dt.day == 29))]"
   ]
  },
  {
   "cell_type": "markdown",
   "id": "stuck-italian",
   "metadata": {},
   "source": [
    "Check length of dataset to be 7 years x 365 days/year x 24 hours/day = 61320 days"
   ]
  },
  {
   "cell_type": "code",
   "execution_count": 26,
   "id": "extreme-component",
   "metadata": {},
   "outputs": [
    {
     "data": {
      "text/plain": [
       "61320"
      ]
     },
     "execution_count": 26,
     "metadata": {},
     "output_type": "execute_result"
    }
   ],
   "source": [
    "len(meteo_data)"
   ]
  },
  {
   "cell_type": "markdown",
   "id": "western-barcelona",
   "metadata": {},
   "source": [
    "Check date of maximum value"
   ]
  },
  {
   "cell_type": "code",
   "execution_count": 27,
   "id": "dynamic-hepatitis",
   "metadata": {},
   "outputs": [
    {
     "data": {
      "text/html": [
       "<div>\n",
       "<style scoped>\n",
       "    .dataframe tbody tr th:only-of-type {\n",
       "        vertical-align: middle;\n",
       "    }\n",
       "\n",
       "    .dataframe tbody tr th {\n",
       "        vertical-align: top;\n",
       "    }\n",
       "\n",
       "    .dataframe thead th {\n",
       "        text-align: right;\n",
       "    }\n",
       "</style>\n",
       "<table border=\"1\" class=\"dataframe\">\n",
       "  <thead>\n",
       "    <tr style=\"text-align: right;\">\n",
       "      <th></th>\n",
       "      <th>time</th>\n",
       "      <th>G(i)</th>\n",
       "      <th>H_sun</th>\n",
       "      <th>T2m</th>\n",
       "      <th>WS10m</th>\n",
       "      <th>Int</th>\n",
       "    </tr>\n",
       "  </thead>\n",
       "  <tbody>\n",
       "    <tr>\n",
       "      <th>52716</th>\n",
       "      <td>2016-01-06 12:09:00</td>\n",
       "      <td>1528.42</td>\n",
       "      <td>29.93</td>\n",
       "      <td>15.29</td>\n",
       "      <td>3.28</td>\n",
       "      <td>1</td>\n",
       "    </tr>\n",
       "  </tbody>\n",
       "</table>\n",
       "</div>"
      ],
      "text/plain": [
       "                     time     G(i)  H_sun    T2m  WS10m  Int\n",
       "52716 2016-01-06 12:09:00  1528.42  29.93  15.29   3.28    1"
      ]
     },
     "execution_count": 27,
     "metadata": {},
     "output_type": "execute_result"
    }
   ],
   "source": [
    "meteo_data[meteo_data['G(i)'] == meteo_data['G(i)'].max()]"
   ]
  },
  {
   "cell_type": "markdown",
   "id": "nominated-radio",
   "metadata": {},
   "source": [
    "This is the absolute amount of radiation incident on a solar cell in Oslo without accounting for the conversion efficiency. \n",
    "As expected, it occurs on the 22th of March, the date where the sun's angle is exactly perpendicular to the panel's orientation."
   ]
  },
  {
   "cell_type": "markdown",
   "id": "interior-heating",
   "metadata": {},
   "source": [
    "Calculate hourly averages over the defined period of years by grouping and taking the mean."
   ]
  },
  {
   "cell_type": "code",
   "execution_count": 28,
   "id": "severe-waters",
   "metadata": {},
   "outputs": [],
   "source": [
    "hourly_average=meteo_data.groupby([meteo_data[\"time\"].dt.month, meteo_data[\"time\"].dt.day, meteo_data[\"time\"].dt.hour]).mean()"
   ]
  },
  {
   "cell_type": "code",
   "execution_count": 29,
   "id": "mental-professional",
   "metadata": {},
   "outputs": [],
   "source": [
    "hourly_average.index.names = [\"month\", \"day\", \"hour\"]"
   ]
  },
  {
   "cell_type": "markdown",
   "id": "continental-conversation",
   "metadata": {},
   "source": [
    "Define conversion efficiency"
   ]
  },
  {
   "cell_type": "code",
   "execution_count": 30,
   "id": "dated-memorial",
   "metadata": {},
   "outputs": [],
   "source": [
    "conv_eff = 0.2 # 2020 slide 7 on https://www.ise.fraunhofer.de/content/dam/ise/de/documents/publications/studies/Photovoltaics-Report.pdf"
   ]
  },
  {
   "cell_type": "markdown",
   "id": "reported-works",
   "metadata": {},
   "source": [
    "Calculate power production"
   ]
  },
  {
   "cell_type": "code",
   "execution_count": 31,
   "id": "federal-handling",
   "metadata": {},
   "outputs": [
    {
     "data": {
      "text/html": [
       "<div>\n",
       "<style scoped>\n",
       "    .dataframe tbody tr th:only-of-type {\n",
       "        vertical-align: middle;\n",
       "    }\n",
       "\n",
       "    .dataframe tbody tr th {\n",
       "        vertical-align: top;\n",
       "    }\n",
       "\n",
       "    .dataframe thead th {\n",
       "        text-align: right;\n",
       "    }\n",
       "</style>\n",
       "<table border=\"1\" class=\"dataframe\">\n",
       "  <thead>\n",
       "    <tr style=\"text-align: right;\">\n",
       "      <th></th>\n",
       "      <th></th>\n",
       "      <th></th>\n",
       "      <th>G(i)</th>\n",
       "      <th>H_sun</th>\n",
       "      <th>T2m</th>\n",
       "      <th>WS10m</th>\n",
       "      <th>Int</th>\n",
       "      <th>Prod/m2</th>\n",
       "    </tr>\n",
       "    <tr>\n",
       "      <th>month</th>\n",
       "      <th>day</th>\n",
       "      <th>hour</th>\n",
       "      <th></th>\n",
       "      <th></th>\n",
       "      <th></th>\n",
       "      <th></th>\n",
       "      <th></th>\n",
       "      <th></th>\n",
       "    </tr>\n",
       "  </thead>\n",
       "  <tbody>\n",
       "    <tr>\n",
       "      <th rowspan=\"24\" valign=\"top\">1</th>\n",
       "      <th rowspan=\"24\" valign=\"top\">1</th>\n",
       "      <th>0</th>\n",
       "      <td>0.000000</td>\n",
       "      <td>0.000000</td>\n",
       "      <td>13.540000</td>\n",
       "      <td>2.037143</td>\n",
       "      <td>0.000000</td>\n",
       "      <td>0.000000</td>\n",
       "    </tr>\n",
       "    <tr>\n",
       "      <th>1</th>\n",
       "      <td>0.000000</td>\n",
       "      <td>0.000000</td>\n",
       "      <td>13.345714</td>\n",
       "      <td>2.068571</td>\n",
       "      <td>0.000000</td>\n",
       "      <td>0.000000</td>\n",
       "    </tr>\n",
       "    <tr>\n",
       "      <th>2</th>\n",
       "      <td>0.000000</td>\n",
       "      <td>0.000000</td>\n",
       "      <td>13.151429</td>\n",
       "      <td>2.102857</td>\n",
       "      <td>0.000000</td>\n",
       "      <td>0.000000</td>\n",
       "    </tr>\n",
       "    <tr>\n",
       "      <th>3</th>\n",
       "      <td>0.000000</td>\n",
       "      <td>0.000000</td>\n",
       "      <td>12.952857</td>\n",
       "      <td>2.132857</td>\n",
       "      <td>0.000000</td>\n",
       "      <td>0.000000</td>\n",
       "    </tr>\n",
       "    <tr>\n",
       "      <th>4</th>\n",
       "      <td>0.000000</td>\n",
       "      <td>0.000000</td>\n",
       "      <td>13.007143</td>\n",
       "      <td>2.107143</td>\n",
       "      <td>0.000000</td>\n",
       "      <td>0.000000</td>\n",
       "    </tr>\n",
       "    <tr>\n",
       "      <th>5</th>\n",
       "      <td>0.000000</td>\n",
       "      <td>0.000000</td>\n",
       "      <td>13.058571</td>\n",
       "      <td>2.081429</td>\n",
       "      <td>0.000000</td>\n",
       "      <td>0.000000</td>\n",
       "    </tr>\n",
       "    <tr>\n",
       "      <th>6</th>\n",
       "      <td>0.000000</td>\n",
       "      <td>0.000000</td>\n",
       "      <td>13.112857</td>\n",
       "      <td>2.058571</td>\n",
       "      <td>0.000000</td>\n",
       "      <td>0.000000</td>\n",
       "    </tr>\n",
       "    <tr>\n",
       "      <th>7</th>\n",
       "      <td>0.000000</td>\n",
       "      <td>0.000000</td>\n",
       "      <td>13.320000</td>\n",
       "      <td>2.080000</td>\n",
       "      <td>0.000000</td>\n",
       "      <td>0.000000</td>\n",
       "    </tr>\n",
       "    <tr>\n",
       "      <th>8</th>\n",
       "      <td>119.848571</td>\n",
       "      <td>3.891429</td>\n",
       "      <td>13.522857</td>\n",
       "      <td>2.102857</td>\n",
       "      <td>0.000000</td>\n",
       "      <td>0.023970</td>\n",
       "    </tr>\n",
       "    <tr>\n",
       "      <th>9</th>\n",
       "      <td>332.527143</td>\n",
       "      <td>13.830000</td>\n",
       "      <td>13.730000</td>\n",
       "      <td>2.127143</td>\n",
       "      <td>0.142857</td>\n",
       "      <td>0.066505</td>\n",
       "    </tr>\n",
       "    <tr>\n",
       "      <th>10</th>\n",
       "      <td>365.911429</td>\n",
       "      <td>21.490000</td>\n",
       "      <td>14.201429</td>\n",
       "      <td>2.552857</td>\n",
       "      <td>0.142857</td>\n",
       "      <td>0.073182</td>\n",
       "    </tr>\n",
       "    <tr>\n",
       "      <th>11</th>\n",
       "      <td>454.005714</td>\n",
       "      <td>26.910000</td>\n",
       "      <td>14.668571</td>\n",
       "      <td>2.978571</td>\n",
       "      <td>0.142857</td>\n",
       "      <td>0.090801</td>\n",
       "    </tr>\n",
       "    <tr>\n",
       "      <th>12</th>\n",
       "      <td>485.662857</td>\n",
       "      <td>29.460000</td>\n",
       "      <td>15.131429</td>\n",
       "      <td>3.407143</td>\n",
       "      <td>0.142857</td>\n",
       "      <td>0.097133</td>\n",
       "    </tr>\n",
       "    <tr>\n",
       "      <th>13</th>\n",
       "      <td>627.510000</td>\n",
       "      <td>28.780000</td>\n",
       "      <td>15.458571</td>\n",
       "      <td>3.368571</td>\n",
       "      <td>0.142857</td>\n",
       "      <td>0.125502</td>\n",
       "    </tr>\n",
       "    <tr>\n",
       "      <th>14</th>\n",
       "      <td>511.617143</td>\n",
       "      <td>24.960000</td>\n",
       "      <td>15.781429</td>\n",
       "      <td>3.328571</td>\n",
       "      <td>0.142857</td>\n",
       "      <td>0.102323</td>\n",
       "    </tr>\n",
       "    <tr>\n",
       "      <th>15</th>\n",
       "      <td>471.622857</td>\n",
       "      <td>18.520000</td>\n",
       "      <td>16.112857</td>\n",
       "      <td>3.292857</td>\n",
       "      <td>0.142857</td>\n",
       "      <td>0.094325</td>\n",
       "    </tr>\n",
       "    <tr>\n",
       "      <th>16</th>\n",
       "      <td>216.844286</td>\n",
       "      <td>10.100000</td>\n",
       "      <td>15.864286</td>\n",
       "      <td>3.167143</td>\n",
       "      <td>0.142857</td>\n",
       "      <td>0.043369</td>\n",
       "    </tr>\n",
       "    <tr>\n",
       "      <th>17</th>\n",
       "      <td>0.000000</td>\n",
       "      <td>0.207143</td>\n",
       "      <td>15.624286</td>\n",
       "      <td>3.040000</td>\n",
       "      <td>0.714286</td>\n",
       "      <td>0.000000</td>\n",
       "    </tr>\n",
       "    <tr>\n",
       "      <th>18</th>\n",
       "      <td>0.000000</td>\n",
       "      <td>0.000000</td>\n",
       "      <td>15.381429</td>\n",
       "      <td>2.917143</td>\n",
       "      <td>0.000000</td>\n",
       "      <td>0.000000</td>\n",
       "    </tr>\n",
       "    <tr>\n",
       "      <th>19</th>\n",
       "      <td>0.000000</td>\n",
       "      <td>0.000000</td>\n",
       "      <td>15.064286</td>\n",
       "      <td>2.868571</td>\n",
       "      <td>0.000000</td>\n",
       "      <td>0.000000</td>\n",
       "    </tr>\n",
       "    <tr>\n",
       "      <th>20</th>\n",
       "      <td>0.000000</td>\n",
       "      <td>0.000000</td>\n",
       "      <td>14.747143</td>\n",
       "      <td>2.820000</td>\n",
       "      <td>0.000000</td>\n",
       "      <td>0.000000</td>\n",
       "    </tr>\n",
       "    <tr>\n",
       "      <th>21</th>\n",
       "      <td>0.000000</td>\n",
       "      <td>0.000000</td>\n",
       "      <td>14.430000</td>\n",
       "      <td>2.770000</td>\n",
       "      <td>0.000000</td>\n",
       "      <td>0.000000</td>\n",
       "    </tr>\n",
       "    <tr>\n",
       "      <th>22</th>\n",
       "      <td>0.000000</td>\n",
       "      <td>0.000000</td>\n",
       "      <td>14.452857</td>\n",
       "      <td>2.695714</td>\n",
       "      <td>0.000000</td>\n",
       "      <td>0.000000</td>\n",
       "    </tr>\n",
       "    <tr>\n",
       "      <th>23</th>\n",
       "      <td>0.000000</td>\n",
       "      <td>0.000000</td>\n",
       "      <td>14.478571</td>\n",
       "      <td>2.615714</td>\n",
       "      <td>0.000000</td>\n",
       "      <td>0.000000</td>\n",
       "    </tr>\n",
       "  </tbody>\n",
       "</table>\n",
       "</div>"
      ],
      "text/plain": [
       "                      G(i)      H_sun        T2m     WS10m       Int   Prod/m2\n",
       "month day hour                                                                \n",
       "1     1   0       0.000000   0.000000  13.540000  2.037143  0.000000  0.000000\n",
       "          1       0.000000   0.000000  13.345714  2.068571  0.000000  0.000000\n",
       "          2       0.000000   0.000000  13.151429  2.102857  0.000000  0.000000\n",
       "          3       0.000000   0.000000  12.952857  2.132857  0.000000  0.000000\n",
       "          4       0.000000   0.000000  13.007143  2.107143  0.000000  0.000000\n",
       "          5       0.000000   0.000000  13.058571  2.081429  0.000000  0.000000\n",
       "          6       0.000000   0.000000  13.112857  2.058571  0.000000  0.000000\n",
       "          7       0.000000   0.000000  13.320000  2.080000  0.000000  0.000000\n",
       "          8     119.848571   3.891429  13.522857  2.102857  0.000000  0.023970\n",
       "          9     332.527143  13.830000  13.730000  2.127143  0.142857  0.066505\n",
       "          10    365.911429  21.490000  14.201429  2.552857  0.142857  0.073182\n",
       "          11    454.005714  26.910000  14.668571  2.978571  0.142857  0.090801\n",
       "          12    485.662857  29.460000  15.131429  3.407143  0.142857  0.097133\n",
       "          13    627.510000  28.780000  15.458571  3.368571  0.142857  0.125502\n",
       "          14    511.617143  24.960000  15.781429  3.328571  0.142857  0.102323\n",
       "          15    471.622857  18.520000  16.112857  3.292857  0.142857  0.094325\n",
       "          16    216.844286  10.100000  15.864286  3.167143  0.142857  0.043369\n",
       "          17      0.000000   0.207143  15.624286  3.040000  0.714286  0.000000\n",
       "          18      0.000000   0.000000  15.381429  2.917143  0.000000  0.000000\n",
       "          19      0.000000   0.000000  15.064286  2.868571  0.000000  0.000000\n",
       "          20      0.000000   0.000000  14.747143  2.820000  0.000000  0.000000\n",
       "          21      0.000000   0.000000  14.430000  2.770000  0.000000  0.000000\n",
       "          22      0.000000   0.000000  14.452857  2.695714  0.000000  0.000000\n",
       "          23      0.000000   0.000000  14.478571  2.615714  0.000000  0.000000"
      ]
     },
     "execution_count": 31,
     "metadata": {},
     "output_type": "execute_result"
    }
   ],
   "source": [
    "hourly_average['Prod/m2'] = hourly_average['G(i)']*conv_eff/1000\n",
    "hourly_average.head(24)"
   ]
  },
  {
   "cell_type": "code",
   "execution_count": 32,
   "id": "sitting-necklace",
   "metadata": {},
   "outputs": [],
   "source": [
    "PV_size = 6 #kW_p"
   ]
  },
  {
   "cell_type": "code",
   "execution_count": 33,
   "id": "productive-edinburgh",
   "metadata": {},
   "outputs": [],
   "source": [
    "size = 6*PV_size # m2 necessary for 6 kW_p\n",
    "# https://www.energieheld.de/solaranlage/photovoltaik\n",
    "# https://www.energieheld.ch/solaranlagen/photovoltaik#:~:text=Rechnen%20Sie%20im%20Durchschnitt%20etwa,dieser%20Gr%C3%B6sse%20installieren%20zu%20k%C3%B6nnen."
   ]
  },
  {
   "cell_type": "code",
   "execution_count": 34,
   "id": "early-gravity",
   "metadata": {},
   "outputs": [],
   "source": [
    "hourly_average['Prod'] = hourly_average['Prod/m2']*size"
   ]
  },
  {
   "cell_type": "markdown",
   "id": "communist-vanilla",
   "metadata": {},
   "source": [
    "Calculate yearly production"
   ]
  },
  {
   "cell_type": "code",
   "execution_count": 35,
   "id": "connected-impossible",
   "metadata": {},
   "outputs": [],
   "source": [
    "months = ['Jan','Feb','Mar','Apr','May','Jun','Jul','Aug','Sep','Oct','Nov','Dec']"
   ]
  },
  {
   "cell_type": "code",
   "execution_count": 36,
   "id": "measured-primary",
   "metadata": {},
   "outputs": [
    {
     "data": {
      "image/png": "[encoded data removed]",
      "text/plain": [
       "<Figure size 1080x576 with 1 Axes>"
      ]
     },
     "metadata": {
      "needs_background": "light"
     },
     "output_type": "display_data"
    }
   ],
   "source": [
    "ax = hourly_average['Prod'].plot(fontsize = 20, ylabel = 'Production in kW', xlabel ='');\n",
    "ax.set_xticks(np.arange(0, 8760, 730).tolist());\n",
    "ax.set_xticklabels(months, rotation=90);"
   ]
  },
  {
   "cell_type": "code",
   "execution_count": 37,
   "id": "resident-memorial",
   "metadata": {},
   "outputs": [],
   "source": [
    "fig = ax.get_figure()"
   ]
  },
  {
   "cell_type": "code",
   "execution_count": 38,
   "id": "aerial-spain",
   "metadata": {},
   "outputs": [],
   "source": [
    "fig.savefig('Plots/Solar_CH.jpg')"
   ]
  },
  {
   "cell_type": "code",
   "execution_count": 39,
   "id": "alleged-industry",
   "metadata": {},
   "outputs": [],
   "source": [
    "yearly_PV_prod = hourly_average['Prod'].sum()"
   ]
  },
  {
   "cell_type": "code",
   "execution_count": 40,
   "id": "coral-switzerland",
   "metadata": {},
   "outputs": [
    {
     "data": {
      "text/plain": [
       "15616.107051428571"
      ]
     },
     "execution_count": 40,
     "metadata": {},
     "output_type": "execute_result"
    }
   ],
   "source": [
    "yearly_PV_prod"
   ]
  },
  {
   "cell_type": "code",
   "execution_count": 41,
   "id": "precious-copper",
   "metadata": {},
   "outputs": [],
   "source": [
    "hourly_average['Prod'].to_pickle('Calculations/Spain/PV_production_Spain.pkl')"
   ]
  }
 ],
 "metadata": {
  "kernelspec": {
   "display_name": "Python 3",
   "language": "python",
   "name": "python3"
  },
  "language_info": {
   "codemirror_mode": {
    "name": "ipython",
    "version": 3
   },
   "file_extension": ".py",
   "mimetype": "text/x-python",
   "name": "python",
   "nbconvert_exporter": "python",
   "pygments_lexer": "ipython3",
   "version": "3.6.9"
  }
 },
 "nbformat": 4,
 "nbformat_minor": 5
}
