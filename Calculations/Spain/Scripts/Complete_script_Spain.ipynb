{
 "cells": [
  {
   "cell_type": "code",
   "execution_count": 9,
   "id": "fifteen-examination",
   "metadata": {},
   "outputs": [],
   "source": [
    "import pandas as pd\n",
    "import numpy as np\n",
    "import matplotlib.pyplot as plt\n",
    "import os\n",
    "import matplotlib.dates as mdates"
   ]
  },
  {
   "cell_type": "code",
   "execution_count": 10,
   "id": "disturbed-responsibility",
   "metadata": {},
   "outputs": [],
   "source": [
    "plt.rcParams[\"figure.figsize\"] = (15,8) #set size of plot\n",
    "plt.rcParams.update({'font.size': 22})"
   ]
  },
  {
   "cell_type": "code",
   "execution_count": 11,
   "id": "swedish-convergence",
   "metadata": {},
   "outputs": [],
   "source": [
    "os.chdir('/home/MA')"
   ]
  },
  {
   "cell_type": "code",
   "execution_count": 12,
   "id": "arabic-undergraduate",
   "metadata": {},
   "outputs": [],
   "source": [
    "from Battery_dispatch_function import BatteryDispatch"
   ]
  },
  {
   "cell_type": "markdown",
   "id": "composed-jumping",
   "metadata": {},
   "source": [
    "## Define Parameter"
   ]
  },
  {
   "cell_type": "markdown",
   "id": "continued-classification",
   "metadata": {},
   "source": [
    "Electricity mix carbon intensity for Spain\n",
    "\n",
    "Ember AG-Energiebilanzen (Daniel's Excel sheet)"
   ]
  },
  {
   "cell_type": "code",
   "execution_count": 13,
   "id": "closing-distributor",
   "metadata": {},
   "outputs": [],
   "source": [
    "grid_emissions_Spain = 228 # g CO2/kWh"
   ]
  },
  {
   "cell_type": "code",
   "execution_count": 14,
   "id": "decent-conclusion",
   "metadata": {},
   "outputs": [],
   "source": [
    "battery_sizes = [0, 6, 12, 18, 24, 30]"
   ]
  },
  {
   "cell_type": "code",
   "execution_count": 15,
   "id": "macro-prior",
   "metadata": {},
   "outputs": [],
   "source": [
    "conv_eff = 0.2 # 2020 slide 7 on https://www.ise.fraunhofer.de/content/dam/ise/de/documents/publications/studies/Photovoltaics-Report.pdf"
   ]
  },
  {
   "cell_type": "markdown",
   "id": "sitting-capitol",
   "metadata": {},
   "source": [
    "Define PV sizing **HERE**"
   ]
  },
  {
   "cell_type": "code",
   "execution_count": 16,
   "id": "instructional-butler",
   "metadata": {},
   "outputs": [],
   "source": [
    "PV_size = 6 #kW_p"
   ]
  },
  {
   "cell_type": "markdown",
   "id": "fifty-benefit",
   "metadata": {},
   "source": [
    "According to https://www.energieheld.de/solaranlage/photovoltaik and https://www.energieheld.ch/solaranlagen/photovoltaik#:~:text=Rechnen%20Sie%20im%20Durchschnitt%20etwa,dieser%20Gr%C3%B6sse%20installieren%20zu%20k%C3%B6nnen, 6 m2 are required per kW_p"
   ]
  },
  {
   "cell_type": "code",
   "execution_count": 17,
   "id": "designing-clothing",
   "metadata": {},
   "outputs": [],
   "source": [
    "size = 6*PV_size # m2 necessary for 6 kW_p"
   ]
  },
  {
   "cell_type": "code",
   "execution_count": 18,
   "id": "fallen-reflection",
   "metadata": {},
   "outputs": [],
   "source": [
    "HW_boiler_eff = 1\n",
    "HP_COP = 3.1\n",
    "AC_EER = 8.5"
   ]
  },
  {
   "cell_type": "code",
   "execution_count": 19,
   "id": "widespread-reconstruction",
   "metadata": {},
   "outputs": [],
   "source": [
    "max_c_charge = 0.25\n",
    "max_c_discharge = 0.5"
   ]
  },
  {
   "cell_type": "markdown",
   "id": "dramatic-savage",
   "metadata": {},
   "source": [
    "Roundtrip efficiency solar battery: 85% (check alternative sources) https://www.homerenergy.com/products/pro/docs/latest/battery_roundtrip_efficiency.html#:~:text=The%20battery%20round%2Dtrip%20efficiency,Typically%20it%20is%20about%2080%25.\n",
    "Assumption: Losses occur during discharging only (Charging efficiency is 99% https://www.powertechsystems.eu/home/tech-corner/lithium-ion-battery-advantages/)"
   ]
  },
  {
   "cell_type": "code",
   "execution_count": 20,
   "id": "arranged-chest",
   "metadata": {},
   "outputs": [],
   "source": [
    "eta_discharge = 0.85"
   ]
  },
  {
   "cell_type": "code",
   "execution_count": 21,
   "id": "optical-field",
   "metadata": {},
   "outputs": [],
   "source": [
    "PV_lifetime = 25 #years"
   ]
  },
  {
   "cell_type": "code",
   "execution_count": 22,
   "id": "cooperative-affiliation",
   "metadata": {},
   "outputs": [],
   "source": [
    "battery_lifetime = 15 # years"
   ]
  },
  {
   "cell_type": "markdown",
   "id": "healthy-excitement",
   "metadata": {},
   "source": [
    "Battery production energy intensity from https://www.researchgate.net/publication/331837767_The_energetic_implications_of_introducing_lithium-ion_batteries_into_distributed_photovoltaic_systems"
   ]
  },
  {
   "cell_type": "code",
   "execution_count": 23,
   "id": "superior-ratio",
   "metadata": {},
   "outputs": [],
   "source": [
    "elec_battery_prod = 95.5 # kwh_el/kWh_n"
   ]
  },
  {
   "cell_type": "markdown",
   "id": "greatest-investing",
   "metadata": {},
   "source": [
    "Assumption: Battery production in China\n",
    "at 637 g CO2/kWh\n",
    "https://www.mdpi.com/1996-1073/14/4/961/pdf"
   ]
  },
  {
   "cell_type": "code",
   "execution_count": 24,
   "id": "metropolitan-federation",
   "metadata": {},
   "outputs": [],
   "source": [
    "CO2_intensity_China = 637"
   ]
  },
  {
   "cell_type": "code",
   "execution_count": 25,
   "id": "opened-airplane",
   "metadata": {},
   "outputs": [],
   "source": [
    "electricity_PV_production = 1597 # kWh_el kWp-1"
   ]
  },
  {
   "cell_type": "markdown",
   "id": "light-number",
   "metadata": {},
   "source": [
    "## Start calculations"
   ]
  },
  {
   "cell_type": "markdown",
   "id": "threatened-jimmy",
   "metadata": {},
   "source": [
    "Methodology based on this paper: https://www.researchgate.net/publication/331837767_The_energetic_implications_of_introducing_lithium-ion_batteries_into_distributed_photovoltaic_systems"
   ]
  },
  {
   "cell_type": "markdown",
   "id": "computational-white",
   "metadata": {},
   "source": [
    "Get local data from https://re.jrc.ec.europa.eu/pvg_tools/en/#HR\n",
    "for years 2010-2016 to average yearly variability\n",
    "Solar panels were assumed to be 46 inclined towards south to maximize yearly yield without the need for sophisticated mechanic installations."
   ]
  },
  {
   "cell_type": "markdown",
   "id": "fourth-commons",
   "metadata": {},
   "source": [
    "Read data into dataframe"
   ]
  },
  {
   "cell_type": "markdown",
   "id": "round-fiction",
   "metadata": {},
   "source": [
    "For Switzerland, a weather station near Zurich airport was chosen (LSZH)"
   ]
  },
  {
   "cell_type": "code",
   "execution_count": 26,
   "id": "behind-delight",
   "metadata": {},
   "outputs": [],
   "source": [
    "HDD_CH = pd.read_csv('Data/LSZH_HDD_12C.csv')"
   ]
  },
  {
   "cell_type": "markdown",
   "id": "judicial-elephant",
   "metadata": {},
   "source": [
    "For Spain, LEZL station near Sevilla was selected"
   ]
  },
  {
   "cell_type": "code",
   "execution_count": 27,
   "id": "prime-painting",
   "metadata": {},
   "outputs": [],
   "source": [
    "HDD_Spain = pd.read_csv('Data/LEZL_HDD_12C.csv')"
   ]
  },
  {
   "cell_type": "code",
   "execution_count": 28,
   "id": "express-henry",
   "metadata": {},
   "outputs": [],
   "source": [
    "load_CH = pd.read_pickle('Calculations/CH/load_CH_separated.pkl')"
   ]
  },
  {
   "cell_type": "markdown",
   "id": "caring-administrator",
   "metadata": {},
   "source": [
    "Goal: to recreate a heating demand profile for Spain based on the one provided for Switzerland.\n",
    "Approach: Divide all heating energy by total of heating degree days for Switzerland, then multiply Spain's heating degree days. Same approach for cooling demand.\n",
    "\n",
    "\n",
    "Calculations were carried out with base temperature of 12° Celsius for heating and 25° Celsius for cooling, which is a valid assumption based on https://www.sciencedirect.com/science/article/pii/S2352710218301086#:~:text=The%20air%20temperature%20is%20defined,the%20basis%20for%20climate%20classification.\n",
    "Source for heating and cooling days : https://www.degreedays.net/#"
   ]
  },
  {
   "cell_type": "markdown",
   "id": "dutch-found",
   "metadata": {},
   "source": [
    "## First, let's deal with heating:"
   ]
  },
  {
   "cell_type": "code",
   "execution_count": 29,
   "id": "active-huntington",
   "metadata": {},
   "outputs": [],
   "source": [
    "Total_elec_heating_CH = sum(load_CH['Electricity for Space Heating [kWh]'])"
   ]
  },
  {
   "cell_type": "code",
   "execution_count": 30,
   "id": "varied-culture",
   "metadata": {},
   "outputs": [
    {
     "data": {
      "text/plain": [
       "1034.6743396814395"
      ]
     },
     "execution_count": 30,
     "metadata": {},
     "output_type": "execute_result"
    }
   ],
   "source": [
    "Total_elec_heating_CH"
   ]
  },
  {
   "cell_type": "code",
   "execution_count": 31,
   "id": "absolute-payment",
   "metadata": {},
   "outputs": [],
   "source": [
    "HDD_Spain['Date'] = pd.to_datetime(HDD_Spain['Date'], format='%d-%m-%y')"
   ]
  },
  {
   "cell_type": "code",
   "execution_count": 32,
   "id": "korean-values",
   "metadata": {},
   "outputs": [],
   "source": [
    "HDD_Spain = HDD_Spain[~((HDD_Spain.Date.dt.month == 2) & (HDD_Spain.Date.dt.day == 29))]"
   ]
  },
  {
   "cell_type": "code",
   "execution_count": 33,
   "id": "happy-medicine",
   "metadata": {},
   "outputs": [],
   "source": [
    "HDD_Spain_averaged = HDD_Spain.groupby([HDD_Spain[\"Date\"].dt.month, HDD_Spain[\"Date\"].dt.day, HDD_Spain[\"Date\"].dt.hour]).mean()"
   ]
  },
  {
   "cell_type": "code",
   "execution_count": 34,
   "id": "danish-disclosure",
   "metadata": {},
   "outputs": [],
   "source": [
    "HDD_Spain_averaged.index.names = [\"month\", \"day\", \"hour\"]"
   ]
  },
  {
   "cell_type": "code",
   "execution_count": 35,
   "id": "capital-variance",
   "metadata": {},
   "outputs": [],
   "source": [
    "HDD_CH['Date'] = pd.to_datetime(HDD_CH['Date'], format='%d-%m-%y')"
   ]
  },
  {
   "cell_type": "code",
   "execution_count": 36,
   "id": "comparative-melbourne",
   "metadata": {},
   "outputs": [],
   "source": [
    "HDD_CH = HDD_CH[~((HDD_CH.Date.dt.month == 2) & (HDD_CH.Date.dt.day == 29))]"
   ]
  },
  {
   "cell_type": "code",
   "execution_count": 37,
   "id": "editorial-hometown",
   "metadata": {},
   "outputs": [],
   "source": [
    "HDD_CH_averaged = HDD_CH.groupby([HDD_CH[\"Date\"].dt.month, HDD_CH[\"Date\"].dt.day, HDD_CH[\"Date\"].dt.hour]).mean()"
   ]
  },
  {
   "cell_type": "code",
   "execution_count": 38,
   "id": "instant-senate",
   "metadata": {},
   "outputs": [],
   "source": [
    "HDD_CH_averaged.index.names = [\"month\", \"day\", \"hour\"]"
   ]
  },
  {
   "cell_type": "code",
   "execution_count": 39,
   "id": "dated-tuesday",
   "metadata": {},
   "outputs": [
    {
     "data": {
      "text/plain": [
       "1523.0083333333332"
      ]
     },
     "execution_count": 39,
     "metadata": {},
     "output_type": "execute_result"
    }
   ],
   "source": [
    "Total_HDD_CH = sum(HDD_CH_averaged['HDD 12'])\n",
    "Total_HDD_CH"
   ]
  },
  {
   "cell_type": "code",
   "execution_count": 40,
   "id": "infrared-contamination",
   "metadata": {},
   "outputs": [
    {
     "data": {
      "text/plain": [
       "185.13333333333316"
      ]
     },
     "execution_count": 40,
     "metadata": {},
     "output_type": "execute_result"
    }
   ],
   "source": [
    "Total_HDD_Spain = sum(HDD_Spain_averaged['HDD 12'])\n",
    "Total_HDD_Spain"
   ]
  },
  {
   "cell_type": "markdown",
   "id": "received-headquarters",
   "metadata": {},
   "source": [
    "Reproduce a hourly profile for new locations based on climate pattern averaging Switzerland's daily profile"
   ]
  },
  {
   "cell_type": "code",
   "execution_count": 41,
   "id": "covered-difference",
   "metadata": {},
   "outputs": [
    {
     "data": {
      "text/plain": [
       "Int64Index([ 1,  2,  3,  4,  5,  6,  7,  8,  9, 10,\n",
       "            ...\n",
       "            15, 16, 17, 18, 19, 20, 21, 22, 23,  0],\n",
       "           dtype='int64', name='hour', length=8760)"
      ]
     },
     "execution_count": 41,
     "metadata": {},
     "output_type": "execute_result"
    }
   ],
   "source": [
    "load_CH.index.get_level_values('hour')"
   ]
  },
  {
   "cell_type": "code",
   "execution_count": 42,
   "id": "partial-citizen",
   "metadata": {},
   "outputs": [],
   "source": [
    "heating_hourly_averaged_CH = load_CH['Electricity for Space Heating [kWh]'].groupby(load_CH.index.get_level_values('hour')).mean()"
   ]
  },
  {
   "cell_type": "code",
   "execution_count": 43,
   "id": "historic-mining",
   "metadata": {},
   "outputs": [],
   "source": [
    "heating_hourly_normalized_CH = heating_hourly_averaged_CH/sum(heating_hourly_averaged_CH)"
   ]
  },
  {
   "cell_type": "code",
   "execution_count": 44,
   "id": "generous-illustration",
   "metadata": {},
   "outputs": [],
   "source": [
    "load_Spain = load_CH.copy()"
   ]
  },
  {
   "cell_type": "code",
   "execution_count": 45,
   "id": "engaging-extraction",
   "metadata": {},
   "outputs": [
    {
     "data": {
      "text/plain": [
       "0.679362231339141"
      ]
     },
     "execution_count": 45,
     "metadata": {},
     "output_type": "execute_result"
    }
   ],
   "source": [
    "ratio_CH = Total_elec_heating_CH/Total_HDD_CH\n",
    "ratio_CH # kWh/HDD"
   ]
  },
  {
   "cell_type": "code",
   "execution_count": 46,
   "id": "cooperative-inclusion",
   "metadata": {},
   "outputs": [
    {
     "data": {
      "text/plain": [
       "month  day  hour\n",
       "1      1    0       2.966667\n",
       "            0       2.966667\n",
       "            0       2.966667\n",
       "            0       2.966667\n",
       "            0       2.966667\n",
       "                      ...   \n",
       "12     31   0       3.133333\n",
       "            0       3.133333\n",
       "            0       3.133333\n",
       "            0       3.133333\n",
       "            0       3.133333\n",
       "Name: HDD 12, Length: 8760, dtype: float64"
      ]
     },
     "execution_count": 46,
     "metadata": {},
     "output_type": "execute_result"
    }
   ],
   "source": [
    "HDD_Spain_averaged['HDD 12'].repeat(24)"
   ]
  },
  {
   "cell_type": "code",
   "execution_count": 47,
   "id": "split-hardwood",
   "metadata": {},
   "outputs": [
    {
     "data": {
      "text/plain": [
       "8760"
      ]
     },
     "execution_count": 47,
     "metadata": {},
     "output_type": "execute_result"
    }
   ],
   "source": [
    "heating_hourly_normalized_CH_df = np.tile(heating_hourly_normalized_CH, 365)\n",
    "len(heating_hourly_normalized_CH_df)"
   ]
  },
  {
   "cell_type": "code",
   "execution_count": 48,
   "id": "peripheral-marriage",
   "metadata": {},
   "outputs": [],
   "source": [
    "load_Spain['Electricity for Space Heating [kWh]'] = HDD_Spain_averaged['HDD 12'].repeat(24).values * heating_hourly_normalized_CH_df * ratio_CH"
   ]
  },
  {
   "cell_type": "code",
   "execution_count": 49,
   "id": "eastern-camcorder",
   "metadata": {},
   "outputs": [
    {
     "data": {
      "text/plain": [
       "125.77259442858605"
      ]
     },
     "execution_count": 49,
     "metadata": {},
     "output_type": "execute_result"
    }
   ],
   "source": [
    "sum(load_Spain['Electricity for Space Heating [kWh]'])"
   ]
  },
  {
   "cell_type": "code",
   "execution_count": 50,
   "id": "anticipated-render",
   "metadata": {},
   "outputs": [
    {
     "data": {
      "text/plain": [
       "125.77259442858617"
      ]
     },
     "execution_count": 50,
     "metadata": {},
     "output_type": "execute_result"
    }
   ],
   "source": [
    "crosscheck = Total_elec_heating_CH*Total_HDD_Spain/Total_HDD_CH\n",
    "crosscheck"
   ]
  },
  {
   "cell_type": "markdown",
   "id": "postal-commons",
   "metadata": {},
   "source": [
    "## Now, let's analyze cooling demand"
   ]
  },
  {
   "cell_type": "code",
   "execution_count": 51,
   "id": "coral-means",
   "metadata": {},
   "outputs": [],
   "source": [
    "CDD_CH = pd.read_csv('Data/LSZH_CDD_22C+-3C.csv')"
   ]
  },
  {
   "cell_type": "markdown",
   "id": "stopped-donna",
   "metadata": {},
   "source": [
    "For Spain, LEZL station near Sevilla was selected"
   ]
  },
  {
   "cell_type": "code",
   "execution_count": 52,
   "id": "talented-father",
   "metadata": {},
   "outputs": [],
   "source": [
    "CDD_Spain = pd.read_csv('Data/LEZL_CDD_22C+-3C.csv')"
   ]
  },
  {
   "cell_type": "markdown",
   "id": "monthly-disposal",
   "metadata": {},
   "source": [
    "Reproduce a hourly profile for new locations based on climate pattern averaging Switzerland's daily profile"
   ]
  },
  {
   "cell_type": "code",
   "execution_count": 53,
   "id": "copyrighted-matthew",
   "metadata": {},
   "outputs": [],
   "source": [
    "Total_elec_cooling_CH = sum(load_CH['Electricity for Space Cooling [kWh]'])"
   ]
  },
  {
   "cell_type": "code",
   "execution_count": 54,
   "id": "hindu-importance",
   "metadata": {},
   "outputs": [
    {
     "data": {
      "text/plain": [
       "1144.119406827451"
      ]
     },
     "execution_count": 54,
     "metadata": {},
     "output_type": "execute_result"
    }
   ],
   "source": [
    "Total_elec_cooling_CH"
   ]
  },
  {
   "cell_type": "code",
   "execution_count": 55,
   "id": "unsigned-logic",
   "metadata": {},
   "outputs": [],
   "source": [
    "CDD_Spain['Date'] = pd.to_datetime(CDD_Spain['Date'], format='%d-%m-%y')"
   ]
  },
  {
   "cell_type": "code",
   "execution_count": 56,
   "id": "detailed-office",
   "metadata": {},
   "outputs": [],
   "source": [
    "CDD_Spain = CDD_Spain[~((CDD_Spain.Date.dt.month == 2) & (CDD_Spain.Date.dt.day == 29))]"
   ]
  },
  {
   "cell_type": "code",
   "execution_count": 57,
   "id": "provincial-variance",
   "metadata": {},
   "outputs": [],
   "source": [
    "CDD_Spain_averaged = CDD_Spain.groupby([CDD_Spain[\"Date\"].dt.month, CDD_Spain[\"Date\"].dt.day, CDD_Spain[\"Date\"].dt.hour]).mean()"
   ]
  },
  {
   "cell_type": "code",
   "execution_count": 58,
   "id": "announced-vampire",
   "metadata": {},
   "outputs": [],
   "source": [
    "CDD_Spain_averaged.index.names = [\"month\", \"day\", \"hour\"]"
   ]
  },
  {
   "cell_type": "code",
   "execution_count": 59,
   "id": "elementary-christianity",
   "metadata": {},
   "outputs": [],
   "source": [
    "CDD_CH['Date'] = pd.to_datetime(CDD_CH['Date'], format='%d-%m-%y')"
   ]
  },
  {
   "cell_type": "code",
   "execution_count": 60,
   "id": "dangerous-oxygen",
   "metadata": {},
   "outputs": [],
   "source": [
    "CDD_CH = CDD_CH[~((CDD_CH.Date.dt.month == 2) & (CDD_CH.Date.dt.day == 29))]"
   ]
  },
  {
   "cell_type": "code",
   "execution_count": 61,
   "id": "descending-august",
   "metadata": {},
   "outputs": [],
   "source": [
    "CDD_CH_averaged = CDD_CH.groupby([CDD_CH[\"Date\"].dt.month, CDD_CH[\"Date\"].dt.day, CDD_CH[\"Date\"].dt.hour]).mean()"
   ]
  },
  {
   "cell_type": "code",
   "execution_count": 62,
   "id": "designed-corner",
   "metadata": {},
   "outputs": [],
   "source": [
    "CDD_CH_averaged.index.names = [\"month\", \"day\", \"hour\"]"
   ]
  },
  {
   "cell_type": "code",
   "execution_count": 63,
   "id": "tracked-weekend",
   "metadata": {},
   "outputs": [
    {
     "data": {
      "text/plain": [
       "55.50833333333335"
      ]
     },
     "execution_count": 63,
     "metadata": {},
     "output_type": "execute_result"
    }
   ],
   "source": [
    "Total_CDD_CH = sum(CDD_CH_averaged['CDD 25'])\n",
    "Total_CDD_CH"
   ]
  },
  {
   "cell_type": "code",
   "execution_count": 64,
   "id": "danish-trustee",
   "metadata": {},
   "outputs": [
    {
     "data": {
      "text/plain": [
       "428.1416666666667"
      ]
     },
     "execution_count": 64,
     "metadata": {},
     "output_type": "execute_result"
    }
   ],
   "source": [
    "Total_CDD_Spain = sum(CDD_Spain_averaged['CDD 25'])\n",
    "Total_CDD_Spain"
   ]
  },
  {
   "cell_type": "code",
   "execution_count": 65,
   "id": "finished-millennium",
   "metadata": {},
   "outputs": [],
   "source": [
    "cooling_hourly_averaged_CH = load_CH['Electricity for Space Cooling [kWh]'].groupby(load_CH.index.get_level_values('hour')).mean()"
   ]
  },
  {
   "cell_type": "code",
   "execution_count": 66,
   "id": "accredited-generation",
   "metadata": {},
   "outputs": [],
   "source": [
    "cooling_hourly_normalized_CH = cooling_hourly_averaged_CH/sum(cooling_hourly_averaged_CH)"
   ]
  },
  {
   "cell_type": "code",
   "execution_count": 67,
   "id": "educated-appreciation",
   "metadata": {},
   "outputs": [
    {
     "data": {
      "text/plain": [
       "20.6116692417496"
      ]
     },
     "execution_count": 67,
     "metadata": {},
     "output_type": "execute_result"
    }
   ],
   "source": [
    "ratio_CH = Total_elec_cooling_CH/Total_CDD_CH\n",
    "ratio_CH # kWh/HDD"
   ]
  },
  {
   "cell_type": "code",
   "execution_count": 68,
   "id": "chief-spring",
   "metadata": {},
   "outputs": [
    {
     "data": {
      "text/plain": [
       "8760"
      ]
     },
     "execution_count": 68,
     "metadata": {},
     "output_type": "execute_result"
    }
   ],
   "source": [
    "cooling_hourly_normalized_CH_df = np.tile(cooling_hourly_normalized_CH, 365)\n",
    "len(cooling_hourly_normalized_CH_df)"
   ]
  },
  {
   "cell_type": "code",
   "execution_count": 69,
   "id": "rural-regard",
   "metadata": {},
   "outputs": [],
   "source": [
    "load_Spain['Electricity for Space Cooling [kWh]'] = CDD_Spain_averaged['CDD 25'].repeat(24).values * cooling_hourly_normalized_CH_df * ratio_CH"
   ]
  },
  {
   "cell_type": "code",
   "execution_count": 70,
   "id": "popular-treatment",
   "metadata": {},
   "outputs": [
    {
     "data": {
      "text/plain": [
       "8824.714421944747"
      ]
     },
     "execution_count": 70,
     "metadata": {},
     "output_type": "execute_result"
    }
   ],
   "source": [
    "sum(load_Spain['Electricity for Space Cooling [kWh]'])"
   ]
  },
  {
   "cell_type": "code",
   "execution_count": 71,
   "id": "equipped-emergency",
   "metadata": {},
   "outputs": [
    {
     "data": {
      "text/plain": [
       "8824.714421944744"
      ]
     },
     "execution_count": 71,
     "metadata": {},
     "output_type": "execute_result"
    }
   ],
   "source": [
    "crosscheck = Total_elec_cooling_CH*Total_CDD_Spain/Total_CDD_CH\n",
    "crosscheck"
   ]
  },
  {
   "cell_type": "code",
   "execution_count": 72,
   "id": "retained-constraint",
   "metadata": {},
   "outputs": [],
   "source": [
    "load_Spain['Total Electricity'] = load_Spain['Electricity demand [kWh](Hourly) '] + load_Spain['Electricity for Space Heating [kWh]'] + load_Spain['Electricity for Hot Water [kWh]'] + load_Spain['Electricity for Space Cooling [kWh]']"
   ]
  },
  {
   "cell_type": "code",
   "execution_count": 73,
   "id": "harmful-discovery",
   "metadata": {},
   "outputs": [],
   "source": [
    "total_elec_load = load_Spain['Total Electricity']"
   ]
  },
  {
   "cell_type": "markdown",
   "id": "motivated-remainder",
   "metadata": {},
   "source": [
    "## Start processing of solar production data"
   ]
  },
  {
   "cell_type": "code",
   "execution_count": 74,
   "id": "democratic-balance",
   "metadata": {},
   "outputs": [],
   "source": [
    "meteo_data = pd.read_csv('Data/PV_Sevilla.csv')"
   ]
  },
  {
   "cell_type": "markdown",
   "id": "wicked-sister",
   "metadata": {},
   "source": [
    "Convert time column to datetime format to facilitate data processing"
   ]
  },
  {
   "cell_type": "code",
   "execution_count": 75,
   "id": "sorted-antenna",
   "metadata": {},
   "outputs": [],
   "source": [
    "meteo_data['time'] = pd.to_datetime(meteo_data['time'], format='%Y%m%d:%H%M')"
   ]
  },
  {
   "cell_type": "markdown",
   "id": "piano-jason",
   "metadata": {},
   "source": [
    "Get rid of leap years"
   ]
  },
  {
   "cell_type": "code",
   "execution_count": 76,
   "id": "collective-memory",
   "metadata": {},
   "outputs": [],
   "source": [
    "meteo_data = meteo_data[~((meteo_data.time.dt.month == 2) & (meteo_data.time.dt.day == 29))]"
   ]
  },
  {
   "cell_type": "markdown",
   "id": "immediate-atmosphere",
   "metadata": {},
   "source": [
    "Check length of dataset to be 7 years x 365 days/year x 24 hours/day = 61320 days"
   ]
  },
  {
   "cell_type": "code",
   "execution_count": 77,
   "id": "assumed-swift",
   "metadata": {},
   "outputs": [
    {
     "data": {
      "text/plain": [
       "61320"
      ]
     },
     "execution_count": 77,
     "metadata": {},
     "output_type": "execute_result"
    }
   ],
   "source": [
    "len(meteo_data)"
   ]
  },
  {
   "cell_type": "markdown",
   "id": "bearing-overhead",
   "metadata": {},
   "source": [
    "Check date of maximum value"
   ]
  },
  {
   "cell_type": "code",
   "execution_count": 78,
   "id": "prescribed-appreciation",
   "metadata": {},
   "outputs": [
    {
     "data": {
      "text/html": [
       "<div>\n",
       "<style scoped>\n",
       "    .dataframe tbody tr th:only-of-type {\n",
       "        vertical-align: middle;\n",
       "    }\n",
       "\n",
       "    .dataframe tbody tr th {\n",
       "        vertical-align: top;\n",
       "    }\n",
       "\n",
       "    .dataframe thead th {\n",
       "        text-align: right;\n",
       "    }\n",
       "</style>\n",
       "<table border=\"1\" class=\"dataframe\">\n",
       "  <thead>\n",
       "    <tr style=\"text-align: right;\">\n",
       "      <th></th>\n",
       "      <th>time</th>\n",
       "      <th>G(i)</th>\n",
       "      <th>H_sun</th>\n",
       "      <th>T2m</th>\n",
       "      <th>WS10m</th>\n",
       "      <th>Int</th>\n",
       "    </tr>\n",
       "  </thead>\n",
       "  <tbody>\n",
       "    <tr>\n",
       "      <th>52716</th>\n",
       "      <td>2016-01-06 12:09:00</td>\n",
       "      <td>1528.42</td>\n",
       "      <td>29.93</td>\n",
       "      <td>15.29</td>\n",
       "      <td>3.28</td>\n",
       "      <td>1</td>\n",
       "    </tr>\n",
       "  </tbody>\n",
       "</table>\n",
       "</div>"
      ],
      "text/plain": [
       "                     time     G(i)  H_sun    T2m  WS10m  Int\n",
       "52716 2016-01-06 12:09:00  1528.42  29.93  15.29   3.28    1"
      ]
     },
     "execution_count": 78,
     "metadata": {},
     "output_type": "execute_result"
    }
   ],
   "source": [
    "meteo_data[meteo_data['G(i)'] == meteo_data['G(i)'].max()]"
   ]
  },
  {
   "cell_type": "markdown",
   "id": "verified-gothic",
   "metadata": {},
   "source": [
    "This is the absolute amount of radiation incident on a solar cell in Zurich without accounting for the conversion efficiency. \n",
    "As expected, it occurs on the 22th of March, the date where the sun's angle is exactly perpendicular to the panel's orientation."
   ]
  },
  {
   "cell_type": "code",
   "execution_count": 79,
   "id": "driven-aluminum",
   "metadata": {},
   "outputs": [],
   "source": [
    "years = meteo_data.time.dt.year.unique()"
   ]
  },
  {
   "cell_type": "code",
   "execution_count": 80,
   "id": "centered-opportunity",
   "metadata": {},
   "outputs": [],
   "source": [
    "results_all = pd.DataFrame()\n",
    "results_optimization_all = pd.DataFrame()\n",
    "for year in years:\n",
    "    meteo_data_year = meteo_data[meteo_data.time.dt.year == year]\n",
    "    hourly_average=meteo_data_year.groupby([meteo_data_year[\"time\"].dt.month, meteo_data_year[\"time\"].dt.day, meteo_data_year[\"time\"].dt.hour]).mean()\n",
    "    hourly_average.index.names = [\"month\", \"day\", \"hour\"]\n",
    "    hourly_average['Prod/m2'] = hourly_average['G(i)']*0.17/1000\n",
    "    hourly_average['Prod'] = hourly_average['Prod/m2']*size\n",
    "    yearly_PV_prod = hourly_average['Prod'].sum()\n",
    "    PV_production = hourly_average['Prod']\n",
    "    power_balance = pd.DataFrame()\n",
    "    power_balance['consumption'] = total_elec_load\n",
    "    power_balance['from PV'] = PV_production\n",
    "    power_balance['exchange grid'] = PV_production - total_elec_load\n",
    "    power_balance['to Grid'] = (PV_production - total_elec_load).clip(lower=0)\n",
    "    power_balance['from Grid'] = (total_elec_load - PV_production).clip(lower=0)\n",
    "    power_balance = power_balance.fillna(0)\n",
    "    self_consumption_kWh = sum(power_balance['consumption'] - power_balance['from Grid'])\n",
    "    total_CO2_PV_prod = electricity_PV_production * PV_size * CO2_intensity_China\n",
    "    reduced_CO2_PV_g = grid_emissions_Spain * self_consumption_kWh * PV_lifetime - total_CO2_PV_prod\n",
    "    reduced_CO2_PV_t = reduced_CO2_PV_g/1000000\n",
    "    results = pd.DataFrame()\n",
    "    results['battery_size'] = battery_sizes\n",
    "    results['curtailment'] = ''\n",
    "    results['yearly_savings_kWh'] = ''\n",
    "    for i in range(0, len(results['battery_size'])):\n",
    "        powerbalance = BatteryDispatch(power_balance, results['battery_size'].values[i], eta_discharge, max_c_charge, max_c_discharge)\n",
    "        results['yearly_savings_kWh'].values[i] = -sum(power_balance['Discharging'])\n",
    "        results['curtailment'].values[i] = sum(power_balance['to Grid New'])/sum(power_balance['from PV'])\n",
    "    results['total_savings_kWh'] = results['yearly_savings_kWh'] * PV_lifetime\n",
    "    results['yearly_savings_CO2'] = results['yearly_savings_kWh'] * grid_emissions_Spain / 1000000\n",
    "    results['total_CO2_grid_reduced'] = results['yearly_savings_CO2'] * PV_lifetime\n",
    "    results['total_elec_battery_prod'] = 2 * (elec_battery_prod * results['battery_size']/0.8)\n",
    "    results['total_CO2_battery_prod'] = results['total_elec_battery_prod'] * CO2_intensity_China / 1000000\n",
    "    results['net_CO2_savings'] = results['total_CO2_grid_reduced'] - results['total_CO2_battery_prod'] \n",
    "    results['stored'] = results.iloc[0]['curtailment'] - results['curtailment']\n",
    "    results.set_index(\"battery_size\",drop=True,inplace=True)\n",
    "    results['net_CO2_savings_with_PV'] = results['net_CO2_savings'] + reduced_CO2_PV_t\n",
    "    PV_production_hourly = PV_production\n",
    "    yearly_PV_production = sum(PV_production_hourly) \n",
    "    results['total_elec_PV_prod'] = electricity_PV_production * PV_size\n",
    "    results['ESOI'] = results['total_savings_kWh'].div(results['total_elec_battery_prod'].where(results['total_elec_battery_prod'] != 0, np.nan))\n",
    "    results['EROI_gen'] = yearly_PV_production*PV_lifetime/results['total_elec_PV_prod']\n",
    "    results['EROI_grid_useful'] = results['EROI_gen']\n",
    "    results['EROI_grid_curtailed'] = (1 - results['stored'] + eta_discharge * results['stored'])/(1/results['EROI_gen']+results['stored']/results['ESOI'])*(1-results['curtailment'])\n",
    "    results['EROI_grid_curtailed'] = results['EROI_grid_curtailed'].fillna(results['EROI_gen']*(1-results['curtailment']))\n",
    "    results['ESOI'] = results['ESOI'].fillna(0)\n",
    "    curtailment_thresholds = [0, 0.1, 0.2, 0.3, 0.4, 0.5, 0.6, 0.7, 0.8, 0.9]\n",
    "    #curtailment_thresholds = [0.4, 0.5]\n",
    "    battery_size = list(range(0, 25))\n",
    "    pd.options.mode.chained_assignment = None  # default='warn'\n",
    "    \n",
    "    results_optimization = pd.DataFrame()\n",
    "    results_optimization['curtailment'] = curtailment_thresholds\n",
    "    results_optimization['optimal_battery_size'] = ''    \n",
    "    results_optimization['net_CO2_savings'] = ''\n",
    "        \n",
    "    for curtailment in curtailment_thresholds:   \n",
    "        \n",
    "        temp = 0\n",
    "        max_power_allowed = curtailment*PV_size\n",
    "        PV_production_used = PV_production.copy()\n",
    "        PV_production_used[PV_production_used > max_power_allowed] = max_power_allowed\n",
    "        PV_production_curtailed = PV_production - max_power_allowed\n",
    "        PV_production_curtailed[PV_production_curtailed < 0] = 0\n",
    "        power_balance = pd.DataFrame()\n",
    "        power_balance['consumption'] = total_elec_load\n",
    "        power_balance['from PV'] = PV_production_curtailed\n",
    "        power_balance['exchange grid'] = PV_production_curtailed - total_elec_load\n",
    "        power_balance['to Grid'] = (PV_production_curtailed - total_elec_load).clip(lower=0)\n",
    "        power_balance['from Grid'] = (total_elec_load - PV_production_curtailed).clip(lower=0)\n",
    "        power_balance = power_balance.fillna(0)\n",
    "        \n",
    "        temp = pd.DataFrame()\n",
    "        temp['battery_size'] = battery_size\n",
    "        temp['yearly_savings_kWh'] = ''\n",
    "        temp['yearly_savings_CO2'] = ''\n",
    "        temp['total_CO2_grid_reduced'] = ''\n",
    "        temp['total_CO2_battery_prod'] = ''\n",
    "        temp['net_CO2_savings'] = ''\n",
    "        for i in range(0, len(temp['battery_size'])):\n",
    "            powerbalance = BatteryDispatch(power_balance, temp['battery_size'].values[i], eta_discharge, max_c_charge, max_c_discharge)\n",
    "            temp['yearly_savings_kWh'].values[i] = -sum(power_balance['Discharging'])\n",
    "            temp['yearly_savings_CO2'].values[i] = temp['yearly_savings_kWh'].values[i] * grid_emissions_Spain / 1000000\n",
    "            temp['total_CO2_grid_reduced'].values[i] = temp['yearly_savings_CO2'].values[i] * PV_lifetime\n",
    "            temp['total_elec_battery_prod'] = 2 * (elec_battery_prod * temp['battery_size']/0.8)\n",
    "            temp['total_CO2_battery_prod'].values[i] = temp['total_elec_battery_prod'].values[i] * CO2_intensity_China / 1000000\n",
    "            temp['net_CO2_savings'].values[i] =  temp['total_CO2_grid_reduced'].values[i] - temp['total_CO2_battery_prod'].values[i]\n",
    "        temp_max = temp[temp['net_CO2_savings']==temp['net_CO2_savings'].max()]\n",
    "        results_optimization.optimal_battery_size[results_optimization.curtailment == curtailment] = temp_max['battery_size'].values\n",
    "        results_optimization.net_CO2_savings[results_optimization.curtailment == curtailment] = temp_max['net_CO2_savings'].values\n",
    "    results_optimization.set_index(\"curtailment\",drop=True,inplace=True)\n",
    "    results_all = results_all.append(results)\n",
    "    results_optimization_all = results_optimization_all.append(results_optimization)"
   ]
  },
  {
   "cell_type": "code",
   "execution_count": 81,
   "id": "funky-berlin",
   "metadata": {},
   "outputs": [
    {
     "data": {
      "image/png": "[encoded data removed]",
      "text/plain": [
       "<Figure size 1080x576 with 1 Axes>"
      ]
     },
     "metadata": {
      "needs_background": "light"
     },
     "output_type": "display_data"
    }
   ],
   "source": [
    "results_all.boxplot(by ='battery_size', column =['net_CO2_savings'], grid = False)\n",
    "plt.suptitle('');"
   ]
  },
  {
   "cell_type": "code",
   "execution_count": 82,
   "id": "arctic-vacuum",
   "metadata": {},
   "outputs": [
    {
     "data": {
      "image/png": "[encoded data removed]",
      "text/plain": [
       "<Figure size 1080x576 with 1 Axes>"
      ]
     },
     "metadata": {
      "needs_background": "light"
     },
     "output_type": "display_data"
    }
   ],
   "source": [
    "results_all.boxplot(by ='battery_size', column =['net_CO2_savings_with_PV'], grid = False)\n",
    "plt.suptitle('');"
   ]
  },
  {
   "cell_type": "code",
   "execution_count": 83,
   "id": "executive-playlist",
   "metadata": {},
   "outputs": [
    {
     "data": {
      "image/png": "[encoded data removed]",
      "text/plain": [
       "<Figure size 1080x576 with 1 Axes>"
      ]
     },
     "metadata": {
      "needs_background": "light"
     },
     "output_type": "display_data"
    }
   ],
   "source": [
    "results_all.boxplot(by ='battery_size', column =['ESOI'], grid = False)\n",
    "plt.suptitle('');"
   ]
  },
  {
   "cell_type": "code",
   "execution_count": 84,
   "id": "paperback-european",
   "metadata": {},
   "outputs": [
    {
     "data": {
      "image/png": "[encoded data removed]",
      "text/plain": [
       "<Figure size 1080x576 with 1 Axes>"
      ]
     },
     "metadata": {
      "needs_background": "light"
     },
     "output_type": "display_data"
    }
   ],
   "source": [
    "results_all.boxplot(by ='battery_size', column =['EROI_grid_curtailed'], grid = False)\n",
    "plt.suptitle('');"
   ]
  },
  {
   "cell_type": "code",
   "execution_count": 85,
   "id": "specified-cricket",
   "metadata": {},
   "outputs": [
    {
     "data": {
      "image/png": "[encoded data removed]",
      "text/plain": [
       "<Figure size 1080x576 with 1 Axes>"
      ]
     },
     "metadata": {
      "needs_background": "light"
     },
     "output_type": "display_data"
    }
   ],
   "source": [
    "results_optimization_all.boxplot(by ='curtailment', column =['optimal_battery_size'], grid = False)\n",
    "plt.suptitle('');"
   ]
  },
  {
   "cell_type": "code",
   "execution_count": 86,
   "id": "transsexual-recipient",
   "metadata": {},
   "outputs": [
    {
     "data": {
      "image/png": "[encoded data removed]",
      "text/plain": [
       "<Figure size 1080x576 with 1 Axes>"
      ]
     },
     "metadata": {
      "needs_background": "light"
     },
     "output_type": "display_data"
    }
   ],
   "source": [
    "results_optimization_all.boxplot(by ='curtailment', column =['net_CO2_savings'], grid = False)\n",
    "plt.suptitle('');"
   ]
  },
  {
   "cell_type": "markdown",
   "id": "covered-wiring",
   "metadata": {},
   "source": [
    "## Explore results using momentary CO2-emissions (electricitymap)"
   ]
  },
  {
   "cell_type": "code",
   "execution_count": 152,
   "id": "nearby-prince",
   "metadata": {},
   "outputs": [],
   "source": [
    "emissions_spain = pd.read_csv('Data/ES 2020.csv')"
   ]
  },
  {
   "cell_type": "code",
   "execution_count": 153,
   "id": "connected-chaos",
   "metadata": {},
   "outputs": [
    {
     "data": {
      "text/html": [
       "<div>\n",
       "<style scoped>\n",
       "    .dataframe tbody tr th:only-of-type {\n",
       "        vertical-align: middle;\n",
       "    }\n",
       "\n",
       "    .dataframe tbody tr th {\n",
       "        vertical-align: top;\n",
       "    }\n",
       "\n",
       "    .dataframe thead th {\n",
       "        text-align: right;\n",
       "    }\n",
       "</style>\n",
       "<table border=\"1\" class=\"dataframe\">\n",
       "  <thead>\n",
       "    <tr style=\"text-align: right;\">\n",
       "      <th></th>\n",
       "      <th>datetime</th>\n",
       "      <th>created_at</th>\n",
       "      <th>updated_at</th>\n",
       "      <th>timestamp</th>\n",
       "      <th>zone_name</th>\n",
       "      <th>carbon_intensity_avg</th>\n",
       "      <th>carbon_intensity_production_avg</th>\n",
       "      <th>carbon_intensity_discharge_avg</th>\n",
       "      <th>carbon_intensity_import_avg</th>\n",
       "      <th>carbon_rate_avg</th>\n",
       "      <th>...</th>\n",
       "      <th>latest_forecasted_precipitation_avg</th>\n",
       "      <th>latest_forecasted_price_avg</th>\n",
       "      <th>latest_forecasted_production_avg</th>\n",
       "      <th>latest_forecasted_consumption_avg</th>\n",
       "      <th>latest_forecasted_power_net_import_ES-IB-MA_avg</th>\n",
       "      <th>latest_forecasted_power_net_import_FR_avg</th>\n",
       "      <th>latest_forecasted_power_net_import_MA_avg</th>\n",
       "      <th>latest_forecasted_power_net_import_PT_avg</th>\n",
       "      <th>latest_forecasted_production_solar_avg</th>\n",
       "      <th>latest_forecasted_production_wind_avg</th>\n",
       "    </tr>\n",
       "  </thead>\n",
       "  <tbody>\n",
       "    <tr>\n",
       "      <th>0</th>\n",
       "      <td>2020-01-01T00:00:00+00:00</td>\n",
       "      <td>2021-06-17T10:03:46.273583+00:00</td>\n",
       "      <td>2021-06-17T10:03:46.273583+00:00</td>\n",
       "      <td>1577836800</td>\n",
       "      <td>ES</td>\n",
       "      <td>192.72</td>\n",
       "      <td>187.39</td>\n",
       "      <td>NaN</td>\n",
       "      <td>539.27</td>\n",
       "      <td>NaN</td>\n",
       "      <td>...</td>\n",
       "      <td>0.0</td>\n",
       "      <td>38.60</td>\n",
       "      <td>20383.0</td>\n",
       "      <td>22592.0</td>\n",
       "      <td>NaN</td>\n",
       "      <td>-358.0</td>\n",
       "      <td>NaN</td>\n",
       "      <td>-277.0</td>\n",
       "      <td>13.0</td>\n",
       "      <td>1543.0</td>\n",
       "    </tr>\n",
       "    <tr>\n",
       "      <th>1</th>\n",
       "      <td>2020-01-01T01:00:00+00:00</td>\n",
       "      <td>2021-06-17T10:03:46.273583+00:00</td>\n",
       "      <td>2021-06-17T10:03:46.273583+00:00</td>\n",
       "      <td>1577840400</td>\n",
       "      <td>ES</td>\n",
       "      <td>189.05</td>\n",
       "      <td>183.52</td>\n",
       "      <td>NaN</td>\n",
       "      <td>539.27</td>\n",
       "      <td>NaN</td>\n",
       "      <td>...</td>\n",
       "      <td>0.0</td>\n",
       "      <td>36.55</td>\n",
       "      <td>20218.0</td>\n",
       "      <td>21332.0</td>\n",
       "      <td>NaN</td>\n",
       "      <td>-301.0</td>\n",
       "      <td>NaN</td>\n",
       "      <td>-813.0</td>\n",
       "      <td>11.0</td>\n",
       "      <td>1595.0</td>\n",
       "    </tr>\n",
       "    <tr>\n",
       "      <th>2</th>\n",
       "      <td>2020-01-01T02:00:00+00:00</td>\n",
       "      <td>2021-06-17T10:03:46.273583+00:00</td>\n",
       "      <td>2021-06-17T10:03:46.273583+00:00</td>\n",
       "      <td>1577844000</td>\n",
       "      <td>ES</td>\n",
       "      <td>184.93</td>\n",
       "      <td>180.64</td>\n",
       "      <td>NaN</td>\n",
       "      <td>539.27</td>\n",
       "      <td>NaN</td>\n",
       "      <td>...</td>\n",
       "      <td>0.0</td>\n",
       "      <td>32.32</td>\n",
       "      <td>20510.0</td>\n",
       "      <td>20103.0</td>\n",
       "      <td>NaN</td>\n",
       "      <td>-614.0</td>\n",
       "      <td>NaN</td>\n",
       "      <td>-786.0</td>\n",
       "      <td>9.0</td>\n",
       "      <td>1621.0</td>\n",
       "    </tr>\n",
       "    <tr>\n",
       "      <th>3</th>\n",
       "      <td>2020-01-01T03:00:00+00:00</td>\n",
       "      <td>2021-06-17T10:03:46.273583+00:00</td>\n",
       "      <td>2021-06-17T10:03:46.273583+00:00</td>\n",
       "      <td>1577847600</td>\n",
       "      <td>ES</td>\n",
       "      <td>186.94</td>\n",
       "      <td>183.34</td>\n",
       "      <td>NaN</td>\n",
       "      <td>539.27</td>\n",
       "      <td>NaN</td>\n",
       "      <td>...</td>\n",
       "      <td>0.0</td>\n",
       "      <td>30.85</td>\n",
       "      <td>20809.0</td>\n",
       "      <td>19371.0</td>\n",
       "      <td>NaN</td>\n",
       "      <td>-1108.0</td>\n",
       "      <td>NaN</td>\n",
       "      <td>-308.0</td>\n",
       "      <td>11.0</td>\n",
       "      <td>1632.0</td>\n",
       "    </tr>\n",
       "    <tr>\n",
       "      <th>4</th>\n",
       "      <td>2020-01-01T04:00:00+00:00</td>\n",
       "      <td>2021-06-17T10:03:46.273583+00:00</td>\n",
       "      <td>2021-06-17T10:03:46.273583+00:00</td>\n",
       "      <td>1577851200</td>\n",
       "      <td>ES</td>\n",
       "      <td>188.19</td>\n",
       "      <td>183.92</td>\n",
       "      <td>NaN</td>\n",
       "      <td>539.27</td>\n",
       "      <td>NaN</td>\n",
       "      <td>...</td>\n",
       "      <td>0.0</td>\n",
       "      <td>30.14</td>\n",
       "      <td>20710.0</td>\n",
       "      <td>19215.0</td>\n",
       "      <td>NaN</td>\n",
       "      <td>-1121.0</td>\n",
       "      <td>NaN</td>\n",
       "      <td>-269.0</td>\n",
       "      <td>11.0</td>\n",
       "      <td>1666.0</td>\n",
       "    </tr>\n",
       "  </tbody>\n",
       "</table>\n",
       "<p>5 rows × 80 columns</p>\n",
       "</div>"
      ],
      "text/plain": [
       "                    datetime                        created_at  \\\n",
       "0  2020-01-01T00:00:00+00:00  2021-06-17T10:03:46.273583+00:00   \n",
       "1  2020-01-01T01:00:00+00:00  2021-06-17T10:03:46.273583+00:00   \n",
       "2  2020-01-01T02:00:00+00:00  2021-06-17T10:03:46.273583+00:00   \n",
       "3  2020-01-01T03:00:00+00:00  2021-06-17T10:03:46.273583+00:00   \n",
       "4  2020-01-01T04:00:00+00:00  2021-06-17T10:03:46.273583+00:00   \n",
       "\n",
       "                         updated_at   timestamp zone_name  \\\n",
       "0  2021-06-17T10:03:46.273583+00:00  1577836800        ES   \n",
       "1  2021-06-17T10:03:46.273583+00:00  1577840400        ES   \n",
       "2  2021-06-17T10:03:46.273583+00:00  1577844000        ES   \n",
       "3  2021-06-17T10:03:46.273583+00:00  1577847600        ES   \n",
       "4  2021-06-17T10:03:46.273583+00:00  1577851200        ES   \n",
       "\n",
       "   carbon_intensity_avg  carbon_intensity_production_avg  \\\n",
       "0                192.72                           187.39   \n",
       "1                189.05                           183.52   \n",
       "2                184.93                           180.64   \n",
       "3                186.94                           183.34   \n",
       "4                188.19                           183.92   \n",
       "\n",
       "   carbon_intensity_discharge_avg  carbon_intensity_import_avg  \\\n",
       "0                             NaN                       539.27   \n",
       "1                             NaN                       539.27   \n",
       "2                             NaN                       539.27   \n",
       "3                             NaN                       539.27   \n",
       "4                             NaN                       539.27   \n",
       "\n",
       "   carbon_rate_avg  ...  latest_forecasted_precipitation_avg  \\\n",
       "0              NaN  ...                                  0.0   \n",
       "1              NaN  ...                                  0.0   \n",
       "2              NaN  ...                                  0.0   \n",
       "3              NaN  ...                                  0.0   \n",
       "4              NaN  ...                                  0.0   \n",
       "\n",
       "   latest_forecasted_price_avg  latest_forecasted_production_avg  \\\n",
       "0                        38.60                           20383.0   \n",
       "1                        36.55                           20218.0   \n",
       "2                        32.32                           20510.0   \n",
       "3                        30.85                           20809.0   \n",
       "4                        30.14                           20710.0   \n",
       "\n",
       "   latest_forecasted_consumption_avg  \\\n",
       "0                            22592.0   \n",
       "1                            21332.0   \n",
       "2                            20103.0   \n",
       "3                            19371.0   \n",
       "4                            19215.0   \n",
       "\n",
       "   latest_forecasted_power_net_import_ES-IB-MA_avg  \\\n",
       "0                                              NaN   \n",
       "1                                              NaN   \n",
       "2                                              NaN   \n",
       "3                                              NaN   \n",
       "4                                              NaN   \n",
       "\n",
       "   latest_forecasted_power_net_import_FR_avg  \\\n",
       "0                                     -358.0   \n",
       "1                                     -301.0   \n",
       "2                                     -614.0   \n",
       "3                                    -1108.0   \n",
       "4                                    -1121.0   \n",
       "\n",
       "  latest_forecasted_power_net_import_MA_avg  \\\n",
       "0                                       NaN   \n",
       "1                                       NaN   \n",
       "2                                       NaN   \n",
       "3                                       NaN   \n",
       "4                                       NaN   \n",
       "\n",
       "   latest_forecasted_power_net_import_PT_avg  \\\n",
       "0                                     -277.0   \n",
       "1                                     -813.0   \n",
       "2                                     -786.0   \n",
       "3                                     -308.0   \n",
       "4                                     -269.0   \n",
       "\n",
       "   latest_forecasted_production_solar_avg  \\\n",
       "0                                    13.0   \n",
       "1                                    11.0   \n",
       "2                                     9.0   \n",
       "3                                    11.0   \n",
       "4                                    11.0   \n",
       "\n",
       "   latest_forecasted_production_wind_avg  \n",
       "0                                 1543.0  \n",
       "1                                 1595.0  \n",
       "2                                 1621.0  \n",
       "3                                 1632.0  \n",
       "4                                 1666.0  \n",
       "\n",
       "[5 rows x 80 columns]"
      ]
     },
     "execution_count": 153,
     "metadata": {},
     "output_type": "execute_result"
    }
   ],
   "source": [
    "emissions_spain.head()"
   ]
  },
  {
   "cell_type": "code",
   "execution_count": 154,
   "id": "racial-speaking",
   "metadata": {},
   "outputs": [],
   "source": [
    "emissions_spain.datetime = pd.to_datetime(emissions_spain.datetime, format='%Y-%m-%dT%H')"
   ]
  },
  {
   "cell_type": "code",
   "execution_count": 155,
   "id": "therapeutic-grounds",
   "metadata": {},
   "outputs": [],
   "source": [
    "emissions_spain = emissions_spain[~((emissions_spain.datetime.dt.month == 2) & (emissions_spain.datetime.dt.day == 29))]"
   ]
  },
  {
   "cell_type": "code",
   "execution_count": 156,
   "id": "prompt-portrait",
   "metadata": {},
   "outputs": [],
   "source": [
    "emissions_spain = emissions_spain.groupby([emissions_spain['datetime'].dt.month, emissions_spain['datetime'].dt.day, emissions_spain['datetime'].dt.hour]).mean()"
   ]
  },
  {
   "cell_type": "code",
   "execution_count": 157,
   "id": "wrong-particular",
   "metadata": {},
   "outputs": [],
   "source": [
    "emissions_spain.index.names = [\"month\", \"day\", \"hour\"]"
   ]
  },
  {
   "cell_type": "code",
   "execution_count": 158,
   "id": "choice-trick",
   "metadata": {},
   "outputs": [
    {
     "data": {
      "text/plain": [
       "month  day  hour\n",
       "1      1    0       192.72\n",
       "            1       189.05\n",
       "            2       184.93\n",
       "            3       186.94\n",
       "            4       188.19\n",
       "                     ...  \n",
       "12     31   19      117.42\n",
       "            20      116.28\n",
       "            21      116.55\n",
       "            22      116.79\n",
       "            23      123.93\n",
       "Name: carbon_intensity_avg, Length: 8760, dtype: float64"
      ]
     },
     "execution_count": 158,
     "metadata": {},
     "output_type": "execute_result"
    }
   ],
   "source": [
    "emissions_spain['carbon_intensity_avg']"
   ]
  },
  {
   "cell_type": "code",
   "execution_count": 166,
   "id": "tracked-manufacturer",
   "metadata": {},
   "outputs": [
    {
     "ename": "ValueError",
     "evalue": "Length of replacements must equal series length",
     "output_type": "error",
     "traceback": [
      "\u001b[0;31m---------------------------------------------------------------------------\u001b[0m",
      "\u001b[0;31mTypeError\u001b[0m                                 Traceback (most recent call last)",
      "\u001b[0;32m/usr/local/lib/python3.6/dist-packages/pandas/core/series.py\u001b[0m in \u001b[0;36m__setitem__\u001b[0;34m(self, key, value)\u001b[0m\n\u001b[1;32m   1000\u001b[0m         \u001b[0;32mtry\u001b[0m\u001b[0;34m:\u001b[0m\u001b[0;34m\u001b[0m\u001b[0;34m\u001b[0m\u001b[0m\n\u001b[0;32m-> 1001\u001b[0;31m             \u001b[0mself\u001b[0m\u001b[0;34m.\u001b[0m\u001b[0m_set_with_engine\u001b[0m\u001b[0;34m(\u001b[0m\u001b[0mkey\u001b[0m\u001b[0;34m,\u001b[0m \u001b[0mvalue\u001b[0m\u001b[0;34m)\u001b[0m\u001b[0;34m\u001b[0m\u001b[0;34m\u001b[0m\u001b[0m\n\u001b[0m\u001b[1;32m   1002\u001b[0m         \u001b[0;32mexcept\u001b[0m \u001b[0;34m(\u001b[0m\u001b[0mKeyError\u001b[0m\u001b[0;34m,\u001b[0m \u001b[0mValueError\u001b[0m\u001b[0;34m)\u001b[0m\u001b[0;34m:\u001b[0m\u001b[0;34m\u001b[0m\u001b[0;34m\u001b[0m\u001b[0m\n",
      "\u001b[0;32m/usr/local/lib/python3.6/dist-packages/pandas/core/series.py\u001b[0m in \u001b[0;36m_set_with_engine\u001b[0;34m(self, key, value)\u001b[0m\n\u001b[1;32m   1033\u001b[0m         \u001b[0;31m# fails with AttributeError for IntervalIndex\u001b[0m\u001b[0;34m\u001b[0m\u001b[0;34m\u001b[0m\u001b[0;34m\u001b[0m\u001b[0m\n\u001b[0;32m-> 1034\u001b[0;31m         \u001b[0mloc\u001b[0m \u001b[0;34m=\u001b[0m \u001b[0mself\u001b[0m\u001b[0;34m.\u001b[0m\u001b[0mindex\u001b[0m\u001b[0;34m.\u001b[0m\u001b[0m_engine\u001b[0m\u001b[0;34m.\u001b[0m\u001b[0mget_loc\u001b[0m\u001b[0;34m(\u001b[0m\u001b[0mkey\u001b[0m\u001b[0;34m)\u001b[0m\u001b[0;34m\u001b[0m\u001b[0;34m\u001b[0m\u001b[0m\n\u001b[0m\u001b[1;32m   1035\u001b[0m         \u001b[0mvalidate_numeric_casting\u001b[0m\u001b[0;34m(\u001b[0m\u001b[0mself\u001b[0m\u001b[0;34m.\u001b[0m\u001b[0mdtype\u001b[0m\u001b[0;34m,\u001b[0m \u001b[0mvalue\u001b[0m\u001b[0;34m)\u001b[0m\u001b[0;34m\u001b[0m\u001b[0;34m\u001b[0m\u001b[0m\n",
      "\u001b[0;32mpandas/_libs/index.pyx\u001b[0m in \u001b[0;36mpandas._libs.index.IndexEngine.get_loc\u001b[0;34m()\u001b[0m\n",
      "\u001b[0;32mpandas/_libs/index.pyx\u001b[0m in \u001b[0;36mpandas._libs.index.IndexEngine.get_loc\u001b[0;34m()\u001b[0m\n",
      "\u001b[0;31mTypeError\u001b[0m: '0     True\n1    False\n2    False\n3    False\n4    False\n5    False\n6    False\n7    False\n8    False\n9    False\nName: curtailment, dtype: bool' is an invalid key",
      "\nDuring handling of the above exception, another exception occurred:\n",
      "\u001b[0;31mValueError\u001b[0m                                Traceback (most recent call last)",
      "\u001b[0;32m<ipython-input-166-b7933185fef7>\u001b[0m in \u001b[0;36m<module>\u001b[0;34m\u001b[0m\n\u001b[1;32m     92\u001b[0m             \u001b[0mtemp\u001b[0m\u001b[0;34m[\u001b[0m\u001b[0;34m'net_CO2_savings'\u001b[0m\u001b[0;34m]\u001b[0m\u001b[0;34m.\u001b[0m\u001b[0mvalues\u001b[0m\u001b[0;34m[\u001b[0m\u001b[0mi\u001b[0m\u001b[0;34m]\u001b[0m \u001b[0;34m=\u001b[0m  \u001b[0mtemp\u001b[0m\u001b[0;34m[\u001b[0m\u001b[0;34m'total_CO2_grid_reduced'\u001b[0m\u001b[0;34m]\u001b[0m\u001b[0;34m.\u001b[0m\u001b[0mvalues\u001b[0m\u001b[0;34m[\u001b[0m\u001b[0mi\u001b[0m\u001b[0;34m]\u001b[0m \u001b[0;34m-\u001b[0m \u001b[0mtemp\u001b[0m\u001b[0;34m[\u001b[0m\u001b[0;34m'total_CO2_battery_prod'\u001b[0m\u001b[0;34m]\u001b[0m\u001b[0;34m.\u001b[0m\u001b[0mvalues\u001b[0m\u001b[0;34m[\u001b[0m\u001b[0mi\u001b[0m\u001b[0;34m]\u001b[0m\u001b[0;34m\u001b[0m\u001b[0;34m\u001b[0m\u001b[0m\n\u001b[1;32m     93\u001b[0m         \u001b[0mtemp_max\u001b[0m \u001b[0;34m=\u001b[0m \u001b[0mtemp\u001b[0m\u001b[0;34m[\u001b[0m\u001b[0mtemp\u001b[0m\u001b[0;34m[\u001b[0m\u001b[0;34m'net_CO2_savings'\u001b[0m\u001b[0;34m]\u001b[0m\u001b[0;34m==\u001b[0m\u001b[0mtemp\u001b[0m\u001b[0;34m[\u001b[0m\u001b[0;34m'net_CO2_savings'\u001b[0m\u001b[0;34m]\u001b[0m\u001b[0;34m.\u001b[0m\u001b[0mmax\u001b[0m\u001b[0;34m(\u001b[0m\u001b[0;34m)\u001b[0m\u001b[0;34m]\u001b[0m\u001b[0;34m\u001b[0m\u001b[0;34m\u001b[0m\u001b[0m\n\u001b[0;32m---> 94\u001b[0;31m         \u001b[0mresults_optimization\u001b[0m\u001b[0;34m.\u001b[0m\u001b[0moptimal_battery_size\u001b[0m\u001b[0;34m[\u001b[0m\u001b[0mresults_optimization\u001b[0m\u001b[0;34m.\u001b[0m\u001b[0mcurtailment\u001b[0m \u001b[0;34m==\u001b[0m \u001b[0mcurtailment\u001b[0m\u001b[0;34m]\u001b[0m \u001b[0;34m=\u001b[0m \u001b[0mtemp_max\u001b[0m\u001b[0;34m[\u001b[0m\u001b[0;34m'battery_size'\u001b[0m\u001b[0;34m]\u001b[0m\u001b[0;34m.\u001b[0m\u001b[0mvalues\u001b[0m\u001b[0;34m\u001b[0m\u001b[0;34m\u001b[0m\u001b[0m\n\u001b[0m\u001b[1;32m     95\u001b[0m         \u001b[0mresults_optimization\u001b[0m\u001b[0;34m.\u001b[0m\u001b[0mnet_CO2_savings\u001b[0m\u001b[0;34m[\u001b[0m\u001b[0mresults_optimization\u001b[0m\u001b[0;34m.\u001b[0m\u001b[0mcurtailment\u001b[0m \u001b[0;34m==\u001b[0m \u001b[0mcurtailment\u001b[0m\u001b[0;34m]\u001b[0m \u001b[0;34m=\u001b[0m \u001b[0mtemp_max\u001b[0m\u001b[0;34m[\u001b[0m\u001b[0;34m'net_CO2_savings'\u001b[0m\u001b[0;34m]\u001b[0m\u001b[0;34m.\u001b[0m\u001b[0mvalues\u001b[0m\u001b[0;34m\u001b[0m\u001b[0;34m\u001b[0m\u001b[0m\n\u001b[1;32m     96\u001b[0m     \u001b[0mresults_optimization\u001b[0m\u001b[0;34m.\u001b[0m\u001b[0mset_index\u001b[0m\u001b[0;34m(\u001b[0m\u001b[0;34m\"curtailment\"\u001b[0m\u001b[0;34m,\u001b[0m\u001b[0mdrop\u001b[0m\u001b[0;34m=\u001b[0m\u001b[0;32mTrue\u001b[0m\u001b[0;34m,\u001b[0m\u001b[0minplace\u001b[0m\u001b[0;34m=\u001b[0m\u001b[0;32mTrue\u001b[0m\u001b[0;34m)\u001b[0m\u001b[0;34m\u001b[0m\u001b[0;34m\u001b[0m\u001b[0m\n",
      "\u001b[0;32m/usr/local/lib/python3.6/dist-packages/pandas/core/series.py\u001b[0m in \u001b[0;36m__setitem__\u001b[0;34m(self, key, value)\u001b[0m\n\u001b[1;32m   1019\u001b[0m                 \u001b[0mkey\u001b[0m \u001b[0;34m=\u001b[0m \u001b[0mnp\u001b[0m\u001b[0;34m.\u001b[0m\u001b[0masarray\u001b[0m\u001b[0;34m(\u001b[0m\u001b[0mkey\u001b[0m\u001b[0;34m,\u001b[0m \u001b[0mdtype\u001b[0m\u001b[0;34m=\u001b[0m\u001b[0mbool\u001b[0m\u001b[0;34m)\u001b[0m\u001b[0;34m\u001b[0m\u001b[0;34m\u001b[0m\u001b[0m\n\u001b[1;32m   1020\u001b[0m                 \u001b[0;32mtry\u001b[0m\u001b[0;34m:\u001b[0m\u001b[0;34m\u001b[0m\u001b[0;34m\u001b[0m\u001b[0m\n\u001b[0;32m-> 1021\u001b[0;31m                     \u001b[0mself\u001b[0m\u001b[0;34m.\u001b[0m\u001b[0m_where\u001b[0m\u001b[0;34m(\u001b[0m\u001b[0;34m~\u001b[0m\u001b[0mkey\u001b[0m\u001b[0;34m,\u001b[0m \u001b[0mvalue\u001b[0m\u001b[0;34m,\u001b[0m \u001b[0minplace\u001b[0m\u001b[0;34m=\u001b[0m\u001b[0;32mTrue\u001b[0m\u001b[0;34m)\u001b[0m\u001b[0;34m\u001b[0m\u001b[0;34m\u001b[0m\u001b[0m\n\u001b[0m\u001b[1;32m   1022\u001b[0m                 \u001b[0;32mexcept\u001b[0m \u001b[0mInvalidIndexError\u001b[0m\u001b[0;34m:\u001b[0m\u001b[0;34m\u001b[0m\u001b[0;34m\u001b[0m\u001b[0m\n\u001b[1;32m   1023\u001b[0m                     \u001b[0mself\u001b[0m\u001b[0;34m.\u001b[0m\u001b[0miloc\u001b[0m\u001b[0;34m[\u001b[0m\u001b[0mkey\u001b[0m\u001b[0;34m]\u001b[0m \u001b[0;34m=\u001b[0m \u001b[0mvalue\u001b[0m\u001b[0;34m\u001b[0m\u001b[0;34m\u001b[0m\u001b[0m\n",
      "\u001b[0;32m/usr/local/lib/python3.6/dist-packages/pandas/core/generic.py\u001b[0m in \u001b[0;36m_where\u001b[0;34m(self, cond, other, inplace, axis, level, errors, try_cast)\u001b[0m\n\u001b[1;32m   8826\u001b[0m                     \u001b[0;32melse\u001b[0m\u001b[0;34m:\u001b[0m\u001b[0;34m\u001b[0m\u001b[0;34m\u001b[0m\u001b[0m\n\u001b[1;32m   8827\u001b[0m                         raise ValueError(\n\u001b[0;32m-> 8828\u001b[0;31m                             \u001b[0;34m\"Length of replacements must equal series length\"\u001b[0m\u001b[0;34m\u001b[0m\u001b[0;34m\u001b[0m\u001b[0m\n\u001b[0m\u001b[1;32m   8829\u001b[0m                         )\n\u001b[1;32m   8830\u001b[0m \u001b[0;34m\u001b[0m\u001b[0m\n",
      "\u001b[0;31mValueError\u001b[0m: Length of replacements must equal series length"
     ]
    }
   ],
   "source": [
    "results_all = pd.DataFrame()\n",
    "results_optimization_all = pd.DataFrame()\n",
    "for year in years:\n",
    "    meteo_data_year = meteo_data[meteo_data.time.dt.year == year]\n",
    "    hourly_average=meteo_data_year.groupby([meteo_data_year[\"time\"].dt.month, meteo_data_year[\"time\"].dt.day, meteo_data_year[\"time\"].dt.hour]).mean()\n",
    "    hourly_average.index.names = [\"month\", \"day\", \"hour\"]\n",
    "    hourly_average['Prod/m2'] = hourly_average['G(i)']*0.17/1000\n",
    "    hourly_average['Prod'] = hourly_average['Prod/m2']*size\n",
    "    yearly_PV_prod = hourly_average['Prod'].sum()\n",
    "    PV_production = hourly_average['Prod']\n",
    "    power_balance = pd.DataFrame()\n",
    "    power_balance['consumption'] = total_elec_load\n",
    "    power_balance['from PV'] = PV_production\n",
    "    power_balance['exchange grid'] = PV_production - total_elec_load\n",
    "    power_balance['to Grid'] = (PV_production - total_elec_load).clip(lower=0)\n",
    "    power_balance['from Grid'] = (total_elec_load - PV_production).clip(lower=0)\n",
    "    power_balance = power_balance.fillna(0)\n",
    "    power_balance['self_consumption_kWh'] = (power_balance['consumption'] - power_balance['from Grid'])\n",
    "    total_CO2_PV_prod = electricity_PV_production * PV_size * CO2_intensity_China\n",
    "    power_balance['reduced_CO2_PV_g'] = emissions_spain['carbon_intensity_avg'] * power_balance['self_consumption_kWh']\n",
    "    reduced_CO2_PV_g = sum(power_balance['reduced_CO2_PV_g']) * PV_lifetime - total_CO2_PV_prod\n",
    "    reduced_CO2_PV_t = reduced_CO2_PV_g/1000000\n",
    "    results = pd.DataFrame()\n",
    "    results['battery_size'] = battery_sizes\n",
    "    results['curtailment'] = ''\n",
    "    results['yearly_savings_kWh'] = ''\n",
    "    for i in range(0, len(results['battery_size'])):\n",
    "        powerbalance = BatteryDispatch(power_balance, results['battery_size'].values[i], eta_discharge, max_c_charge, max_c_discharge)\n",
    "        power_balance['reduced_CO2_PV_g'] = emissions_spain['carbon_intensity_avg'] * power_balance['Discharging']\n",
    "        results['yearly_savings_kWh'].values[i] = -sum(power_balance['Discharging'])\n",
    "        results['curtailment'].values[i] = sum(power_balance['to Grid New'])/sum(power_balance['from PV'])\n",
    "    results['total_savings_kWh'] = results['yearly_savings_kWh'] * PV_lifetime\n",
    "    results['yearly_savings_CO2'] = sum(power_balance['reduced_CO2_PV_g']) / 1000000\n",
    "    results['total_CO2_grid_reduced'] = results['yearly_savings_CO2'] * PV_lifetime\n",
    "    results['total_elec_battery_prod'] = 2 * (elec_battery_prod * results['battery_size']/0.8)\n",
    "    results['total_CO2_battery_prod'] = results['total_elec_battery_prod'] * CO2_intensity_China / 1000000\n",
    "    results['net_CO2_savings'] = results['total_CO2_grid_reduced'] - results['total_CO2_battery_prod'] \n",
    "    results['stored'] = results.iloc[0]['curtailment'] - results['curtailment']\n",
    "    results.set_index(\"battery_size\",drop=True,inplace=True)\n",
    "    results['net_CO2_savings_with_PV'] = results['net_CO2_savings'] + reduced_CO2_PV_t\n",
    "    PV_production_hourly = PV_production\n",
    "    yearly_PV_production = sum(PV_production_hourly) \n",
    "    results['total_elec_PV_prod'] = electricity_PV_production * PV_size\n",
    "    results['ESOI'] = results['total_savings_kWh'].div(results['total_elec_battery_prod'].where(results['total_elec_battery_prod'] != 0, np.nan))\n",
    "    results['EROI_gen'] = yearly_PV_production*PV_lifetime/results['total_elec_PV_prod']\n",
    "    results['EROI_grid_useful'] = results['EROI_gen']\n",
    "    results['EROI_grid_curtailed'] = (1 - results['stored'] + eta_discharge * results['stored'])/(1/results['EROI_gen']+results['stored']/results['ESOI'])*(1-results['curtailment'])\n",
    "    results['EROI_grid_curtailed'] = results['EROI_grid_curtailed'].fillna(results['EROI_gen']*(1-results['curtailment']))\n",
    "    results['ESOI'] = results['ESOI'].fillna(0)\n",
    "    curtailment_thresholds = [0, 0.1, 0.2, 0.3, 0.4, 0.5, 0.6, 0.7, 0.8, 0.9]\n",
    "    #curtailment_thresholds = [0.4, 0.5]\n",
    "    battery_size = list(range(0, 25))\n",
    "    pd.options.mode.chained_assignment = None  # default='warn'\n",
    "    \n",
    "    results_optimization = pd.DataFrame()\n",
    "    results_optimization['curtailment'] = curtailment_thresholds\n",
    "    results_optimization['optimal_battery_size'] = ''    \n",
    "    results_optimization['net_CO2_savings'] = ''\n",
    "        \n",
    "    for curtailment in curtailment_thresholds:   \n",
    "        \n",
    "        temp = 0\n",
    "        max_power_allowed = curtailment*PV_size\n",
    "        PV_production_used = PV_production.copy()\n",
    "        PV_production_used[PV_production_used > max_power_allowed] = max_power_allowed\n",
    "        PV_production_curtailed = PV_production - max_power_allowed\n",
    "        PV_production_curtailed[PV_production_curtailed < 0] = 0\n",
    "        power_balance = pd.DataFrame()\n",
    "        power_balance['consumption'] = total_elec_load\n",
    "        power_balance['from PV'] = PV_production_curtailed\n",
    "        power_balance['exchange grid'] = PV_production_curtailed - total_elec_load\n",
    "        power_balance['to Grid'] = (PV_production_curtailed - total_elec_load).clip(lower=0)\n",
    "        power_balance['from Grid'] = (total_elec_load - PV_production_curtailed).clip(lower=0)\n",
    "        power_balance = power_balance.fillna(0)\n",
    "        \n",
    "        temp = pd.DataFrame()\n",
    "        temp['battery_size'] = battery_size\n",
    "        temp['reduced_CO2_PV_g'] = ''\n",
    "        temp['yearly_savings_kWh'] = ''\n",
    "        temp['yearly_savings_CO2'] = ''\n",
    "        temp['total_CO2_grid_reduced'] = ''\n",
    "        temp['total_CO2_battery_prod'] = ''\n",
    "        temp['net_CO2_savings'] = ''\n",
    "        for i in range(0, len(temp['battery_size'])):\n",
    "            powerbalance = BatteryDispatch(power_balance, temp['battery_size'].values[i], eta_discharge, max_c_charge, max_c_discharge)\n",
    "            #temp['reduced_CO2_PV_g'].values[i] = sum(emissions_spain['carbon_intensity_avg'] * power_balance['Discharging'])\n",
    "            temp['yearly_savings_kWh'].values[i] = -sum(power_balance['Discharging'])\n",
    "            temp['yearly_savings_CO2'].values[i] = sum(emissions_spain['carbon_intensity_avg'] * power_balance['Discharging']) / 1000000\n",
    "            temp['total_CO2_grid_reduced'].values[i] = temp['yearly_savings_CO2'].values[i] * PV_lifetime\n",
    "            temp['total_elec_battery_prod'] = 2 * (elec_battery_prod * temp['battery_size']/0.8)\n",
    "            temp['total_CO2_battery_prod'].values[i] = temp['total_elec_battery_prod'].values[i] * CO2_intensity_China / 1000000\n",
    "            temp['net_CO2_savings'].values[i] =  temp['total_CO2_grid_reduced'].values[i] - temp['total_CO2_battery_prod'].values[i]\n",
    "        temp_max = temp[temp['net_CO2_savings']==temp['net_CO2_savings'].max()]\n",
    "        results_optimization.optimal_battery_size[results_optimization.curtailment == curtailment] = temp_max['battery_size'].values\n",
    "        results_optimization.net_CO2_savings[results_optimization.curtailment == curtailment] = temp_max['net_CO2_savings'].values\n",
    "    results_optimization.set_index(\"curtailment\",drop=True,inplace=True)\n",
    "    results_all = results_all.append(results)\n",
    "    results_optimization_all = results_optimization_all.append(results_optimization)"
   ]
  },
  {
   "cell_type": "code",
   "execution_count": 167,
   "id": "awful-paint",
   "metadata": {},
   "outputs": [],
   "source": [
    "results_all = pd.DataFrame()\n",
    "results_optimization_all = pd.DataFrame()\n",
    "for year in years:\n",
    "    meteo_data_year = meteo_data[meteo_data.time.dt.year == year]\n",
    "    hourly_average=meteo_data_year.groupby([meteo_data_year[\"time\"].dt.month, meteo_data_year[\"time\"].dt.day, meteo_data_year[\"time\"].dt.hour]).mean()\n",
    "    hourly_average.index.names = [\"month\", \"day\", \"hour\"]\n",
    "    hourly_average['Prod/m2'] = hourly_average['G(i)']*0.17/1000\n",
    "    hourly_average['Prod'] = hourly_average['Prod/m2']*size\n",
    "    yearly_PV_prod = hourly_average['Prod'].sum()\n",
    "    PV_production = hourly_average['Prod']\n",
    "    power_balance = pd.DataFrame()\n",
    "    power_balance['consumption'] = total_elec_load\n",
    "    power_balance['from PV'] = PV_production\n",
    "    power_balance['exchange grid'] = PV_production - total_elec_load\n",
    "    power_balance['to Grid'] = (PV_production - total_elec_load).clip(lower=0)\n",
    "    power_balance['from Grid'] = (total_elec_load - PV_production).clip(lower=0)\n",
    "    power_balance = power_balance.fillna(0)\n",
    "    power_balance['self_consumption_kWh'] = (power_balance['consumption'] - power_balance['from Grid'])\n",
    "    total_CO2_PV_prod = electricity_PV_production * PV_size * CO2_intensity_China\n",
    "    power_balance['reduced_CO2_PV_g'] = emissions_spain['carbon_intensity_avg'] * power_balance['self_consumption_kWh']\n",
    "    reduced_CO2_PV_g = sum(power_balance['reduced_CO2_PV_g']) * PV_lifetime - total_CO2_PV_prod\n",
    "    reduced_CO2_PV_t = reduced_CO2_PV_g/1000000\n",
    "    results = pd.DataFrame()\n",
    "    results['battery_size'] = battery_sizes\n",
    "    results['curtailment'] = ''\n",
    "    results['yearly_savings_kWh'] = ''\n",
    "    for i in range(0, len(results['battery_size'])):\n",
    "        powerbalance = BatteryDispatch(power_balance, results['battery_size'].values[i], eta_discharge, max_c_charge, max_c_discharge)\n",
    "        power_balance['reduced_CO2_PV_g'] = emissions_spain['carbon_intensity_avg'] * power_balance['Discharging']\n",
    "        results['yearly_savings_kWh'].values[i] = -sum(power_balance['Discharging'])\n",
    "        results['curtailment'].values[i] = sum(power_balance['to Grid New'])/sum(power_balance['from PV'])\n",
    "    results['total_savings_kWh'] = results['yearly_savings_kWh'] * PV_lifetime\n",
    "    results['yearly_savings_CO2'] = sum(power_balance['reduced_CO2_PV_g']) / 1000000\n",
    "    results['total_CO2_grid_reduced'] = results['yearly_savings_CO2'] * PV_lifetime\n",
    "    results['total_elec_battery_prod'] = 2 * (elec_battery_prod * results['battery_size']/0.8)\n",
    "    results['total_CO2_battery_prod'] = results['total_elec_battery_prod'] * CO2_intensity_China / 1000000\n",
    "    results['net_CO2_savings'] = results['total_CO2_grid_reduced'] - results['total_CO2_battery_prod'] \n",
    "    results['stored'] = results.iloc[0]['curtailment'] - results['curtailment']\n",
    "    results.set_index(\"battery_size\",drop=True,inplace=True)\n",
    "    results['net_CO2_savings_with_PV'] = results['net_CO2_savings'] + reduced_CO2_PV_t\n",
    "    PV_production_hourly = PV_production\n",
    "    yearly_PV_production = sum(PV_production_hourly) \n",
    "    results['total_elec_PV_prod'] = electricity_PV_production * PV_size\n",
    "    results['ESOI'] = results['total_savings_kWh'].div(results['total_elec_battery_prod'].where(results['total_elec_battery_prod'] != 0, np.nan))\n",
    "    results['EROI_gen'] = yearly_PV_production*PV_lifetime/results['total_elec_PV_prod']\n",
    "    results['EROI_grid_useful'] = results['EROI_gen']\n",
    "    results['EROI_grid_curtailed'] = (1 - results['stored'] + eta_discharge * results['stored'])/(1/results['EROI_gen']+results['stored']/results['ESOI'])*(1-results['curtailment'])\n",
    "    results['EROI_grid_curtailed'] = results['EROI_grid_curtailed'].fillna(results['EROI_gen']*(1-results['curtailment']))\n",
    "    results['ESOI'] = results['ESOI'].fillna(0)\n",
    "    curtailment_thresholds = [0, 0.1, 0.2, 0.3, 0.4, 0.5, 0.6, 0.7, 0.8, 0.9]\n",
    "    #curtailment_thresholds = [0.4, 0.5]\n",
    "    battery_size = list(range(0, 25))\n",
    "    pd.options.mode.chained_assignment = None  # default='warn'\n",
    "    \n",
    "    results_optimization = pd.DataFrame()\n",
    "    results_optimization['curtailment'] = curtailment_thresholds\n",
    "    results_optimization['optimal_battery_size'] = ''    \n",
    "    results_optimization['net_CO2_savings'] = ''\n",
    "        \n",
    "    for curtailment in curtailment_thresholds:   \n",
    "        \n",
    "        temp = 0\n",
    "        max_power_allowed = curtailment*PV_size\n",
    "        PV_production_used = PV_production.copy()\n",
    "        PV_production_used[PV_production_used > max_power_allowed] = max_power_allowed\n",
    "        PV_production_curtailed = PV_production - max_power_allowed\n",
    "        PV_production_curtailed[PV_production_curtailed < 0] = 0\n",
    "        power_balance = pd.DataFrame()\n",
    "        power_balance['consumption'] = total_elec_load\n",
    "        power_balance['from PV'] = PV_production_curtailed\n",
    "        power_balance['exchange grid'] = PV_production_curtailed - total_elec_load\n",
    "        power_balance['to Grid'] = (PV_production_curtailed - total_elec_load).clip(lower=0)\n",
    "        power_balance['from Grid'] = (total_elec_load - PV_production_curtailed).clip(lower=0)\n",
    "        power_balance = power_balance.fillna(0)\n",
    "        \n",
    "        temp = pd.DataFrame()\n",
    "        temp['battery_size'] = battery_size\n",
    "        temp['reduced_CO2_PV_g'] = ''\n",
    "        temp['yearly_savings_kWh'] = ''\n",
    "        temp['yearly_savings_CO2'] = ''\n",
    "        temp['total_CO2_grid_reduced'] = ''\n",
    "        temp['total_CO2_battery_prod'] = ''\n",
    "        temp['net_CO2_savings'] = ''\n",
    "        for i in range(0, len(temp['battery_size'])):\n",
    "            powerbalance = BatteryDispatch(power_balance, temp['battery_size'].values[i], eta_discharge, max_c_charge, max_c_discharge)\n",
    "            temp['yearly_savings_kWh'].values[i] = -sum(power_balance['Discharging'])\n",
    "            temp['yearly_savings_CO2'].values[i] = temp['yearly_savings_kWh'].values[i] * grid_emissions_Spain / 1000000\n",
    "            temp['total_CO2_grid_reduced'].values[i] = temp['yearly_savings_CO2'].values[i] * PV_lifetime\n",
    "            temp['total_elec_battery_prod'] = 2 * (elec_battery_prod * temp['battery_size']/0.8)\n",
    "            temp['total_CO2_battery_prod'].values[i] = temp['total_elec_battery_prod'].values[i] * CO2_intensity_China / 1000000\n",
    "            temp['net_CO2_savings'].values[i] =  temp['total_CO2_grid_reduced'].values[i] - temp['total_CO2_battery_prod'].values[i]\n",
    "        temp_max = temp[temp['net_CO2_savings']==temp['net_CO2_savings'].max()]\n",
    "        results_optimization.optimal_battery_size[results_optimization.curtailment == curtailment] = temp_max['battery_size'].values\n",
    "        results_optimization.net_CO2_savings[results_optimization.curtailment == curtailment] = temp_max['net_CO2_savings'].values\n",
    "    results_optimization.set_index(\"curtailment\",drop=True,inplace=True)\n",
    "    results_all = results_all.append(results)\n",
    "    results_optimization_all = results_optimization_all.append(results_optimization)"
   ]
  },
  {
   "cell_type": "code",
   "execution_count": 168,
   "id": "earlier-shareware",
   "metadata": {},
   "outputs": [
    {
     "data": {
      "image/png": "[encoded data removed]",
      "text/plain": [
       "<Figure size 1080x576 with 1 Axes>"
      ]
     },
     "metadata": {
      "needs_background": "light"
     },
     "output_type": "display_data"
    }
   ],
   "source": [
    "results_all.boxplot(by ='battery_size', column =['net_CO2_savings'], grid = False)\n",
    "plt.suptitle('');"
   ]
  },
  {
   "cell_type": "code",
   "execution_count": 169,
   "id": "quiet-sleeping",
   "metadata": {},
   "outputs": [
    {
     "data": {
      "image/png": "[encoded data removed]",
      "text/plain": [
       "<Figure size 1080x576 with 1 Axes>"
      ]
     },
     "metadata": {
      "needs_background": "light"
     },
     "output_type": "display_data"
    }
   ],
   "source": [
    "results_all.boxplot(by ='battery_size', column =['net_CO2_savings_with_PV'], grid = False)\n",
    "plt.suptitle('');"
   ]
  },
  {
   "cell_type": "code",
   "execution_count": 170,
   "id": "brazilian-speaking",
   "metadata": {},
   "outputs": [
    {
     "data": {
      "image/png": "[encoded data removed]",
      "text/plain": [
       "<Figure size 1080x576 with 1 Axes>"
      ]
     },
     "metadata": {
      "needs_background": "light"
     },
     "output_type": "display_data"
    }
   ],
   "source": [
    "results_all.boxplot(by ='battery_size', column =['ESOI'], grid = False)\n",
    "plt.suptitle('');"
   ]
  },
  {
   "cell_type": "code",
   "execution_count": 171,
   "id": "absent-arena",
   "metadata": {},
   "outputs": [
    {
     "data": {
      "image/png": "[encoded data removed]",
      "text/plain": [
       "<Figure size 1080x576 with 1 Axes>"
      ]
     },
     "metadata": {
      "needs_background": "light"
     },
     "output_type": "display_data"
    }
   ],
   "source": [
    "results_all.boxplot(by ='battery_size', column =['EROI_grid_curtailed'], grid = False)\n",
    "plt.suptitle('');"
   ]
  },
  {
   "cell_type": "code",
   "execution_count": 172,
   "id": "palestinian-cologne",
   "metadata": {},
   "outputs": [
    {
     "data": {
      "image/png": "[encoded data removed]",
      "text/plain": [
       "<Figure size 1080x576 with 1 Axes>"
      ]
     },
     "metadata": {
      "needs_background": "light"
     },
     "output_type": "display_data"
    }
   ],
   "source": [
    "results_optimization_all.boxplot(by ='curtailment', column =['optimal_battery_size'], grid = False)\n",
    "plt.suptitle('');"
   ]
  },
  {
   "cell_type": "code",
   "execution_count": 173,
   "id": "bridal-universe",
   "metadata": {},
   "outputs": [
    {
     "data": {
      "image/png": "[encoded data removed]",
      "text/plain": [
       "<Figure size 1080x576 with 1 Axes>"
      ]
     },
     "metadata": {
      "needs_background": "light"
     },
     "output_type": "display_data"
    }
   ],
   "source": [
    "results_optimization_all.boxplot(by ='curtailment', column =['net_CO2_savings'], grid = False)\n",
    "plt.suptitle('');"
   ]
  },
  {
   "cell_type": "code",
   "execution_count": null,
   "id": "formed-marker",
   "metadata": {},
   "outputs": [],
   "source": []
  }
 ],
 "metadata": {
  "kernelspec": {
   "display_name": "Python 3",
   "language": "python",
   "name": "python3"
  },
  "language_info": {
   "codemirror_mode": {
    "name": "ipython",
    "version": 3
   },
   "file_extension": ".py",
   "mimetype": "text/x-python",
   "name": "python",
   "nbconvert_exporter": "python",
   "pygments_lexer": "ipython3",
   "version": "3.6.9"
  }
 },
 "nbformat": 4,
 "nbformat_minor": 5
}
