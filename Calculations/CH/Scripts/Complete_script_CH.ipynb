{
 "cells": [
  {
   "cell_type": "code",
   "execution_count": 88,
   "id": "empirical-person",
   "metadata": {},
   "outputs": [],
   "source": [
    "import pandas as pd\n",
    "import numpy as np\n",
    "import matplotlib.pyplot as plt\n",
    "import os\n",
    "import matplotlib.dates as mdates"
   ]
  },
  {
   "cell_type": "code",
   "execution_count": 89,
   "id": "maritime-anatomy",
   "metadata": {},
   "outputs": [],
   "source": [
    "plt.rcParams[\"figure.figsize\"] = (15,8) #set size of plot\n",
    "plt.rcParams.update({'font.size': 22})"
   ]
  },
  {
   "cell_type": "code",
   "execution_count": 90,
   "id": "hired-contribution",
   "metadata": {},
   "outputs": [],
   "source": [
    "os.chdir('/home/MA')"
   ]
  },
  {
   "cell_type": "code",
   "execution_count": 91,
   "id": "entire-visit",
   "metadata": {},
   "outputs": [],
   "source": [
    "from Battery_dispatch_function import BatteryDispatch"
   ]
  },
  {
   "cell_type": "markdown",
   "id": "extended-romania",
   "metadata": {},
   "source": [
    "## Define Parameter"
   ]
  },
  {
   "cell_type": "markdown",
   "id": "consistent-industry",
   "metadata": {},
   "source": [
    "Emissions of grid mix at consumer level are taken from https://www.bafu.admin.ch/bafu/de/home/themen/klima/klimawandel--fragen-und-antworten.html#:~:text=Die%20Kennzahlen%20f%C3%BCr%20die%20verschiedenen,)%20(relevant%20f%C3%BCr%20volkswirtschaftliche%20Betrachtungen)"
   ]
  },
  {
   "cell_type": "code",
   "execution_count": 92,
   "id": "optional-transmission",
   "metadata": {},
   "outputs": [],
   "source": [
    "grid_emissions_CH= 128 # g CO2/kWh"
   ]
  },
  {
   "cell_type": "code",
   "execution_count": 93,
   "id": "figured-introduction",
   "metadata": {},
   "outputs": [],
   "source": [
    "battery_sizes = [0, 6, 12, 18, 24, 30]"
   ]
  },
  {
   "cell_type": "code",
   "execution_count": 94,
   "id": "native-associate",
   "metadata": {},
   "outputs": [],
   "source": [
    "conv_eff = 0.2 # 2020 slide 7 on https://www.ise.fraunhofer.de/content/dam/ise/de/documents/publications/studies/Photovoltaics-Report.pdf"
   ]
  },
  {
   "cell_type": "markdown",
   "id": "fitting-statement",
   "metadata": {},
   "source": [
    "Define PV sizing **HERE**"
   ]
  },
  {
   "cell_type": "code",
   "execution_count": 95,
   "id": "variable-tender",
   "metadata": {},
   "outputs": [],
   "source": [
    "PV_size = 6 #kW_p"
   ]
  },
  {
   "cell_type": "markdown",
   "id": "incident-trigger",
   "metadata": {},
   "source": [
    "According to https://www.energieheld.de/solaranlage/photovoltaik and https://www.energieheld.ch/solaranlagen/photovoltaik#:~:text=Rechnen%20Sie%20im%20Durchschnitt%20etwa,dieser%20Gr%C3%B6sse%20installieren%20zu%20k%C3%B6nnen, 6 m2 are required per kW_p"
   ]
  },
  {
   "cell_type": "code",
   "execution_count": 96,
   "id": "fifty-childhood",
   "metadata": {},
   "outputs": [],
   "source": [
    "size = 6*PV_size # m2 necessary for 6 kW_p"
   ]
  },
  {
   "cell_type": "code",
   "execution_count": 97,
   "id": "rural-graham",
   "metadata": {},
   "outputs": [],
   "source": [
    "HW_boiler_eff = 1\n",
    "HP_COP = 3.1\n",
    "AC_EER = 8.5"
   ]
  },
  {
   "cell_type": "code",
   "execution_count": 98,
   "id": "scientific-telephone",
   "metadata": {},
   "outputs": [],
   "source": [
    "max_c_charge = 0.25\n",
    "max_c_discharge = 0.5"
   ]
  },
  {
   "cell_type": "markdown",
   "id": "traditional-reminder",
   "metadata": {},
   "source": [
    "Roundtrip efficiency solar battery: 85% (check alternative sources) https://www.homerenergy.com/products/pro/docs/latest/battery_roundtrip_efficiency.html#:~:text=The%20battery%20round%2Dtrip%20efficiency,Typically%20it%20is%20about%2080%25.\n",
    "Assumption: Losses occur during discharging only (Charging efficiency is 99% https://www.powertechsystems.eu/home/tech-corner/lithium-ion-battery-advantages/)"
   ]
  },
  {
   "cell_type": "code",
   "execution_count": 99,
   "id": "incorporated-contrary",
   "metadata": {},
   "outputs": [],
   "source": [
    "eta_discharge = 0.85"
   ]
  },
  {
   "cell_type": "code",
   "execution_count": 100,
   "id": "native-invention",
   "metadata": {},
   "outputs": [],
   "source": [
    "PV_lifetime = 25 # years"
   ]
  },
  {
   "cell_type": "code",
   "execution_count": 101,
   "id": "inclusive-continent",
   "metadata": {},
   "outputs": [],
   "source": [
    "battery_lifetime = 15 # years"
   ]
  },
  {
   "cell_type": "markdown",
   "id": "frequent-authentication",
   "metadata": {},
   "source": [
    "Battery production energy intensity from https://www.researchgate.net/publication/331837767_The_energetic_implications_of_introducing_lithium-ion_batteries_into_distributed_photovoltaic_systems"
   ]
  },
  {
   "cell_type": "code",
   "execution_count": 102,
   "id": "chicken-advocate",
   "metadata": {},
   "outputs": [],
   "source": [
    "elec_battery_prod = 95.5 # kwh_el/kWh_n"
   ]
  },
  {
   "cell_type": "markdown",
   "id": "square-entertainment",
   "metadata": {},
   "source": [
    "Assumption: Battery production in China\n",
    "at 637 g CO2/kWh\n",
    "https://www.mdpi.com/1996-1073/14/4/961/pdf"
   ]
  },
  {
   "cell_type": "code",
   "execution_count": 103,
   "id": "isolated-construction",
   "metadata": {},
   "outputs": [],
   "source": [
    "CO2_intensity_China = 637"
   ]
  },
  {
   "cell_type": "code",
   "execution_count": 104,
   "id": "hindu-pillow",
   "metadata": {},
   "outputs": [],
   "source": [
    "electricity_PV_production = 1597 # kWh_el kWp-1"
   ]
  },
  {
   "cell_type": "markdown",
   "id": "regulated-minister",
   "metadata": {},
   "source": [
    "## Start calculations"
   ]
  },
  {
   "cell_type": "markdown",
   "id": "humanitarian-rally",
   "metadata": {},
   "source": [
    "Methodology based on this paper: https://www.researchgate.net/publication/331837767_The_energetic_implications_of_introducing_lithium-ion_batteries_into_distributed_photovoltaic_systems"
   ]
  },
  {
   "cell_type": "markdown",
   "id": "other-local",
   "metadata": {},
   "source": [
    "Get local data from https://re.jrc.ec.europa.eu/pvg_tools/en/#HR\n",
    "for years 2010-2016 to average yearly variability\n",
    "Solar panels were assumed to be 46 inclined towards south to maximize yearly yield without the need for sophisticated mechanic installations."
   ]
  },
  {
   "cell_type": "markdown",
   "id": "duplicate-champion",
   "metadata": {},
   "source": [
    "Read data into dataframe"
   ]
  },
  {
   "cell_type": "code",
   "execution_count": 105,
   "id": "therapeutic-halloween",
   "metadata": {},
   "outputs": [],
   "source": [
    "meteo_data = pd.read_csv('Data/timeseries_ZRH.csv')"
   ]
  },
  {
   "cell_type": "code",
   "execution_count": 106,
   "id": "physical-alliance",
   "metadata": {},
   "outputs": [],
   "source": [
    "load = pd.read_csv('Data/household_data_60min.csv')"
   ]
  },
  {
   "cell_type": "code",
   "execution_count": 107,
   "id": "regulation-magazine",
   "metadata": {},
   "outputs": [],
   "source": [
    "load['Date/Time'] = pd.to_datetime(load['Date/Time'], format=' %m/%d  %H:%M:%S')"
   ]
  },
  {
   "cell_type": "code",
   "execution_count": 108,
   "id": "green-indie",
   "metadata": {},
   "outputs": [],
   "source": [
    "load = load.set_index([load['Date/Time'].dt.month, load['Date/Time'].dt.day, load['Date/Time'].dt.hour])"
   ]
  },
  {
   "cell_type": "code",
   "execution_count": 109,
   "id": "competitive-saying",
   "metadata": {},
   "outputs": [],
   "source": [
    "load.index.names = [\"month\", \"day\", \"hour\"]"
   ]
  },
  {
   "cell_type": "code",
   "execution_count": 110,
   "id": "included-restriction",
   "metadata": {},
   "outputs": [],
   "source": [
    "load['Electricity demand [kWh](Hourly) '] = load['Electricity demand [J](Hourly) ']/3600000 "
   ]
  },
  {
   "cell_type": "code",
   "execution_count": 111,
   "id": "leading-warehouse",
   "metadata": {},
   "outputs": [],
   "source": [
    "load['Electricity for Space Heating [kWh]'] = load['Space Heating demand [J](Hourly)']/HP_COP/3600000"
   ]
  },
  {
   "cell_type": "code",
   "execution_count": 112,
   "id": "compact-northwest",
   "metadata": {},
   "outputs": [],
   "source": [
    "load['Electricity for Hot Water [kWh]'] = load['Hot water demand [J](Hourly)']/HW_boiler_eff/3600000"
   ]
  },
  {
   "cell_type": "code",
   "execution_count": 113,
   "id": "greatest-reason",
   "metadata": {},
   "outputs": [],
   "source": [
    "load['Electricity for Space Cooling [kWh]'] = load['Space cooling demand [J](Hourly)']/AC_EER/3600000"
   ]
  },
  {
   "cell_type": "code",
   "execution_count": 114,
   "id": "dental-richardson",
   "metadata": {},
   "outputs": [],
   "source": [
    "load['Total Electricity'] = load['Electricity demand [kWh](Hourly) '] + load['Electricity for Space Heating [kWh]'] + load['Electricity for Hot Water [kWh]'] + load['Electricity for Space Cooling [kWh]']"
   ]
  },
  {
   "cell_type": "markdown",
   "id": "technical-breed",
   "metadata": {},
   "source": [
    "Let's also compare loads where no AC is installed, which is the current state of most Swiss homes"
   ]
  },
  {
   "cell_type": "code",
   "execution_count": 115,
   "id": "gorgeous-marshall",
   "metadata": {},
   "outputs": [],
   "source": [
    "load['Total Electricity without AC'] = load['Electricity demand [kWh](Hourly) '] + load['Electricity for Space Heating [kWh]'] + load['Electricity for Hot Water [kWh]']"
   ]
  },
  {
   "cell_type": "markdown",
   "id": "cellular-capitol",
   "metadata": {},
   "source": [
    "**Filter here for building type!**"
   ]
  },
  {
   "cell_type": "code",
   "execution_count": 116,
   "id": "present-bride",
   "metadata": {},
   "outputs": [],
   "source": [
    "load_SFH = load[load['Building_type']=='SFH']"
   ]
  },
  {
   "cell_type": "code",
   "execution_count": 117,
   "id": "confident-process",
   "metadata": {},
   "outputs": [],
   "source": [
    "load_SFH_modern = load_SFH.loc[load_SFH['Construction_period'] == '2011-2015']"
   ]
  },
  {
   "cell_type": "code",
   "execution_count": 118,
   "id": "beneficial-measure",
   "metadata": {},
   "outputs": [
    {
     "data": {
      "text/plain": [
       "17520"
      ]
     },
     "execution_count": 118,
     "metadata": {},
     "output_type": "execute_result"
    }
   ],
   "source": [
    "len(load_SFH_modern)"
   ]
  },
  {
   "cell_type": "code",
   "execution_count": 119,
   "id": "vietnamese-brook",
   "metadata": {},
   "outputs": [],
   "source": [
    "load_SFH_modern_full_retrofit = load_SFH_modern.loc[load_SFH_modern['retrofit_scenario'] == 'Full retrofit']"
   ]
  },
  {
   "cell_type": "code",
   "execution_count": 120,
   "id": "animal-playlist",
   "metadata": {},
   "outputs": [],
   "source": [
    "load_SFH_modern_no_retrofit = load_SFH_modern.loc[load_SFH_modern['retrofit_scenario'] == 'No retrofit']"
   ]
  },
  {
   "cell_type": "code",
   "execution_count": 121,
   "id": "weekly-pipeline",
   "metadata": {},
   "outputs": [],
   "source": [
    "total_elec_load = load_SFH_modern_full_retrofit['Total Electricity']"
   ]
  },
  {
   "cell_type": "markdown",
   "id": "found-depth",
   "metadata": {},
   "source": [
    "## Start processing of solar production data"
   ]
  },
  {
   "cell_type": "markdown",
   "id": "incorporated-canadian",
   "metadata": {},
   "source": [
    "Convert time column to datetime format to facilitate data processing"
   ]
  },
  {
   "cell_type": "code",
   "execution_count": 122,
   "id": "confused-motel",
   "metadata": {},
   "outputs": [],
   "source": [
    "meteo_data['time'] = pd.to_datetime(meteo_data['time'], format='%Y%m%d:%H%M')"
   ]
  },
  {
   "cell_type": "markdown",
   "id": "beautiful-opera",
   "metadata": {},
   "source": [
    "Get rid of leap years"
   ]
  },
  {
   "cell_type": "code",
   "execution_count": 123,
   "id": "careful-feedback",
   "metadata": {},
   "outputs": [],
   "source": [
    "meteo_data = meteo_data[~((meteo_data.time.dt.month == 2) & (meteo_data.time.dt.day == 29))]"
   ]
  },
  {
   "cell_type": "markdown",
   "id": "threaded-spouse",
   "metadata": {},
   "source": [
    "Check length of dataset to be 7 years x 365 days/year x 24 hours/day = 61320 days"
   ]
  },
  {
   "cell_type": "code",
   "execution_count": 124,
   "id": "rising-marina",
   "metadata": {},
   "outputs": [
    {
     "data": {
      "text/plain": [
       "61320"
      ]
     },
     "execution_count": 124,
     "metadata": {},
     "output_type": "execute_result"
    }
   ],
   "source": [
    "len(meteo_data)"
   ]
  },
  {
   "cell_type": "markdown",
   "id": "aging-regulation",
   "metadata": {},
   "source": [
    "Check date of maximum value"
   ]
  },
  {
   "cell_type": "code",
   "execution_count": 125,
   "id": "sunrise-aquatic",
   "metadata": {},
   "outputs": [
    {
     "data": {
      "text/html": [
       "<div>\n",
       "<style scoped>\n",
       "    .dataframe tbody tr th:only-of-type {\n",
       "        vertical-align: middle;\n",
       "    }\n",
       "\n",
       "    .dataframe tbody tr th {\n",
       "        vertical-align: top;\n",
       "    }\n",
       "\n",
       "    .dataframe thead th {\n",
       "        text-align: right;\n",
       "    }\n",
       "</style>\n",
       "<table border=\"1\" class=\"dataframe\">\n",
       "  <thead>\n",
       "    <tr style=\"text-align: right;\">\n",
       "      <th></th>\n",
       "      <th>time</th>\n",
       "      <th>G(i)</th>\n",
       "      <th>H_sun</th>\n",
       "      <th>T2m</th>\n",
       "      <th>WS10m</th>\n",
       "      <th>Int</th>\n",
       "    </tr>\n",
       "  </thead>\n",
       "  <tbody>\n",
       "    <tr>\n",
       "      <th>28236</th>\n",
       "      <td>2013-03-22 12:10:00</td>\n",
       "      <td>1110.61</td>\n",
       "      <td>42.48</td>\n",
       "      <td>11.17</td>\n",
       "      <td>3.6</td>\n",
       "      <td>0</td>\n",
       "    </tr>\n",
       "  </tbody>\n",
       "</table>\n",
       "</div>"
      ],
      "text/plain": [
       "                     time     G(i)  H_sun    T2m  WS10m  Int\n",
       "28236 2013-03-22 12:10:00  1110.61  42.48  11.17    3.6    0"
      ]
     },
     "execution_count": 125,
     "metadata": {},
     "output_type": "execute_result"
    }
   ],
   "source": [
    "meteo_data[meteo_data['G(i)'] == meteo_data['G(i)'].max()]"
   ]
  },
  {
   "cell_type": "markdown",
   "id": "sporting-cassette",
   "metadata": {},
   "source": [
    "This is the absolute amount of radiation incident on a solar cell in Zurich without accounting for the conversion efficiency. \n",
    "As expected, it occurs on the 22th of March, the date where the sun's angle is exactly perpendicular to the panel's orientation."
   ]
  },
  {
   "cell_type": "code",
   "execution_count": 126,
   "id": "fifth-tribute",
   "metadata": {},
   "outputs": [],
   "source": [
    "years = meteo_data.time.dt.year.unique()"
   ]
  },
  {
   "cell_type": "code",
   "execution_count": 127,
   "id": "bound-overhead",
   "metadata": {},
   "outputs": [],
   "source": [
    "results_all = pd.DataFrame()\n",
    "results_optimization_all = pd.DataFrame()\n",
    "for year in years:\n",
    "    meteo_data_year = meteo_data[meteo_data.time.dt.year == year]\n",
    "    hourly_average=meteo_data_year.groupby([meteo_data_year[\"time\"].dt.month, meteo_data_year[\"time\"].dt.day, meteo_data_year[\"time\"].dt.hour]).mean()\n",
    "    hourly_average.index.names = [\"month\", \"day\", \"hour\"]\n",
    "    hourly_average['Prod/m2'] = hourly_average['G(i)']*0.17/1000\n",
    "    hourly_average['Prod'] = hourly_average['Prod/m2']*size\n",
    "    yearly_PV_prod = hourly_average['Prod'].sum()\n",
    "    PV_production = hourly_average['Prod']\n",
    "    power_balance = pd.DataFrame()\n",
    "    power_balance['consumption'] = total_elec_load\n",
    "    power_balance['from PV'] = PV_production\n",
    "    power_balance['exchange grid'] = PV_production - total_elec_load\n",
    "    power_balance['to Grid'] = (PV_production - total_elec_load).clip(lower=0)\n",
    "    power_balance['from Grid'] = (total_elec_load - PV_production).clip(lower=0)\n",
    "    power_balance = power_balance.fillna(0)\n",
    "    self_consumption_kWh = sum(power_balance['consumption'] - power_balance['from Grid'])\n",
    "    total_CO2_PV_prod = electricity_PV_production * PV_size * CO2_intensity_China\n",
    "    reduced_CO2_PV_g = grid_emissions_CH * self_consumption_kWh * PV_lifetime - total_CO2_PV_prod\n",
    "    reduced_CO2_PV_t = reduced_CO2_PV_g/1000000\n",
    "    results = pd.DataFrame()\n",
    "    results['battery_size'] = battery_sizes\n",
    "    results['curtailment'] = ''\n",
    "    results['yearly_savings_kWh'] = ''\n",
    "    for i in range(0, len(results['battery_size'])):\n",
    "        powerbalance = BatteryDispatch(power_balance, results['battery_size'].values[i], eta_discharge, max_c_charge, max_c_discharge)\n",
    "        results['yearly_savings_kWh'].values[i] = -sum(power_balance['Discharging'])\n",
    "        results['curtailment'].values[i] = sum(power_balance['to Grid New'])/sum(power_balance['from PV'])\n",
    "    results['total_savings_kWh'] = results['yearly_savings_kWh'] * PV_lifetime\n",
    "    results['yearly_savings_CO2'] = results['yearly_savings_kWh'] * grid_emissions_CH / 1000000\n",
    "    results['total_CO2_grid_reduced'] = results['yearly_savings_CO2'] * PV_lifetime\n",
    "    results['total_elec_battery_prod'] = 2 * (elec_battery_prod * results['battery_size']/0.8)\n",
    "    results['total_CO2_battery_prod'] = results['total_elec_battery_prod'] * CO2_intensity_China / 1000000\n",
    "    results['net_CO2_savings'] = results['total_CO2_grid_reduced'] - results['total_CO2_battery_prod'] \n",
    "    results['stored'] = results.iloc[0]['curtailment'] - results['curtailment']\n",
    "    results.set_index(\"battery_size\",drop=True,inplace=True)\n",
    "    results['net_CO2_savings_with_PV'] = results['net_CO2_savings'] + reduced_CO2_PV_t\n",
    "    PV_production_hourly = PV_production\n",
    "    yearly_PV_production = sum(PV_production_hourly) \n",
    "    results['total_elec_PV_prod'] = electricity_PV_production * PV_size\n",
    "    results['ESOI'] = results['total_savings_kWh'].div(results['total_elec_battery_prod'].where(results['total_elec_battery_prod'] != 0, np.nan))\n",
    "    results['EROI_gen'] = yearly_PV_production*PV_lifetime/results['total_elec_PV_prod']\n",
    "    results['EROI_grid_useful'] = results['EROI_gen']\n",
    "    results['EROI_grid_curtailed'] = (1 - results['stored'] + eta_discharge * results['stored'])/(1/results['EROI_gen']+results['stored']/results['ESOI'])*(1-results['curtailment'])\n",
    "    results['EROI_grid_curtailed'] = results['EROI_grid_curtailed'].fillna(results['EROI_gen']*(1-results['curtailment']))\n",
    "    results['ESOI'] = results['ESOI'].fillna(0)\n",
    "    curtailment_thresholds = [0, 0.1, 0.2, 0.3, 0.4, 0.5, 0.6, 0.7, 0.8, 0.9]\n",
    "    #curtailment_thresholds = [0.4, 0.5]\n",
    "    battery_size = list(range(0, 25))\n",
    "    pd.options.mode.chained_assignment = None  # default='warn'\n",
    "    \n",
    "    results_optimization = pd.DataFrame()\n",
    "    results_optimization['curtailment'] = curtailment_thresholds\n",
    "    results_optimization['optimal_battery_size'] = ''    \n",
    "    results_optimization['net_CO2_savings'] = ''\n",
    "        \n",
    "    for curtailment in curtailment_thresholds:   \n",
    "        \n",
    "        temp = 0\n",
    "        max_power_allowed = curtailment*PV_size\n",
    "        PV_production_used = PV_production.copy()\n",
    "        PV_production_used[PV_production_used > max_power_allowed] = max_power_allowed\n",
    "        PV_production_curtailed = PV_production - max_power_allowed\n",
    "        PV_production_curtailed[PV_production_curtailed < 0] = 0\n",
    "        power_balance = pd.DataFrame()\n",
    "        power_balance['consumption'] = total_elec_load\n",
    "        power_balance['from PV'] = PV_production_curtailed\n",
    "        power_balance['exchange grid'] = PV_production_curtailed - total_elec_load\n",
    "        power_balance['to Grid'] = (PV_production_curtailed - total_elec_load).clip(lower=0)\n",
    "        power_balance['from Grid'] = (total_elec_load - PV_production_curtailed).clip(lower=0)\n",
    "        power_balance = power_balance.fillna(0)\n",
    "        \n",
    "        temp = pd.DataFrame()\n",
    "        temp['battery_size'] = battery_size\n",
    "        temp['yearly_savings_kWh'] = ''\n",
    "        temp['yearly_savings_CO2'] = ''\n",
    "        temp['total_CO2_grid_reduced'] = ''\n",
    "        temp['total_CO2_battery_prod'] = ''\n",
    "        temp['net_CO2_savings'] = ''\n",
    "        for i in range(0, len(temp['battery_size'])):\n",
    "            powerbalance = BatteryDispatch(power_balance, temp['battery_size'].values[i], eta_discharge, max_c_charge, max_c_discharge)\n",
    "            temp['yearly_savings_kWh'].values[i] = -sum(power_balance['Discharging'])\n",
    "            temp['yearly_savings_CO2'].values[i] = temp['yearly_savings_kWh'].values[i] * grid_emissions_CH / 1000000\n",
    "            temp['total_CO2_grid_reduced'].values[i] = temp['yearly_savings_CO2'].values[i] * PV_lifetime\n",
    "            temp['total_elec_battery_prod'] = 2 * (elec_battery_prod * temp['battery_size']/0.8)\n",
    "            temp['total_CO2_battery_prod'].values[i] = temp['total_elec_battery_prod'].values[i] * CO2_intensity_China / 1000000\n",
    "            temp['net_CO2_savings'].values[i] =  temp['total_CO2_grid_reduced'].values[i] - temp['total_CO2_battery_prod'].values[i]\n",
    "        temp_max = temp[temp['net_CO2_savings']==temp['net_CO2_savings'].max()]\n",
    "        results_optimization.optimal_battery_size[results_optimization.curtailment == curtailment] = temp_max['battery_size'].values\n",
    "        results_optimization.net_CO2_savings[results_optimization.curtailment == curtailment] = temp_max['net_CO2_savings'].values\n",
    "    results_optimization.set_index(\"curtailment\",drop=True,inplace=True)\n",
    "    results_all = results_all.append(results)\n",
    "    results_optimization_all = results_optimization_all.append(results_optimization)"
   ]
  },
  {
   "cell_type": "code",
   "execution_count": 128,
   "id": "directed-member",
   "metadata": {},
   "outputs": [
    {
     "data": {
      "image/png": "[encoded data removed]",
      "text/plain": [
       "<Figure size 1080x576 with 1 Axes>"
      ]
     },
     "metadata": {
      "needs_background": "light"
     },
     "output_type": "display_data"
    }
   ],
   "source": [
    "results_all.boxplot(by ='battery_size', column =['net_CO2_savings'], grid = False)\n",
    "plt.suptitle('');"
   ]
  },
  {
   "cell_type": "code",
   "execution_count": 129,
   "id": "spread-offer",
   "metadata": {},
   "outputs": [
    {
     "data": {
      "image/png": "[encoded data removed]",
      "text/plain": [
       "<Figure size 1080x576 with 1 Axes>"
      ]
     },
     "metadata": {
      "needs_background": "light"
     },
     "output_type": "display_data"
    }
   ],
   "source": [
    "results_all.boxplot(by ='battery_size', column =['net_CO2_savings_with_PV'], grid = False)\n",
    "plt.suptitle('');"
   ]
  },
  {
   "cell_type": "code",
   "execution_count": 130,
   "id": "dominant-entity",
   "metadata": {},
   "outputs": [
    {
     "data": {
      "image/png": "[encoded data removed]",
      "text/plain": [
       "<Figure size 1080x576 with 1 Axes>"
      ]
     },
     "metadata": {
      "needs_background": "light"
     },
     "output_type": "display_data"
    }
   ],
   "source": [
    "results_all.boxplot(by ='battery_size', column =['ESOI'], grid = False)\n",
    "plt.suptitle('');"
   ]
  },
  {
   "cell_type": "code",
   "execution_count": 131,
   "id": "opened-chuck",
   "metadata": {},
   "outputs": [
    {
     "data": {
      "image/png": "[encoded data removed]",
      "text/plain": [
       "<Figure size 1080x576 with 1 Axes>"
      ]
     },
     "metadata": {
      "needs_background": "light"
     },
     "output_type": "display_data"
    }
   ],
   "source": [
    "results_all.boxplot(by ='battery_size', column =['EROI_grid_curtailed'], grid = False)\n",
    "plt.suptitle('');"
   ]
  },
  {
   "cell_type": "code",
   "execution_count": 132,
   "id": "taken-dairy",
   "metadata": {},
   "outputs": [
    {
     "data": {
      "image/png": "[encoded data removed]",
      "text/plain": [
       "<Figure size 1080x576 with 1 Axes>"
      ]
     },
     "metadata": {
      "needs_background": "light"
     },
     "output_type": "display_data"
    }
   ],
   "source": [
    "results_optimization_all.boxplot(by ='curtailment', column =['optimal_battery_size'], grid = False)\n",
    "plt.suptitle('');"
   ]
  },
  {
   "cell_type": "code",
   "execution_count": 133,
   "id": "involved-patio",
   "metadata": {},
   "outputs": [
    {
     "data": {
      "image/png": "[encoded data removed]",
      "text/plain": [
       "<Figure size 1080x576 with 1 Axes>"
      ]
     },
     "metadata": {
      "needs_background": "light"
     },
     "output_type": "display_data"
    }
   ],
   "source": [
    "results_optimization_all.boxplot(by ='curtailment', column =['net_CO2_savings'], grid = False)\n",
    "plt.suptitle('');"
   ]
  }
 ],
 "metadata": {
  "kernelspec": {
   "display_name": "Python 3",
   "language": "python",
   "name": "python3"
  },
  "language_info": {
   "codemirror_mode": {
    "name": "ipython",
    "version": 3
   },
   "file_extension": ".py",
   "mimetype": "text/x-python",
   "name": "python",
   "nbconvert_exporter": "python",
   "pygments_lexer": "ipython3",
   "version": "3.6.9"
  }
 },
 "nbformat": 4,
 "nbformat_minor": 5
}
