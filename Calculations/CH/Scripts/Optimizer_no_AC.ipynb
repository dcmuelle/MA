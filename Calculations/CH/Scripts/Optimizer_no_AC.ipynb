{
 "cells": [
  {
   "cell_type": "markdown",
   "id": "auburn-terrain",
   "metadata": {},
   "source": [
    "## Optimizer"
   ]
  },
  {
   "cell_type": "markdown",
   "id": "turned-turner",
   "metadata": {},
   "source": [
    "Define curtailment possibilities to be imposed"
   ]
  },
  {
   "cell_type": "code",
   "execution_count": 1,
   "id": "important-attribute",
   "metadata": {},
   "outputs": [],
   "source": [
    "import pandas as pd\n",
    "import numpy as np\n",
    "import matplotlib.pyplot as plt\n",
    "import os"
   ]
  },
  {
   "cell_type": "code",
   "execution_count": 2,
   "id": "material-portrait",
   "metadata": {},
   "outputs": [],
   "source": [
    "plt.rcParams[\"figure.figsize\"] = (15,8) #set size of plot\n",
    "plt.rcParams.update({'font.size': 22})"
   ]
  },
  {
   "cell_type": "code",
   "execution_count": 3,
   "id": "pressing-discrimination",
   "metadata": {},
   "outputs": [],
   "source": [
    "os.chdir('/home/MA')"
   ]
  },
  {
   "cell_type": "code",
   "execution_count": 4,
   "id": "detected-destruction",
   "metadata": {},
   "outputs": [],
   "source": [
    "PV_lifetime = 25 #years"
   ]
  },
  {
   "cell_type": "code",
   "execution_count": 5,
   "id": "removed-confidence",
   "metadata": {},
   "outputs": [],
   "source": [
    "elec_battery_prod = 95.5 # kwh_el/kWh_n"
   ]
  },
  {
   "cell_type": "code",
   "execution_count": 6,
   "id": "surprising-number",
   "metadata": {},
   "outputs": [],
   "source": [
    "PV_size = 6 #kW_p"
   ]
  },
  {
   "cell_type": "code",
   "execution_count": 7,
   "id": "laughing-ferry",
   "metadata": {},
   "outputs": [],
   "source": [
    "max_c_charge = 0.25\n",
    "max_c_discharge = 0.5"
   ]
  },
  {
   "cell_type": "markdown",
   "id": "chronic-stamp",
   "metadata": {},
   "source": [
    "Roundtrip efficiency solar battery: 85% (check alternative sources) https://www.homerenergy.com/products/pro/docs/latest/battery_roundtrip_efficiency.html#:~:text=The%20battery%20round%2Dtrip%20efficiency,Typically%20it%20is%20about%2080%25.\n",
    "Assumption: Losses occur during discharging only (Charging efficiency is 99% https://www.powertechsystems.eu/home/tech-corner/lithium-ion-battery-advantages/)"
   ]
  },
  {
   "cell_type": "code",
   "execution_count": 8,
   "id": "endless-neutral",
   "metadata": {},
   "outputs": [],
   "source": [
    "eta_discharge = 0.85"
   ]
  },
  {
   "cell_type": "markdown",
   "id": "banner-breathing",
   "metadata": {},
   "source": [
    "Emissions of grid mix at consumer level are taken from https://www.bafu.admin.ch/bafu/de/home/themen/klima/klimawandel--fragen-und-antworten.html#:~:text=Die%20Kennzahlen%20f%C3%BCr%20die%20verschiedenen,)%20(relevant%20f%C3%BCr%20volkswirtschaftliche%20Betrachtungen)"
   ]
  },
  {
   "cell_type": "code",
   "execution_count": 9,
   "id": "arabic-detective",
   "metadata": {},
   "outputs": [],
   "source": [
    "battery_lifetime = 15 # years"
   ]
  },
  {
   "cell_type": "code",
   "execution_count": 10,
   "id": "addressed-information",
   "metadata": {},
   "outputs": [],
   "source": [
    "grid_emissions_CH= 181.5 # g CO2/kWh"
   ]
  },
  {
   "cell_type": "markdown",
   "id": "regulated-luther",
   "metadata": {},
   "source": [
    "Battery production energy intensity from https://www.researchgate.net/publication/331837767_The_energetic_implications_of_introducing_lithium-ion_batteries_into_distributed_photovoltaic_systems"
   ]
  },
  {
   "cell_type": "code",
   "execution_count": 11,
   "id": "floral-avatar",
   "metadata": {},
   "outputs": [],
   "source": [
    "elec_battery_prod = 95.5 # kwh_el/kWh_n"
   ]
  },
  {
   "cell_type": "markdown",
   "id": "widespread-industry",
   "metadata": {},
   "source": [
    "Assumption: Battery production in China\n",
    "at 637 g CO2/kWh\n",
    "https://www.mdpi.com/1996-1073/14/4/961/pdf"
   ]
  },
  {
   "cell_type": "code",
   "execution_count": 12,
   "id": "introductory-consultation",
   "metadata": {},
   "outputs": [],
   "source": [
    "CO2_intensity_China = 637"
   ]
  },
  {
   "cell_type": "code",
   "execution_count": 13,
   "id": "worth-duplicate",
   "metadata": {},
   "outputs": [],
   "source": [
    "PV_production = pd.read_pickle('Calculations/CH/PV_production_CH.pkl')"
   ]
  },
  {
   "cell_type": "code",
   "execution_count": 14,
   "id": "mechanical-loading",
   "metadata": {},
   "outputs": [],
   "source": [
    "total_elec_load = pd.read_pickle('Calculations/CH/load_CH_modern_full_retrofit_no_AC.pkl')"
   ]
  },
  {
   "cell_type": "code",
   "execution_count": 15,
   "id": "latter-garbage",
   "metadata": {},
   "outputs": [],
   "source": [
    "yearly_PV_production = sum(PV_production)"
   ]
  },
  {
   "cell_type": "code",
   "execution_count": 16,
   "id": "royal-leather",
   "metadata": {},
   "outputs": [],
   "source": [
    "electricity_PV_production = 1597 # kWh_el kWp-1"
   ]
  },
  {
   "cell_type": "code",
   "execution_count": 17,
   "id": "blocked-innocent",
   "metadata": {},
   "outputs": [],
   "source": [
    "PV_size = 6 #kW_p"
   ]
  },
  {
   "cell_type": "code",
   "execution_count": 18,
   "id": "downtown-assignment",
   "metadata": {},
   "outputs": [],
   "source": [
    "from Battery_dispatch_function import BatteryDispatch"
   ]
  },
  {
   "cell_type": "code",
   "execution_count": 19,
   "id": "valuable-alert",
   "metadata": {},
   "outputs": [],
   "source": [
    "curtailment_thresholds = [0, 0.1, 0.2, 0.3, 0.4, 0.5, 0.6, 0.7, 0.8, 0.9]\n",
    "#curtailment_thresholds = [0.4, 0.5]\n",
    "battery_size = list(range(0, 25))"
   ]
  },
  {
   "cell_type": "code",
   "execution_count": 20,
   "id": "affiliated-formula",
   "metadata": {},
   "outputs": [],
   "source": [
    "pd.options.mode.chained_assignment = None  # default='warn'\n",
    "\n",
    "results = pd.DataFrame()\n",
    "results['curtailment'] = curtailment_thresholds\n",
    "results['optimal_battery_size'] = ''    \n",
    "results['net_CO2_savings'] = ''\n",
    "    \n",
    "for curtailment in curtailment_thresholds:\n",
    "    \n",
    "    temp = 0\n",
    "    max_power_allowed = curtailment*PV_size\n",
    "    PV_production_used = PV_production.copy()\n",
    "    PV_production_used[PV_production_used > max_power_allowed] = max_power_allowed\n",
    "    PV_production_curtailed = PV_production - max_power_allowed\n",
    "    PV_production_curtailed[PV_production_curtailed < 0] = 0\n",
    "    power_balance = pd.DataFrame()\n",
    "    power_balance['consumption'] = total_elec_load\n",
    "    power_balance['from PV'] = PV_production_curtailed\n",
    "    power_balance['exchange grid'] = PV_production_curtailed - total_elec_load\n",
    "    power_balance['to Grid'] = (PV_production_curtailed - total_elec_load).clip(lower=0)\n",
    "    power_balance['from Grid'] = (total_elec_load - PV_production_curtailed).clip(lower=0)\n",
    "    power_balance = power_balance.fillna(0)\n",
    "    \n",
    "    temp = pd.DataFrame()\n",
    "    temp['battery_size'] = battery_size\n",
    "    temp['yearly_savings_kWh'] = ''\n",
    "    temp['yearly_savings_CO2'] = ''\n",
    "    temp['total_CO2_grid_reduced'] = ''\n",
    "    temp['total_CO2_battery_prod'] = ''\n",
    "    temp['net_CO2_savings'] = ''\n",
    "    for i in range(0, len(temp['battery_size'])):\n",
    "        powerbalance = BatteryDispatch(power_balance, temp['battery_size'].values[i], eta_discharge, max_c_charge, max_c_discharge)\n",
    "        temp['yearly_savings_kWh'].values[i] = -sum(power_balance['Discharging'])\n",
    "        temp['yearly_savings_CO2'].values[i] = temp['yearly_savings_kWh'].values[i] * grid_emissions_CH / 1000000\n",
    "        temp['total_CO2_grid_reduced'].values[i] = temp['yearly_savings_CO2'].values[i] * PV_lifetime\n",
    "        temp['total_elec_battery_prod'] = 2 * (elec_battery_prod * temp['battery_size']/0.8)\n",
    "        temp['total_CO2_battery_prod'].values[i] = temp['total_elec_battery_prod'].values[i] * CO2_intensity_China / 1000000\n",
    "        temp['net_CO2_savings'].values[i] =  temp['total_CO2_grid_reduced'].values[i] - temp['total_CO2_battery_prod'].values[i]\n",
    "    temp_max = temp[temp['net_CO2_savings']==temp['net_CO2_savings'].max()]\n",
    "    results.optimal_battery_size[results.curtailment == curtailment] = temp_max['battery_size'].values\n",
    "    results.net_CO2_savings[results.curtailment == curtailment] = temp_max['net_CO2_savings'].values\n"
   ]
  },
  {
   "cell_type": "code",
   "execution_count": 21,
   "id": "cardiac-hartford",
   "metadata": {},
   "outputs": [],
   "source": [
    "results.set_index(\"curtailment\",drop=True,inplace=True)"
   ]
  },
  {
   "cell_type": "code",
   "execution_count": 22,
   "id": "relevant-scanner",
   "metadata": {},
   "outputs": [
    {
     "data": {
      "image/png": "[encoded data removed]",
      "text/plain": [
       "<Figure size 1080x576 with 1 Axes>"
      ]
     },
     "metadata": {
      "needs_background": "light"
     },
     "output_type": "display_data"
    }
   ],
   "source": [
    "results.rename(columns={\"optimal_battery_size\": \"Optimal Battery Size (in kWh)\", \"net_CO2_savings\": \"Net CO2 savings (in tons)\"}).plot.bar(xlabel = 'Curtailment threshold', ylabel = 'Values');"
   ]
  }
 ],
 "metadata": {
  "kernelspec": {
   "display_name": "Python 3",
   "language": "python",
   "name": "python3"
  },
  "language_info": {
   "codemirror_mode": {
    "name": "ipython",
    "version": 3
   },
   "file_extension": ".py",
   "mimetype": "text/x-python",
   "name": "python",
   "nbconvert_exporter": "python",
   "pygments_lexer": "ipython3",
   "version": "3.6.9"
  }
 },
 "nbformat": 4,
 "nbformat_minor": 5
}
